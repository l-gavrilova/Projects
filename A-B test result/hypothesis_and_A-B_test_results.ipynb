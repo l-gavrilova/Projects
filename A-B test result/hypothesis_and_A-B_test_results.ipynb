{
 "cells": [
  {
   "cell_type": "markdown",
   "metadata": {},
   "source": [
    "# Приоритизация гипотез и анализ A/B-теста"
   ]
  },
  {
   "cell_type": "markdown",
   "metadata": {},
   "source": [
    "В нашем распоряжении данные крупного интернет-магазина.  \n",
    "  \n",
    "Вместе с отделом маркетинга подготовлен список гипотез для увеличения выручки.  \n",
    "\n",
    "**Цель проекта**\n",
    "1) Приоритизировать гипотезы;  \n",
    "  \n",
    "2) Запустить A/B-тест и проанализировать результаты.  \n",
    "   - Установить есть ли различия в среднем количестве заказов на посетителя между группами A и B.  \n",
    "   - Установить есть ли различия в среднем чеке заказа между группами A и B.  \n",
    "  \n",
    "**Описание данных**  \n",
    "  \n",
    "Файл hypothesis.csv, содержащий следующие данные:  \n",
    "-\tHypothesis — краткое описание гипотезы;\n",
    "-\tReach — охват пользователей по 10-балльной шкале;\n",
    "-\tImpact — влияние на пользователей по 10-балльной шкале;\n",
    "-\tConfidence — уверенность в гипотезе по 10-балльной шкале;\n",
    "-\tEfforts — затраты ресурсов на проверку гипотезы по 10-балльной шкале. Чем больше значение Efforts, тем дороже проверка гипотезы.\n",
    "  \n",
    "Файлы с результатами A/B-теста:  \n",
    "1) Файл orders.csv, содержащий следующие данные:\n",
    "-\ttransactionId — идентификатор заказа;\n",
    "-\tvisitorId — идентификатор пользователя, совершившего заказ;\n",
    "-\tdate — дата, когда был совершён заказ;\n",
    "-\trevenue — выручка заказа;\n",
    "-\tgroup — группа A/B-теста, в которую попал заказ.\n",
    "  \n",
    "2) Файл visitors.csv, содержащий следующие данные:\n",
    "-\tdate — дата;\n",
    "-\tgroup — группа A/B-теста;\n",
    "-\tvisitors — количество пользователей в указанную дату в указанной группе A/B-теста\n"
   ]
  },
  {
   "cell_type": "code",
   "execution_count": 1,
   "metadata": {},
   "outputs": [],
   "source": [
    "import pandas as pd\n",
    "import scipy.stats as stats\n",
    "import datetime as dt\n",
    "import numpy as np\n",
    "import matplotlib.pyplot as plt"
   ]
  },
  {
   "cell_type": "code",
   "execution_count": 2,
   "metadata": {},
   "outputs": [],
   "source": [
    "pd.options.display.max_colwidth = 110"
   ]
  },
  {
   "cell_type": "markdown",
   "metadata": {},
   "source": [
    "## Приоритизация гипотез."
   ]
  },
  {
   "cell_type": "markdown",
   "metadata": {},
   "source": [
    "### Считаем CSV-файл с данными с помощью библиотеки pandas и сохраним его в датафрейм hypothesis."
   ]
  },
  {
   "cell_type": "code",
   "execution_count": 3,
   "metadata": {},
   "outputs": [],
   "source": [
    "hypothesis = pd.read_csv('/datasets/hypothesis.csv')"
   ]
  },
  {
   "cell_type": "markdown",
   "metadata": {},
   "source": [
    "### Изучим общую информацию о полученном датафрейме."
   ]
  },
  {
   "cell_type": "code",
   "execution_count": 4,
   "metadata": {},
   "outputs": [
    {
     "data": {
      "text/html": [
       "<div>\n",
       "<style scoped>\n",
       "    .dataframe tbody tr th:only-of-type {\n",
       "        vertical-align: middle;\n",
       "    }\n",
       "\n",
       "    .dataframe tbody tr th {\n",
       "        vertical-align: top;\n",
       "    }\n",
       "\n",
       "    .dataframe thead th {\n",
       "        text-align: right;\n",
       "    }\n",
       "</style>\n",
       "<table border=\"1\" class=\"dataframe\">\n",
       "  <thead>\n",
       "    <tr style=\"text-align: right;\">\n",
       "      <th></th>\n",
       "      <th>Hypothesis</th>\n",
       "      <th>Reach</th>\n",
       "      <th>Impact</th>\n",
       "      <th>Confidence</th>\n",
       "      <th>Efforts</th>\n",
       "    </tr>\n",
       "  </thead>\n",
       "  <tbody>\n",
       "    <tr>\n",
       "      <th>0</th>\n",
       "      <td>Добавить два новых канала привлечения трафика, что позволит привлекать на 30% больше пользователей</td>\n",
       "      <td>3</td>\n",
       "      <td>10</td>\n",
       "      <td>8</td>\n",
       "      <td>6</td>\n",
       "    </tr>\n",
       "    <tr>\n",
       "      <th>1</th>\n",
       "      <td>Запустить собственную службу доставки, что сократит срок доставки заказов</td>\n",
       "      <td>2</td>\n",
       "      <td>5</td>\n",
       "      <td>4</td>\n",
       "      <td>10</td>\n",
       "    </tr>\n",
       "    <tr>\n",
       "      <th>2</th>\n",
       "      <td>Добавить блоки рекомендаций товаров на сайт интернет магазина, чтобы повысить конверсию и средний чек заказа</td>\n",
       "      <td>8</td>\n",
       "      <td>3</td>\n",
       "      <td>7</td>\n",
       "      <td>3</td>\n",
       "    </tr>\n",
       "    <tr>\n",
       "      <th>3</th>\n",
       "      <td>Изменить структура категорий, что увеличит конверсию, т.к. пользователи быстрее найдут нужный товар</td>\n",
       "      <td>8</td>\n",
       "      <td>3</td>\n",
       "      <td>3</td>\n",
       "      <td>8</td>\n",
       "    </tr>\n",
       "    <tr>\n",
       "      <th>4</th>\n",
       "      <td>Изменить цвет фона главной страницы, чтобы увеличить вовлеченность пользователей</td>\n",
       "      <td>3</td>\n",
       "      <td>1</td>\n",
       "      <td>1</td>\n",
       "      <td>1</td>\n",
       "    </tr>\n",
       "    <tr>\n",
       "      <th>5</th>\n",
       "      <td>Добавить страницу отзывов клиентов о магазине, что позволит увеличить количество заказов</td>\n",
       "      <td>3</td>\n",
       "      <td>2</td>\n",
       "      <td>2</td>\n",
       "      <td>3</td>\n",
       "    </tr>\n",
       "    <tr>\n",
       "      <th>6</th>\n",
       "      <td>Показать на главной странице баннеры с актуальными акциями и распродажами, чтобы увеличить конверсию</td>\n",
       "      <td>5</td>\n",
       "      <td>3</td>\n",
       "      <td>8</td>\n",
       "      <td>3</td>\n",
       "    </tr>\n",
       "    <tr>\n",
       "      <th>7</th>\n",
       "      <td>Добавить форму подписки на все основные страницы, чтобы собрать базу клиентов для email-рассылок</td>\n",
       "      <td>10</td>\n",
       "      <td>7</td>\n",
       "      <td>8</td>\n",
       "      <td>5</td>\n",
       "    </tr>\n",
       "    <tr>\n",
       "      <th>8</th>\n",
       "      <td>Запустить акцию, дающую скидку на товар в день рождения</td>\n",
       "      <td>1</td>\n",
       "      <td>9</td>\n",
       "      <td>9</td>\n",
       "      <td>5</td>\n",
       "    </tr>\n",
       "  </tbody>\n",
       "</table>\n",
       "</div>"
      ],
      "text/plain": [
       "                                                                                                     Hypothesis  \\\n",
       "0            Добавить два новых канала привлечения трафика, что позволит привлекать на 30% больше пользователей   \n",
       "1                                     Запустить собственную службу доставки, что сократит срок доставки заказов   \n",
       "2  Добавить блоки рекомендаций товаров на сайт интернет магазина, чтобы повысить конверсию и средний чек заказа   \n",
       "3           Изменить структура категорий, что увеличит конверсию, т.к. пользователи быстрее найдут нужный товар   \n",
       "4                              Изменить цвет фона главной страницы, чтобы увеличить вовлеченность пользователей   \n",
       "5                      Добавить страницу отзывов клиентов о магазине, что позволит увеличить количество заказов   \n",
       "6          Показать на главной странице баннеры с актуальными акциями и распродажами, чтобы увеличить конверсию   \n",
       "7              Добавить форму подписки на все основные страницы, чтобы собрать базу клиентов для email-рассылок   \n",
       "8                                                       Запустить акцию, дающую скидку на товар в день рождения   \n",
       "\n",
       "   Reach  Impact  Confidence  Efforts  \n",
       "0      3      10           8        6  \n",
       "1      2       5           4       10  \n",
       "2      8       3           7        3  \n",
       "3      8       3           3        8  \n",
       "4      3       1           1        1  \n",
       "5      3       2           2        3  \n",
       "6      5       3           8        3  \n",
       "7     10       7           8        5  \n",
       "8      1       9           9        5  "
      ]
     },
     "execution_count": 4,
     "metadata": {},
     "output_type": "execute_result"
    }
   ],
   "source": [
    "hypothesis"
   ]
  },
  {
   "cell_type": "markdown",
   "metadata": {},
   "source": [
    "Всего 9 гипотез. В названии столбцов есть прописные буквы. Пропущенных значений нет."
   ]
  },
  {
   "cell_type": "markdown",
   "metadata": {},
   "source": [
    "Выведем основную информацию о датафрейме с помощью метода info()"
   ]
  },
  {
   "cell_type": "code",
   "execution_count": 5,
   "metadata": {},
   "outputs": [
    {
     "name": "stdout",
     "output_type": "stream",
     "text": [
      "<class 'pandas.core.frame.DataFrame'>\n",
      "RangeIndex: 9 entries, 0 to 8\n",
      "Data columns (total 5 columns):\n",
      " #   Column      Non-Null Count  Dtype \n",
      "---  ------      --------------  ----- \n",
      " 0   Hypothesis  9 non-null      object\n",
      " 1   Reach       9 non-null      int64 \n",
      " 2   Impact      9 non-null      int64 \n",
      " 3   Confidence  9 non-null      int64 \n",
      " 4   Efforts     9 non-null      int64 \n",
      "dtypes: int64(4), object(1)\n",
      "memory usage: 488.0+ bytes\n"
     ]
    }
   ],
   "source": [
    "hypothesis.info()"
   ]
  },
  {
   "cell_type": "markdown",
   "metadata": {},
   "source": [
    "Типы данных соответствуют ожидаемым."
   ]
  },
  {
   "cell_type": "markdown",
   "metadata": {},
   "source": [
    "### Заменим в названиях столбцов прописные буквы строчными."
   ]
  },
  {
   "cell_type": "code",
   "execution_count": 6,
   "metadata": {},
   "outputs": [
    {
     "data": {
      "text/plain": [
       "Index(['hypothesis', 'reach', 'impact', 'confidence', 'efforts'], dtype='object')"
      ]
     },
     "execution_count": 6,
     "metadata": {},
     "output_type": "execute_result"
    }
   ],
   "source": [
    "hypothesis.columns = hypothesis.columns.str.lower()\n",
    "hypothesis.columns"
   ]
  },
  {
   "cell_type": "markdown",
   "metadata": {},
   "source": [
    "### Применим фреймворк ICE для приоритизации гипотез. Отсортируем их по убыванию приоритета."
   ]
  },
  {
   "cell_type": "code",
   "execution_count": 7,
   "metadata": {},
   "outputs": [
    {
     "name": "stdout",
     "output_type": "stream",
     "text": [
      "                                                                                                     hypothesis  \\\n",
      "8                                                       Запустить акцию, дающую скидку на товар в день рождения   \n",
      "0            Добавить два новых канала привлечения трафика, что позволит привлекать на 30% больше пользователей   \n",
      "7              Добавить форму подписки на все основные страницы, чтобы собрать базу клиентов для email-рассылок   \n",
      "6          Показать на главной странице баннеры с актуальными акциями и распродажами, чтобы увеличить конверсию   \n",
      "2  Добавить блоки рекомендаций товаров на сайт интернет магазина, чтобы повысить конверсию и средний чек заказа   \n",
      "1                                     Запустить собственную службу доставки, что сократит срок доставки заказов   \n",
      "5                      Добавить страницу отзывов клиентов о магазине, что позволит увеличить количество заказов   \n",
      "3           Изменить структура категорий, что увеличит конверсию, т.к. пользователи быстрее найдут нужный товар   \n",
      "4                              Изменить цвет фона главной страницы, чтобы увеличить вовлеченность пользователей   \n",
      "\n",
      "     ice  \n",
      "8  16.20  \n",
      "0  13.33  \n",
      "7  11.20  \n",
      "6   8.00  \n",
      "2   7.00  \n",
      "1   2.00  \n",
      "5   1.33  \n",
      "3   1.12  \n",
      "4   1.00  \n"
     ]
    }
   ],
   "source": [
    "hypothesis['ice'] = hypothesis['impact'] * hypothesis['confidence'] / hypothesis['efforts']\n",
    "hypothesis['ice'] = hypothesis['ice'].round(2)\n",
    "print(hypothesis[['hypothesis', 'ice']].sort_values(by='ice', ascending=False))"
   ]
  },
  {
   "cell_type": "markdown",
   "metadata": {},
   "source": [
    "Наиболее перспективные гипотезы по ICE:\n",
    "1) 8 - Запустить акцию, дающую скидку на товар в день рождения  \n",
    "2) 0 - Добавить два новых канала привлечения трафика, что позволит привлекать на 30% больше пользователей  \n",
    "3) 7 - Добавить форму подписки на все основные страницы, чтобы собрать базу клиентов для email-рассылок  \n",
    "4) 6 - Показать на главной странице баннеры с актуальными акциями и распродажами, чтобы увеличить конверсию  \n",
    "5) 2 - Добавить блоки рекомендаций товаров на сайт интернет магазина, чтобы повысить конверсию и средний чек заказа  "
   ]
  },
  {
   "cell_type": "markdown",
   "metadata": {},
   "source": [
    "### Применим фреймворк RICE для приоритизации гипотез. Отсортируем их по убыванию приоритета."
   ]
  },
  {
   "cell_type": "code",
   "execution_count": 8,
   "metadata": {},
   "outputs": [
    {
     "name": "stdout",
     "output_type": "stream",
     "text": [
      "                                                                                                     hypothesis  \\\n",
      "7              Добавить форму подписки на все основные страницы, чтобы собрать базу клиентов для email-рассылок   \n",
      "2  Добавить блоки рекомендаций товаров на сайт интернет магазина, чтобы повысить конверсию и средний чек заказа   \n",
      "0            Добавить два новых канала привлечения трафика, что позволит привлекать на 30% больше пользователей   \n",
      "6          Показать на главной странице баннеры с актуальными акциями и распродажами, чтобы увеличить конверсию   \n",
      "8                                                       Запустить акцию, дающую скидку на товар в день рождения   \n",
      "3           Изменить структура категорий, что увеличит конверсию, т.к. пользователи быстрее найдут нужный товар   \n",
      "1                                     Запустить собственную службу доставки, что сократит срок доставки заказов   \n",
      "5                      Добавить страницу отзывов клиентов о магазине, что позволит увеличить количество заказов   \n",
      "4                              Изменить цвет фона главной страницы, чтобы увеличить вовлеченность пользователей   \n",
      "\n",
      "    rice  \n",
      "7  112.0  \n",
      "2   56.0  \n",
      "0   40.0  \n",
      "6   40.0  \n",
      "8   16.2  \n",
      "3    9.0  \n",
      "1    4.0  \n",
      "5    4.0  \n",
      "4    3.0  \n"
     ]
    }
   ],
   "source": [
    "hypothesis['rice'] = hypothesis['reach'] * hypothesis['impact'] * hypothesis['confidence'] / hypothesis['efforts']\n",
    "print(hypothesis[['hypothesis', 'rice']].sort_values(by='rice', ascending=False))"
   ]
  },
  {
   "cell_type": "markdown",
   "metadata": {},
   "source": [
    "Наиболее перспективные гипотезы по RICE: \n",
    "1) 7 - Добавить форму подписки на все основные страницы, чтобы собрать базу клиентов для email-рассылок  \n",
    "2) 2 - Добавить блоки рекомендаций товаров на сайт интернет магазина, чтобы повысить конверсию и средний чек заказа  \n",
    "3) 0 - Добавить два новых канала привлечения трафика, что позволит привлекать на 30% больше пользователей  \n",
    "4) 6 - Показать на главной странице баннеры с актуальными акциями и распродажами, чтобы увеличить конверсию  \n",
    "5) 8 - Запустить акцию, дающую скидку на товар в день рождения  "
   ]
  },
  {
   "cell_type": "markdown",
   "metadata": {},
   "source": [
    "### Проанализируем, как изменилась приоритизация гипотез при применении RICE вместо ICE."
   ]
  },
  {
   "cell_type": "markdown",
   "metadata": {},
   "source": [
    "5 самых перспективных гипотез по ICE и RICE совпадают, однако по приоритету расположены они в разных последовательностях.  \n",
    "  \n",
    "При применении ICE:  \n",
    "1) 8 - Запустить акцию, дающую скидку на товар в день рождения\n",
    "\n",
    "2) 0 - Добавить два новых канала привлечения трафика, что позволит привлекать на 30% больше пользователей\n",
    "\n",
    "3) 7 - Добавить форму подписки на все основные страницы, чтобы собрать базу клиентов для email-рассылок\n",
    "\n",
    "4) 6 - Показать на главной странице баннеры с актуальными акциями и распродажами, чтобы увеличить конверсию\n",
    "\n",
    "5) 2 - Добавить блоки рекомендаций товаров на сайт интернет магазина, чтобы повысить конверсию и средний чек заказа\n",
    "\n",
    "При применении RICE:  \n",
    "1) 7 - Добавить форму подписки на все основные страницы, чтобы собрать базу клиентов для email-рассылок\n",
    "\n",
    "2) 2 - Добавить блоки рекомендаций товаров на сайт интернет магазина, чтобы повысить конверсию и средний чек заказа\n",
    "\n",
    "3) 0 - Добавить два новых канала привлечения трафика, что позволит привлекать на 30% больше пользователей\n",
    "\n",
    "4) 6 - Показать на главной странице баннеры с актуальными акциями и распродажами, чтобы увеличить конверсию\n",
    "\n",
    "5) 8 - Запустить акцию, дающую скидку на товар в день рождения\n",
    "\n",
    "Самая перспективная гипотеза по ICE 8 (Запустить акцию, дающую скидку на товар в день рождения), но так как она затрагивает не большую долю пользователей (параметр Reach равен 1), то при применении RICE она опустилась на 5 место.  \n",
    "  \n",
    "Зато на первом месте стала гипотеза 7 (Добавить форму подписки на все основные страницы, чтобы собрать базу клиентов для email-рассылок). Данная гипотеза имеет самый высокий параметр Reach (10), то есть она затронет сразу всех пользователей.  \n",
    "  \n",
    "Изменения в приоритизации произошли, потому что параметр Reach (как много пользователей затронет гипотеза) оказывает прямое воздействие на приоритет гипотезы при применении RICE вместо ICE."
   ]
  },
  {
   "cell_type": "markdown",
   "metadata": {},
   "source": [
    "### Вывод:  \n",
    "- Всего в файле hypothesis.csv содержатся параметры 9 гипотез;\n",
    "- В названии столбцов прописные буквы заменены строчными;\n",
    "- Пропущенных значений нет;\n",
    "- При применении фреймворка ICE для приоритизации гипотез составлен список из 5 самых перспективных гипотез:  \n",
    "    1) 8 - Запустить акцию, дающую скидку на товар в день рождения  \n",
    "    2) 0 - Добавить два новых канала привлечения трафика, что позволит привлекать на 30% больше пользователей  \n",
    "    3) 7 - Добавить форму подписки на все основные страницы, чтобы собрать базу клиентов для email-рассылок  \n",
    "    4) 6 - Показать на главной странице баннеры с актуальными акциями и распродажами, чтобы увеличить конверсию  \n",
    "    5) 2 - Добавить блоки рекомендаций товаров на сайт интернет магазина, чтобы повысить конверсию и средний чек заказа  \n",
    "- При применении фреймворка RICE для приоритизации гипотез составлен список из 5 самых перспективных гипотез:  \n",
    "    1) 7 - Добавить форму подписки на все основные страницы, чтобы собрать базу клиентов для email-рассылок  \n",
    "    2) 2 - Добавить блоки рекомендаций товаров на сайт интернет магазина, чтобы повысить конверсию и средний чек заказа  \n",
    "    3) 0 - Добавить два новых канала привлечения трафика, что позволит привлекать на 30% больше пользователей  \n",
    "    4) 6 - Показать на главной странице баннеры с актуальными акциями и распродажами, чтобы увеличить конверсию  \n",
    "    5) 8 - Запустить акцию, дающую скидку на товар в день рождения"
   ]
  },
  {
   "cell_type": "markdown",
   "metadata": {},
   "source": [
    "## Анализ A/B-теста"
   ]
  },
  {
   "cell_type": "markdown",
   "metadata": {},
   "source": [
    "### Считаем CSV-файлы с данными с помощью библиотеки pandas и сохраним их в датафреймы orders и visitors."
   ]
  },
  {
   "cell_type": "code",
   "execution_count": 9,
   "metadata": {},
   "outputs": [],
   "source": [
    "orders = pd.read_csv('/datasets/orders.csv')\n",
    "visitors = pd.read_csv('/datasets/visitors.csv')"
   ]
  },
  {
   "cell_type": "markdown",
   "metadata": {},
   "source": [
    "### Изучим общую информацию о датафрейме orders."
   ]
  },
  {
   "cell_type": "code",
   "execution_count": 10,
   "metadata": {},
   "outputs": [
    {
     "data": {
      "text/html": [
       "<div>\n",
       "<style scoped>\n",
       "    .dataframe tbody tr th:only-of-type {\n",
       "        vertical-align: middle;\n",
       "    }\n",
       "\n",
       "    .dataframe tbody tr th {\n",
       "        vertical-align: top;\n",
       "    }\n",
       "\n",
       "    .dataframe thead th {\n",
       "        text-align: right;\n",
       "    }\n",
       "</style>\n",
       "<table border=\"1\" class=\"dataframe\">\n",
       "  <thead>\n",
       "    <tr style=\"text-align: right;\">\n",
       "      <th></th>\n",
       "      <th>transactionId</th>\n",
       "      <th>visitorId</th>\n",
       "      <th>date</th>\n",
       "      <th>revenue</th>\n",
       "      <th>group</th>\n",
       "    </tr>\n",
       "  </thead>\n",
       "  <tbody>\n",
       "    <tr>\n",
       "      <th>0</th>\n",
       "      <td>3667963787</td>\n",
       "      <td>3312258926</td>\n",
       "      <td>2019-08-15</td>\n",
       "      <td>1650</td>\n",
       "      <td>B</td>\n",
       "    </tr>\n",
       "    <tr>\n",
       "      <th>1</th>\n",
       "      <td>2804400009</td>\n",
       "      <td>3642806036</td>\n",
       "      <td>2019-08-15</td>\n",
       "      <td>730</td>\n",
       "      <td>B</td>\n",
       "    </tr>\n",
       "    <tr>\n",
       "      <th>2</th>\n",
       "      <td>2961555356</td>\n",
       "      <td>4069496402</td>\n",
       "      <td>2019-08-15</td>\n",
       "      <td>400</td>\n",
       "      <td>A</td>\n",
       "    </tr>\n",
       "    <tr>\n",
       "      <th>3</th>\n",
       "      <td>3797467345</td>\n",
       "      <td>1196621759</td>\n",
       "      <td>2019-08-15</td>\n",
       "      <td>9759</td>\n",
       "      <td>B</td>\n",
       "    </tr>\n",
       "    <tr>\n",
       "      <th>4</th>\n",
       "      <td>2282983706</td>\n",
       "      <td>2322279887</td>\n",
       "      <td>2019-08-15</td>\n",
       "      <td>2308</td>\n",
       "      <td>B</td>\n",
       "    </tr>\n",
       "    <tr>\n",
       "      <th>...</th>\n",
       "      <td>...</td>\n",
       "      <td>...</td>\n",
       "      <td>...</td>\n",
       "      <td>...</td>\n",
       "      <td>...</td>\n",
       "    </tr>\n",
       "    <tr>\n",
       "      <th>1192</th>\n",
       "      <td>2662137336</td>\n",
       "      <td>3733762160</td>\n",
       "      <td>2019-08-14</td>\n",
       "      <td>6490</td>\n",
       "      <td>B</td>\n",
       "    </tr>\n",
       "    <tr>\n",
       "      <th>1193</th>\n",
       "      <td>2203539145</td>\n",
       "      <td>370388673</td>\n",
       "      <td>2019-08-14</td>\n",
       "      <td>3190</td>\n",
       "      <td>A</td>\n",
       "    </tr>\n",
       "    <tr>\n",
       "      <th>1194</th>\n",
       "      <td>1807773912</td>\n",
       "      <td>573423106</td>\n",
       "      <td>2019-08-14</td>\n",
       "      <td>10550</td>\n",
       "      <td>A</td>\n",
       "    </tr>\n",
       "    <tr>\n",
       "      <th>1195</th>\n",
       "      <td>1947021204</td>\n",
       "      <td>1614305549</td>\n",
       "      <td>2019-08-14</td>\n",
       "      <td>100</td>\n",
       "      <td>A</td>\n",
       "    </tr>\n",
       "    <tr>\n",
       "      <th>1196</th>\n",
       "      <td>3936777065</td>\n",
       "      <td>2108080724</td>\n",
       "      <td>2019-08-15</td>\n",
       "      <td>202740</td>\n",
       "      <td>B</td>\n",
       "    </tr>\n",
       "  </tbody>\n",
       "</table>\n",
       "<p>1197 rows × 5 columns</p>\n",
       "</div>"
      ],
      "text/plain": [
       "      transactionId   visitorId        date  revenue group\n",
       "0        3667963787  3312258926  2019-08-15     1650     B\n",
       "1        2804400009  3642806036  2019-08-15      730     B\n",
       "2        2961555356  4069496402  2019-08-15      400     A\n",
       "3        3797467345  1196621759  2019-08-15     9759     B\n",
       "4        2282983706  2322279887  2019-08-15     2308     B\n",
       "...             ...         ...         ...      ...   ...\n",
       "1192     2662137336  3733762160  2019-08-14     6490     B\n",
       "1193     2203539145   370388673  2019-08-14     3190     A\n",
       "1194     1807773912   573423106  2019-08-14    10550     A\n",
       "1195     1947021204  1614305549  2019-08-14      100     A\n",
       "1196     3936777065  2108080724  2019-08-15   202740     B\n",
       "\n",
       "[1197 rows x 5 columns]"
      ]
     },
     "execution_count": 10,
     "metadata": {},
     "output_type": "execute_result"
    }
   ],
   "source": [
    "orders"
   ]
  },
  {
   "cell_type": "code",
   "execution_count": 11,
   "metadata": {},
   "outputs": [
    {
     "name": "stdout",
     "output_type": "stream",
     "text": [
      "<class 'pandas.core.frame.DataFrame'>\n",
      "RangeIndex: 1197 entries, 0 to 1196\n",
      "Data columns (total 5 columns):\n",
      " #   Column         Non-Null Count  Dtype \n",
      "---  ------         --------------  ----- \n",
      " 0   transactionId  1197 non-null   int64 \n",
      " 1   visitorId      1197 non-null   int64 \n",
      " 2   date           1197 non-null   object\n",
      " 3   revenue        1197 non-null   int64 \n",
      " 4   group          1197 non-null   object\n",
      "dtypes: int64(3), object(2)\n",
      "memory usage: 46.9+ KB\n"
     ]
    }
   ],
   "source": [
    "orders.info()"
   ]
  },
  {
   "cell_type": "markdown",
   "metadata": {},
   "source": [
    "Всего 1197 строк и 5 столбцов. В названии столбцов присутствуют прописные буквы. Заменим их на строчные. Тип данных в столбце date заменим на datetime."
   ]
  },
  {
   "cell_type": "code",
   "execution_count": 12,
   "metadata": {},
   "outputs": [],
   "source": [
    "orders['date'] = pd.to_datetime(orders['date'])\n",
    "orders.columns = ['transaction_id', 'visitor_id', 'date', 'revenue', 'group']"
   ]
  },
  {
   "cell_type": "code",
   "execution_count": 13,
   "metadata": {},
   "outputs": [
    {
     "name": "stdout",
     "output_type": "stream",
     "text": [
      "<class 'pandas.core.frame.DataFrame'>\n",
      "RangeIndex: 1197 entries, 0 to 1196\n",
      "Data columns (total 5 columns):\n",
      " #   Column          Non-Null Count  Dtype         \n",
      "---  ------          --------------  -----         \n",
      " 0   transaction_id  1197 non-null   int64         \n",
      " 1   visitor_id      1197 non-null   int64         \n",
      " 2   date            1197 non-null   datetime64[ns]\n",
      " 3   revenue         1197 non-null   int64         \n",
      " 4   group           1197 non-null   object        \n",
      "dtypes: datetime64[ns](1), int64(3), object(1)\n",
      "memory usage: 46.9+ KB\n"
     ]
    }
   ],
   "source": [
    "orders.info()"
   ]
  },
  {
   "cell_type": "markdown",
   "metadata": {},
   "source": [
    "### Проверим на наличие дубликатов и пропущенных значений."
   ]
  },
  {
   "cell_type": "code",
   "execution_count": 14,
   "metadata": {},
   "outputs": [
    {
     "data": {
      "text/plain": [
       "transaction_id    0\n",
       "visitor_id        0\n",
       "date              0\n",
       "revenue           0\n",
       "group             0\n",
       "dtype: int64"
      ]
     },
     "execution_count": 14,
     "metadata": {},
     "output_type": "execute_result"
    }
   ],
   "source": [
    "orders.isna().sum()"
   ]
  },
  {
   "cell_type": "code",
   "execution_count": 15,
   "metadata": {},
   "outputs": [
    {
     "data": {
      "text/plain": [
       "0"
      ]
     },
     "execution_count": 15,
     "metadata": {},
     "output_type": "execute_result"
    }
   ],
   "source": [
    "orders.duplicated().sum()"
   ]
  },
  {
   "cell_type": "markdown",
   "metadata": {},
   "source": [
    "Дубликаты и пропущенные значения не установлены."
   ]
  },
  {
   "cell_type": "code",
   "execution_count": 16,
   "metadata": {
    "scrolled": true
   },
   "outputs": [
    {
     "data": {
      "text/plain": [
       "0"
      ]
     },
     "execution_count": 16,
     "metadata": {},
     "output_type": "execute_result"
    }
   ],
   "source": [
    "orders['transaction_id'].duplicated().sum()"
   ]
  },
  {
   "cell_type": "markdown",
   "metadata": {},
   "source": [
    "Дубликатов в идентификаторах заказа нет."
   ]
  },
  {
   "cell_type": "code",
   "execution_count": 17,
   "metadata": {
    "scrolled": true
   },
   "outputs": [
    {
     "data": {
      "image/png": "[encoded data removed]",
      "text/plain": [
       "<Figure size 432x288 with 1 Axes>"
      ]
     },
     "metadata": {
      "needs_background": "light"
     },
     "output_type": "display_data"
    }
   ],
   "source": [
    "orders['revenue'].hist();"
   ]
  },
  {
   "cell_type": "markdown",
   "metadata": {},
   "source": [
    "Практически все значения выручки лежат в одном диапазоне до 100 000"
   ]
  },
  {
   "cell_type": "code",
   "execution_count": 18,
   "metadata": {},
   "outputs": [
    {
     "name": "stdout",
     "output_type": "stream",
     "text": [
      "2019-08-01 00:00:00 2019-08-31 00:00:00\n"
     ]
    }
   ],
   "source": [
    "print(orders['date'].min(), orders['date'].max())"
   ]
  },
  {
   "cell_type": "markdown",
   "metadata": {},
   "source": [
    "Даты заказов в диапазоне одного месяца - августа 2019."
   ]
  },
  {
   "cell_type": "code",
   "execution_count": 19,
   "metadata": {},
   "outputs": [
    {
     "data": {
      "text/plain": [
       "array(['B', 'A'], dtype=object)"
      ]
     },
     "execution_count": 19,
     "metadata": {},
     "output_type": "execute_result"
    }
   ],
   "source": [
    "orders['group'].unique()"
   ]
  },
  {
   "cell_type": "markdown",
   "metadata": {},
   "source": [
    "Всего 2 группы: А и В"
   ]
  },
  {
   "cell_type": "code",
   "execution_count": 20,
   "metadata": {},
   "outputs": [
    {
     "data": {
      "text/plain": [
       "1031"
      ]
     },
     "execution_count": 20,
     "metadata": {},
     "output_type": "execute_result"
    }
   ],
   "source": [
    "len(orders['visitor_id'].unique())"
   ]
  },
  {
   "cell_type": "markdown",
   "metadata": {},
   "source": [
    "Всего 1031 уникальный пользователь."
   ]
  },
  {
   "cell_type": "markdown",
   "metadata": {},
   "source": [
    "При группировке по столбцам visitor_id и group, установлено, что пользователь 8300375 отражен и в группе А и в группе В."
   ]
  },
  {
   "cell_type": "code",
   "execution_count": 21,
   "metadata": {},
   "outputs": [
    {
     "data": {
      "text/html": [
       "<div>\n",
       "<style scoped>\n",
       "    .dataframe tbody tr th:only-of-type {\n",
       "        vertical-align: middle;\n",
       "    }\n",
       "\n",
       "    .dataframe tbody tr th {\n",
       "        vertical-align: top;\n",
       "    }\n",
       "\n",
       "    .dataframe thead th {\n",
       "        text-align: right;\n",
       "    }\n",
       "</style>\n",
       "<table border=\"1\" class=\"dataframe\">\n",
       "  <thead>\n",
       "    <tr style=\"text-align: right;\">\n",
       "      <th></th>\n",
       "      <th></th>\n",
       "      <th>transaction_id</th>\n",
       "    </tr>\n",
       "    <tr>\n",
       "      <th>visitor_id</th>\n",
       "      <th>group</th>\n",
       "      <th></th>\n",
       "    </tr>\n",
       "  </thead>\n",
       "  <tbody>\n",
       "    <tr>\n",
       "      <th>5114589</th>\n",
       "      <th>B</th>\n",
       "      <td>1</td>\n",
       "    </tr>\n",
       "    <tr>\n",
       "      <th>6958315</th>\n",
       "      <th>B</th>\n",
       "      <td>1</td>\n",
       "    </tr>\n",
       "    <tr>\n",
       "      <th rowspan=\"2\" valign=\"top\">8300375</th>\n",
       "      <th>A</th>\n",
       "      <td>1</td>\n",
       "    </tr>\n",
       "    <tr>\n",
       "      <th>B</th>\n",
       "      <td>1</td>\n",
       "    </tr>\n",
       "    <tr>\n",
       "      <th>11685486</th>\n",
       "      <th>A</th>\n",
       "      <td>1</td>\n",
       "    </tr>\n",
       "    <tr>\n",
       "      <th>...</th>\n",
       "      <th>...</th>\n",
       "      <td>...</td>\n",
       "    </tr>\n",
       "    <tr>\n",
       "      <th>4266935830</th>\n",
       "      <th>B</th>\n",
       "      <td>1</td>\n",
       "    </tr>\n",
       "    <tr>\n",
       "      <th>4278982564</th>\n",
       "      <th>A</th>\n",
       "      <td>1</td>\n",
       "    </tr>\n",
       "    <tr>\n",
       "      <th>4279090005</th>\n",
       "      <th>B</th>\n",
       "      <td>1</td>\n",
       "    </tr>\n",
       "    <tr>\n",
       "      <th>4281247801</th>\n",
       "      <th>B</th>\n",
       "      <td>1</td>\n",
       "    </tr>\n",
       "    <tr>\n",
       "      <th>4283872382</th>\n",
       "      <th>B</th>\n",
       "      <td>1</td>\n",
       "    </tr>\n",
       "  </tbody>\n",
       "</table>\n",
       "<p>1089 rows × 1 columns</p>\n",
       "</div>"
      ],
      "text/plain": [
       "                  transaction_id\n",
       "visitor_id group                \n",
       "5114589    B                   1\n",
       "6958315    B                   1\n",
       "8300375    A                   1\n",
       "           B                   1\n",
       "11685486   A                   1\n",
       "...                          ...\n",
       "4266935830 B                   1\n",
       "4278982564 A                   1\n",
       "4279090005 B                   1\n",
       "4281247801 B                   1\n",
       "4283872382 B                   1\n",
       "\n",
       "[1089 rows x 1 columns]"
      ]
     },
     "execution_count": 21,
     "metadata": {},
     "output_type": "execute_result"
    }
   ],
   "source": [
    "orders.groupby(['visitor_id', 'group']).agg({'transaction_id':'count'})"
   ]
  },
  {
   "cell_type": "markdown",
   "metadata": {},
   "source": [
    "Так как в сгруппированном датафрейме всего 1089 строк, а уникальных пользователей 1031, то такой пользователь (который входит в обе группы одновременно) не один. Найдем всех таких пользователей."
   ]
  },
  {
   "cell_type": "code",
   "execution_count": 22,
   "metadata": {},
   "outputs": [
    {
     "data": {
      "text/html": [
       "<div>\n",
       "<style scoped>\n",
       "    .dataframe tbody tr th:only-of-type {\n",
       "        vertical-align: middle;\n",
       "    }\n",
       "\n",
       "    .dataframe tbody tr th {\n",
       "        vertical-align: top;\n",
       "    }\n",
       "\n",
       "    .dataframe thead th {\n",
       "        text-align: right;\n",
       "    }\n",
       "</style>\n",
       "<table border=\"1\" class=\"dataframe\">\n",
       "  <thead>\n",
       "    <tr style=\"text-align: right;\">\n",
       "      <th>group</th>\n",
       "      <th>A</th>\n",
       "      <th>B</th>\n",
       "    </tr>\n",
       "    <tr>\n",
       "      <th>visitor_id</th>\n",
       "      <th></th>\n",
       "      <th></th>\n",
       "    </tr>\n",
       "  </thead>\n",
       "  <tbody>\n",
       "    <tr>\n",
       "      <th>8300375</th>\n",
       "      <td>1790.000000</td>\n",
       "      <td>10510.000000</td>\n",
       "    </tr>\n",
       "    <tr>\n",
       "      <th>199603092</th>\n",
       "      <td>4923.000000</td>\n",
       "      <td>3488.000000</td>\n",
       "    </tr>\n",
       "    <tr>\n",
       "      <th>232979603</th>\n",
       "      <td>60.000000</td>\n",
       "      <td>2640.000000</td>\n",
       "    </tr>\n",
       "    <tr>\n",
       "      <th>237748145</th>\n",
       "      <td>797.500000</td>\n",
       "      <td>7620.000000</td>\n",
       "    </tr>\n",
       "    <tr>\n",
       "      <th>276558944</th>\n",
       "      <td>5050.000000</td>\n",
       "      <td>12350.000000</td>\n",
       "    </tr>\n",
       "    <tr>\n",
       "      <th>351125977</th>\n",
       "      <td>4485.000000</td>\n",
       "      <td>15185.000000</td>\n",
       "    </tr>\n",
       "    <tr>\n",
       "      <th>393266494</th>\n",
       "      <td>21550.000000</td>\n",
       "      <td>16870.000000</td>\n",
       "    </tr>\n",
       "    <tr>\n",
       "      <th>457167155</th>\n",
       "      <td>1620.000000</td>\n",
       "      <td>2745.666667</td>\n",
       "    </tr>\n",
       "    <tr>\n",
       "      <th>471551937</th>\n",
       "      <td>22950.000000</td>\n",
       "      <td>3460.000000</td>\n",
       "    </tr>\n",
       "    <tr>\n",
       "      <th>477780734</th>\n",
       "      <td>7300.000000</td>\n",
       "      <td>3650.000000</td>\n",
       "    </tr>\n",
       "    <tr>\n",
       "      <th>818047933</th>\n",
       "      <td>3460.000000</td>\n",
       "      <td>400.000000</td>\n",
       "    </tr>\n",
       "    <tr>\n",
       "      <th>963407295</th>\n",
       "      <td>4940.000000</td>\n",
       "      <td>300.000000</td>\n",
       "    </tr>\n",
       "    <tr>\n",
       "      <th>1230306981</th>\n",
       "      <td>6146.666667</td>\n",
       "      <td>6420.000000</td>\n",
       "    </tr>\n",
       "    <tr>\n",
       "      <th>1294878855</th>\n",
       "      <td>13980.000000</td>\n",
       "      <td>3080.000000</td>\n",
       "    </tr>\n",
       "    <tr>\n",
       "      <th>1316129916</th>\n",
       "      <td>93940.000000</td>\n",
       "      <td>830.000000</td>\n",
       "    </tr>\n",
       "    <tr>\n",
       "      <th>1333886533</th>\n",
       "      <td>1460.000000</td>\n",
       "      <td>2950.000000</td>\n",
       "    </tr>\n",
       "    <tr>\n",
       "      <th>1404934699</th>\n",
       "      <td>8640.000000</td>\n",
       "      <td>17660.000000</td>\n",
       "    </tr>\n",
       "    <tr>\n",
       "      <th>1602967004</th>\n",
       "      <td>4040.000000</td>\n",
       "      <td>4740.000000</td>\n",
       "    </tr>\n",
       "    <tr>\n",
       "      <th>1614305549</th>\n",
       "      <td>793.333333</td>\n",
       "      <td>9680.000000</td>\n",
       "    </tr>\n",
       "    <tr>\n",
       "      <th>1648269707</th>\n",
       "      <td>860.000000</td>\n",
       "      <td>290.000000</td>\n",
       "    </tr>\n",
       "    <tr>\n",
       "      <th>1668030113</th>\n",
       "      <td>2600.000000</td>\n",
       "      <td>3180.000000</td>\n",
       "    </tr>\n",
       "    <tr>\n",
       "      <th>1738359350</th>\n",
       "      <td>3070.000000</td>\n",
       "      <td>1445.000000</td>\n",
       "    </tr>\n",
       "    <tr>\n",
       "      <th>1801183820</th>\n",
       "      <td>390.000000</td>\n",
       "      <td>100.000000</td>\n",
       "    </tr>\n",
       "    <tr>\n",
       "      <th>1959144690</th>\n",
       "      <td>16480.000000</td>\n",
       "      <td>16480.000000</td>\n",
       "    </tr>\n",
       "    <tr>\n",
       "      <th>2038680547</th>\n",
       "      <td>1714.000000</td>\n",
       "      <td>2300.000000</td>\n",
       "    </tr>\n",
       "    <tr>\n",
       "      <th>2044997962</th>\n",
       "      <td>2540.000000</td>\n",
       "      <td>3540.000000</td>\n",
       "    </tr>\n",
       "    <tr>\n",
       "      <th>2378935119</th>\n",
       "      <td>15892.500000</td>\n",
       "      <td>15873.800000</td>\n",
       "    </tr>\n",
       "    <tr>\n",
       "      <th>2458001652</th>\n",
       "      <td>6561.800000</td>\n",
       "      <td>4881.500000</td>\n",
       "    </tr>\n",
       "    <tr>\n",
       "      <th>2579882178</th>\n",
       "      <td>1922.000000</td>\n",
       "      <td>19538.000000</td>\n",
       "    </tr>\n",
       "    <tr>\n",
       "      <th>2587333274</th>\n",
       "      <td>3600.000000</td>\n",
       "      <td>6213.333333</td>\n",
       "    </tr>\n",
       "    <tr>\n",
       "      <th>2600415354</th>\n",
       "      <td>2790.000000</td>\n",
       "      <td>1530.000000</td>\n",
       "    </tr>\n",
       "    <tr>\n",
       "      <th>2654030115</th>\n",
       "      <td>1980.000000</td>\n",
       "      <td>1980.000000</td>\n",
       "    </tr>\n",
       "    <tr>\n",
       "      <th>2686716486</th>\n",
       "      <td>10960.000000</td>\n",
       "      <td>34340.000000</td>\n",
       "    </tr>\n",
       "    <tr>\n",
       "      <th>2712142231</th>\n",
       "      <td>2490.000000</td>\n",
       "      <td>790.000000</td>\n",
       "    </tr>\n",
       "    <tr>\n",
       "      <th>2716752286</th>\n",
       "      <td>2220.000000</td>\n",
       "      <td>7990.000000</td>\n",
       "    </tr>\n",
       "    <tr>\n",
       "      <th>2780786433</th>\n",
       "      <td>1390.000000</td>\n",
       "      <td>540.000000</td>\n",
       "    </tr>\n",
       "    <tr>\n",
       "      <th>2927087541</th>\n",
       "      <td>27550.000000</td>\n",
       "      <td>2190.000000</td>\n",
       "    </tr>\n",
       "    <tr>\n",
       "      <th>2949041841</th>\n",
       "      <td>190.000000</td>\n",
       "      <td>10380.000000</td>\n",
       "    </tr>\n",
       "    <tr>\n",
       "      <th>2954449915</th>\n",
       "      <td>10791.000000</td>\n",
       "      <td>3070.000000</td>\n",
       "    </tr>\n",
       "    <tr>\n",
       "      <th>3062433592</th>\n",
       "      <td>16920.000000</td>\n",
       "      <td>14634.750000</td>\n",
       "    </tr>\n",
       "    <tr>\n",
       "      <th>3202540741</th>\n",
       "      <td>3150.000000</td>\n",
       "      <td>5450.000000</td>\n",
       "    </tr>\n",
       "    <tr>\n",
       "      <th>3234906277</th>\n",
       "      <td>7555.000000</td>\n",
       "      <td>7555.000000</td>\n",
       "    </tr>\n",
       "    <tr>\n",
       "      <th>3656415546</th>\n",
       "      <td>2845.000000</td>\n",
       "      <td>250.000000</td>\n",
       "    </tr>\n",
       "    <tr>\n",
       "      <th>3717692402</th>\n",
       "      <td>2400.000000</td>\n",
       "      <td>2255.000000</td>\n",
       "    </tr>\n",
       "    <tr>\n",
       "      <th>3766097110</th>\n",
       "      <td>980.000000</td>\n",
       "      <td>360.000000</td>\n",
       "    </tr>\n",
       "    <tr>\n",
       "      <th>3803269165</th>\n",
       "      <td>700.000000</td>\n",
       "      <td>2588.250000</td>\n",
       "    </tr>\n",
       "    <tr>\n",
       "      <th>3891541246</th>\n",
       "      <td>3005.000000</td>\n",
       "      <td>480.000000</td>\n",
       "    </tr>\n",
       "    <tr>\n",
       "      <th>3941795274</th>\n",
       "      <td>990.000000</td>\n",
       "      <td>1320.000000</td>\n",
       "    </tr>\n",
       "    <tr>\n",
       "      <th>3951559397</th>\n",
       "      <td>2490.000000</td>\n",
       "      <td>30990.000000</td>\n",
       "    </tr>\n",
       "    <tr>\n",
       "      <th>3957174400</th>\n",
       "      <td>2480.000000</td>\n",
       "      <td>2480.000000</td>\n",
       "    </tr>\n",
       "    <tr>\n",
       "      <th>3963646447</th>\n",
       "      <td>6385.000000</td>\n",
       "      <td>7485.000000</td>\n",
       "    </tr>\n",
       "    <tr>\n",
       "      <th>3972127743</th>\n",
       "      <td>8439.000000</td>\n",
       "      <td>8401.000000</td>\n",
       "    </tr>\n",
       "    <tr>\n",
       "      <th>3984495233</th>\n",
       "      <td>17357.000000</td>\n",
       "      <td>20219.000000</td>\n",
       "    </tr>\n",
       "    <tr>\n",
       "      <th>4069496402</th>\n",
       "      <td>400.000000</td>\n",
       "      <td>640.000000</td>\n",
       "    </tr>\n",
       "    <tr>\n",
       "      <th>4120364173</th>\n",
       "      <td>39800.000000</td>\n",
       "      <td>15500.000000</td>\n",
       "    </tr>\n",
       "    <tr>\n",
       "      <th>4186807279</th>\n",
       "      <td>4990.000000</td>\n",
       "      <td>16150.000000</td>\n",
       "    </tr>\n",
       "    <tr>\n",
       "      <th>4256040402</th>\n",
       "      <td>6971.428571</td>\n",
       "      <td>31922.500000</td>\n",
       "    </tr>\n",
       "    <tr>\n",
       "      <th>4266935830</th>\n",
       "      <td>78990.000000</td>\n",
       "      <td>78990.000000</td>\n",
       "    </tr>\n",
       "  </tbody>\n",
       "</table>\n",
       "</div>"
      ],
      "text/plain": [
       "group                  A             B\n",
       "visitor_id                            \n",
       "8300375      1790.000000  10510.000000\n",
       "199603092    4923.000000   3488.000000\n",
       "232979603      60.000000   2640.000000\n",
       "237748145     797.500000   7620.000000\n",
       "276558944    5050.000000  12350.000000\n",
       "351125977    4485.000000  15185.000000\n",
       "393266494   21550.000000  16870.000000\n",
       "457167155    1620.000000   2745.666667\n",
       "471551937   22950.000000   3460.000000\n",
       "477780734    7300.000000   3650.000000\n",
       "818047933    3460.000000    400.000000\n",
       "963407295    4940.000000    300.000000\n",
       "1230306981   6146.666667   6420.000000\n",
       "1294878855  13980.000000   3080.000000\n",
       "1316129916  93940.000000    830.000000\n",
       "1333886533   1460.000000   2950.000000\n",
       "1404934699   8640.000000  17660.000000\n",
       "1602967004   4040.000000   4740.000000\n",
       "1614305549    793.333333   9680.000000\n",
       "1648269707    860.000000    290.000000\n",
       "1668030113   2600.000000   3180.000000\n",
       "1738359350   3070.000000   1445.000000\n",
       "1801183820    390.000000    100.000000\n",
       "1959144690  16480.000000  16480.000000\n",
       "2038680547   1714.000000   2300.000000\n",
       "2044997962   2540.000000   3540.000000\n",
       "2378935119  15892.500000  15873.800000\n",
       "2458001652   6561.800000   4881.500000\n",
       "2579882178   1922.000000  19538.000000\n",
       "2587333274   3600.000000   6213.333333\n",
       "2600415354   2790.000000   1530.000000\n",
       "2654030115   1980.000000   1980.000000\n",
       "2686716486  10960.000000  34340.000000\n",
       "2712142231   2490.000000    790.000000\n",
       "2716752286   2220.000000   7990.000000\n",
       "2780786433   1390.000000    540.000000\n",
       "2927087541  27550.000000   2190.000000\n",
       "2949041841    190.000000  10380.000000\n",
       "2954449915  10791.000000   3070.000000\n",
       "3062433592  16920.000000  14634.750000\n",
       "3202540741   3150.000000   5450.000000\n",
       "3234906277   7555.000000   7555.000000\n",
       "3656415546   2845.000000    250.000000\n",
       "3717692402   2400.000000   2255.000000\n",
       "3766097110    980.000000    360.000000\n",
       "3803269165    700.000000   2588.250000\n",
       "3891541246   3005.000000    480.000000\n",
       "3941795274    990.000000   1320.000000\n",
       "3951559397   2490.000000  30990.000000\n",
       "3957174400   2480.000000   2480.000000\n",
       "3963646447   6385.000000   7485.000000\n",
       "3972127743   8439.000000   8401.000000\n",
       "3984495233  17357.000000  20219.000000\n",
       "4069496402    400.000000    640.000000\n",
       "4120364173  39800.000000  15500.000000\n",
       "4186807279   4990.000000  16150.000000\n",
       "4256040402   6971.428571  31922.500000\n",
       "4266935830  78990.000000  78990.000000"
      ]
     },
     "execution_count": 22,
     "metadata": {},
     "output_type": "execute_result"
    }
   ],
   "source": [
    "#уникальные пользователи группы А\n",
    "a = orders.query('group == \"A\"')['visitor_id'].unique()\n",
    "\n",
    "#уникальные пользователи группы В\n",
    "b = orders.query('group == \"B\"')['visitor_id'].unique()\n",
    "\n",
    "#пользователи, которые входят в обе группы\n",
    "a_b = list(set(a).intersection(b))\n",
    "\n",
    "#сводная таблица по выбранным пользователям\n",
    "orders.query('visitor_id == @a_b').pivot_table(index='visitor_id', columns='group', values='revenue')"
   ]
  },
  {
   "cell_type": "code",
   "execution_count": 23,
   "metadata": {
    "scrolled": true
   },
   "outputs": [
    {
     "data": {
      "text/plain": [
       "58"
      ]
     },
     "execution_count": 23,
     "metadata": {},
     "output_type": "execute_result"
    }
   ],
   "source": [
    "len(a_b)"
   ]
  },
  {
   "cell_type": "markdown",
   "metadata": {},
   "source": [
    "Целых 58 пользователй входят и в группу А и в группу В одновременно. Для А/В теста такое не допустимо. Посмотрим какую долю от всех пользователей занимают пользователи входящие в обе группы и какую долю от общей выручки составляют их заказы."
   ]
  },
  {
   "cell_type": "code",
   "execution_count": 24,
   "metadata": {
    "scrolled": true
   },
   "outputs": [
    {
     "data": {
      "text/plain": [
       "15.600952428320943"
      ]
     },
     "execution_count": 24,
     "metadata": {},
     "output_type": "execute_result"
    }
   ],
   "source": [
    " 100 * orders.query('visitor_id == @a_b')['revenue'].sum() / orders['revenue'].sum()"
   ]
  },
  {
   "cell_type": "code",
   "execution_count": 25,
   "metadata": {
    "scrolled": true
   },
   "outputs": [
    {
     "data": {
      "text/plain": [
       "15.121136173767752"
      ]
     },
     "execution_count": 25,
     "metadata": {},
     "output_type": "execute_result"
    }
   ],
   "source": [
    "100 * len(orders.query('visitor_id == @a_b')['transaction_id']) / len(orders['transaction_id'])"
   ]
  },
  {
   "cell_type": "markdown",
   "metadata": {},
   "source": [
    "15.6% доля выручки от заказов странных пользователей в общей выручке и 15.1% доля таких пользователей в общем количестве. Значения слишком большие, чтобы просто удалить данные с этими пользователями. Их наличие вообще ставит под сомнение адекватность проведенного эксперимента. Или адекватность представленных данных по нему.  \n",
    "В конце исследования посчитаем статистическую значимость различий в среднем чеке заказа и в среднем количестве заказов на посетителя между группами по данным без этих пользователей."
   ]
  },
  {
   "cell_type": "markdown",
   "metadata": {},
   "source": [
    "### Изучим общую информацию о датафрейме visitors."
   ]
  },
  {
   "cell_type": "code",
   "execution_count": 26,
   "metadata": {},
   "outputs": [
    {
     "data": {
      "text/html": [
       "<div>\n",
       "<style scoped>\n",
       "    .dataframe tbody tr th:only-of-type {\n",
       "        vertical-align: middle;\n",
       "    }\n",
       "\n",
       "    .dataframe tbody tr th {\n",
       "        vertical-align: top;\n",
       "    }\n",
       "\n",
       "    .dataframe thead th {\n",
       "        text-align: right;\n",
       "    }\n",
       "</style>\n",
       "<table border=\"1\" class=\"dataframe\">\n",
       "  <thead>\n",
       "    <tr style=\"text-align: right;\">\n",
       "      <th></th>\n",
       "      <th>date</th>\n",
       "      <th>group</th>\n",
       "      <th>visitors</th>\n",
       "    </tr>\n",
       "  </thead>\n",
       "  <tbody>\n",
       "    <tr>\n",
       "      <th>0</th>\n",
       "      <td>2019-08-01</td>\n",
       "      <td>A</td>\n",
       "      <td>719</td>\n",
       "    </tr>\n",
       "    <tr>\n",
       "      <th>1</th>\n",
       "      <td>2019-08-02</td>\n",
       "      <td>A</td>\n",
       "      <td>619</td>\n",
       "    </tr>\n",
       "    <tr>\n",
       "      <th>2</th>\n",
       "      <td>2019-08-03</td>\n",
       "      <td>A</td>\n",
       "      <td>507</td>\n",
       "    </tr>\n",
       "    <tr>\n",
       "      <th>3</th>\n",
       "      <td>2019-08-04</td>\n",
       "      <td>A</td>\n",
       "      <td>717</td>\n",
       "    </tr>\n",
       "    <tr>\n",
       "      <th>4</th>\n",
       "      <td>2019-08-05</td>\n",
       "      <td>A</td>\n",
       "      <td>756</td>\n",
       "    </tr>\n",
       "    <tr>\n",
       "      <th>...</th>\n",
       "      <td>...</td>\n",
       "      <td>...</td>\n",
       "      <td>...</td>\n",
       "    </tr>\n",
       "    <tr>\n",
       "      <th>57</th>\n",
       "      <td>2019-08-27</td>\n",
       "      <td>B</td>\n",
       "      <td>720</td>\n",
       "    </tr>\n",
       "    <tr>\n",
       "      <th>58</th>\n",
       "      <td>2019-08-28</td>\n",
       "      <td>B</td>\n",
       "      <td>654</td>\n",
       "    </tr>\n",
       "    <tr>\n",
       "      <th>59</th>\n",
       "      <td>2019-08-29</td>\n",
       "      <td>B</td>\n",
       "      <td>531</td>\n",
       "    </tr>\n",
       "    <tr>\n",
       "      <th>60</th>\n",
       "      <td>2019-08-30</td>\n",
       "      <td>B</td>\n",
       "      <td>490</td>\n",
       "    </tr>\n",
       "    <tr>\n",
       "      <th>61</th>\n",
       "      <td>2019-08-31</td>\n",
       "      <td>B</td>\n",
       "      <td>718</td>\n",
       "    </tr>\n",
       "  </tbody>\n",
       "</table>\n",
       "<p>62 rows × 3 columns</p>\n",
       "</div>"
      ],
      "text/plain": [
       "          date group  visitors\n",
       "0   2019-08-01     A       719\n",
       "1   2019-08-02     A       619\n",
       "2   2019-08-03     A       507\n",
       "3   2019-08-04     A       717\n",
       "4   2019-08-05     A       756\n",
       "..         ...   ...       ...\n",
       "57  2019-08-27     B       720\n",
       "58  2019-08-28     B       654\n",
       "59  2019-08-29     B       531\n",
       "60  2019-08-30     B       490\n",
       "61  2019-08-31     B       718\n",
       "\n",
       "[62 rows x 3 columns]"
      ]
     },
     "execution_count": 26,
     "metadata": {},
     "output_type": "execute_result"
    }
   ],
   "source": [
    "visitors"
   ]
  },
  {
   "cell_type": "code",
   "execution_count": 27,
   "metadata": {},
   "outputs": [
    {
     "name": "stdout",
     "output_type": "stream",
     "text": [
      "<class 'pandas.core.frame.DataFrame'>\n",
      "RangeIndex: 62 entries, 0 to 61\n",
      "Data columns (total 3 columns):\n",
      " #   Column    Non-Null Count  Dtype \n",
      "---  ------    --------------  ----- \n",
      " 0   date      62 non-null     object\n",
      " 1   group     62 non-null     object\n",
      " 2   visitors  62 non-null     int64 \n",
      "dtypes: int64(1), object(2)\n",
      "memory usage: 1.6+ KB\n"
     ]
    }
   ],
   "source": [
    "visitors.info()"
   ]
  },
  {
   "cell_type": "markdown",
   "metadata": {},
   "source": [
    "Всего 62 строки и 3 столбца. Тип данных в столбце date заменим на datetime."
   ]
  },
  {
   "cell_type": "code",
   "execution_count": 28,
   "metadata": {},
   "outputs": [],
   "source": [
    "visitors['date'] = pd.to_datetime(visitors['date'])"
   ]
  },
  {
   "cell_type": "markdown",
   "metadata": {},
   "source": [
    "Проверим наличие пропущенных значений и дубликатов."
   ]
  },
  {
   "cell_type": "code",
   "execution_count": 29,
   "metadata": {},
   "outputs": [
    {
     "data": {
      "text/plain": [
       "date        0\n",
       "group       0\n",
       "visitors    0\n",
       "dtype: int64"
      ]
     },
     "execution_count": 29,
     "metadata": {},
     "output_type": "execute_result"
    }
   ],
   "source": [
    "visitors.isna().sum()"
   ]
  },
  {
   "cell_type": "code",
   "execution_count": 30,
   "metadata": {},
   "outputs": [
    {
     "data": {
      "text/plain": [
       "0"
      ]
     },
     "execution_count": 30,
     "metadata": {},
     "output_type": "execute_result"
    }
   ],
   "source": [
    "visitors.duplicated().sum()"
   ]
  },
  {
   "cell_type": "markdown",
   "metadata": {},
   "source": [
    "Пропущенных значений и дубликатов не установлено."
   ]
  },
  {
   "cell_type": "code",
   "execution_count": 31,
   "metadata": {},
   "outputs": [
    {
     "name": "stdout",
     "output_type": "stream",
     "text": [
      "2019-08-01 00:00:00 2019-08-31 00:00:00\n"
     ]
    }
   ],
   "source": [
    "print(visitors['date'].min(), visitors['date'].max())"
   ]
  },
  {
   "cell_type": "markdown",
   "metadata": {},
   "source": [
    "Диапазон дат также как и в orders в пределах 1 месяца - август 2019."
   ]
  },
  {
   "cell_type": "code",
   "execution_count": 32,
   "metadata": {
    "scrolled": true
   },
   "outputs": [
    {
     "data": {
      "text/plain": [
       "array(['A', 'B'], dtype=object)"
      ]
     },
     "execution_count": 32,
     "metadata": {},
     "output_type": "execute_result"
    }
   ],
   "source": [
    "visitors['group'].unique()"
   ]
  },
  {
   "cell_type": "markdown",
   "metadata": {},
   "source": [
    "Также 2 группы А и В."
   ]
  },
  {
   "cell_type": "markdown",
   "metadata": {},
   "source": [
    "### Построим график кумулятивной выручки по группам."
   ]
  },
  {
   "cell_type": "code",
   "execution_count": 33,
   "metadata": {},
   "outputs": [],
   "source": [
    "# создаем массив уникальных пар значений дат и групп теста\n",
    "dates_groups = orders[['date', 'group']].drop_duplicates()\n",
    "\n",
    "# получаем агрегированные кумулятивные по дням данные о заказах\n",
    "orders_aggregated = dates_groups.apply(\n",
    "    lambda x: orders[\n",
    "        np.logical_and(\n",
    "            orders['date'] <= x['date'], orders['group'] == x['group']\n",
    "        )\n",
    "    ].agg(\n",
    "        {\n",
    "            'date': 'max',\n",
    "            'group': 'max',\n",
    "            'transaction_id': 'nunique',\n",
    "            'visitor_id': 'nunique',\n",
    "            'revenue': 'sum',\n",
    "        }\n",
    "    ),\n",
    "    axis=1,\n",
    ").sort_values(by=['date', 'group'])\n",
    "\n",
    "# получаем агрегированные кумулятивные по дням данные о посетителях интернет-магазина\n",
    "visitors_aggregated = dates_groups.apply(\n",
    "    lambda x: visitors[\n",
    "        np.logical_and(\n",
    "            visitors['date'] <= x['date'], visitors['group'] == x['group']\n",
    "        )\n",
    "    ].agg(\n",
    "        {\n",
    "            'date': 'max', \n",
    "            'group': 'max', \n",
    "            'visitors': 'sum'}),\n",
    "    axis=1,\n",
    ").sort_values(by=['date', 'group'])\n",
    "\n",
    "cumulative_data = orders_aggregated.merge(\n",
    "    visitors_aggregated, left_on=['date', 'group'], right_on=['date', 'group']\n",
    ")\n",
    "# объединяем кумулятивные данные в одной таблице и присваиваем ее столбцам понятные названия\n",
    "cumulative_data.columns = [\n",
    "    'date',\n",
    "    'group',\n",
    "    'transactions',\n",
    "    'buyers',\n",
    "    'revenue',\n",
    "    'visitors',\n",
    "]\n",
    " \n",
    "# датафрейм с кумулятивным количеством заказов и кумулятивной выручкой по дням в группе А\n",
    "cumulative_revenue_a = cumulative_data[cumulative_data['group']=='A'][['date','revenue', 'transactions']]\n",
    "\n",
    "# датафрейм с кумулятивным количеством заказов и кумулятивной выручкой по дням в группе B\n",
    "cumulative_revenue_b = cumulative_data[cumulative_data['group']=='B'][['date','revenue', 'transactions']]"
   ]
  },
  {
   "cell_type": "code",
   "execution_count": 34,
   "metadata": {},
   "outputs": [
    {
     "data": {
      "image/png": "[encoded data removed]",
      "text/plain": [
       "<Figure size 1008x504 with 1 Axes>"
      ]
     },
     "metadata": {
      "needs_background": "light"
     },
     "output_type": "display_data"
    }
   ],
   "source": [
    "plt.figure(figsize=(14, 7))\n",
    "\n",
    "# Строим график выручки группы А\n",
    "plt.plot(cumulative_revenue_a['date'], cumulative_revenue_a['revenue'], label='A')\n",
    "    \n",
    "# Строим график выручки группы B\n",
    "plt.plot(cumulative_revenue_b['date'], cumulative_revenue_b['revenue'], label='B')\n",
    "    \n",
    "plt.legend()\n",
    "plt.grid(True)\n",
    "plt.xlabel('Дата')\n",
    "plt.ylabel('Выручка')\n",
    "plt.title('Кумулятивная выручка по дням')\n",
    "plt.xticks(rotation='vertical');"
   ]
  },
  {
   "cell_type": "markdown",
   "metadata": {},
   "source": [
    "Кумулятивная выручка группы В практически всегда больше, чем группы А. С 1 по 5 августа они шли вровень, затем выручка группы В стала больше. 13 августа выручки снова сравнялись, затем уже в группе В выручка стабильно выше. С 20 августа и до конца эксперимента различие составляет около 2 000 000.  \n",
    "Резкий скачок кумулятивной выручки в группе В 19 августа может быть связан аномально большими по сумме заказами в этот день."
   ]
  },
  {
   "cell_type": "markdown",
   "metadata": {},
   "source": [
    "### Построим график кумулятивного среднего чека по группам."
   ]
  },
  {
   "cell_type": "code",
   "execution_count": 35,
   "metadata": {},
   "outputs": [
    {
     "data": {
      "image/png": "[encoded data removed]",
      "text/plain": [
       "<Figure size 1008x504 with 1 Axes>"
      ]
     },
     "metadata": {
      "needs_background": "light"
     },
     "output_type": "display_data"
    }
   ],
   "source": [
    "plt.figure(figsize=(14, 7))\n",
    "plt.plot(cumulative_revenue_a['date'], \n",
    "         cumulative_revenue_a['revenue']/cumulative_revenue_a['transactions'], \n",
    "         label='A')\n",
    "plt.plot(cumulative_revenue_b['date'], \n",
    "         cumulative_revenue_b['revenue']/cumulative_revenue_b['transactions'], \n",
    "         label='B')\n",
    "plt.legend()\n",
    "plt.grid(True)\n",
    "plt.xlabel('Дата')\n",
    "plt.ylabel('Средний чек')\n",
    "plt.title('Кумулятивный средний чек по дням')\n",
    "plt.xticks(rotation='vertical');"
   ]
  },
  {
   "cell_type": "markdown",
   "metadata": {},
   "source": [
    "Средний чек группы В почти все время выше. За исключением первого дня и периода с 12 по 15 августа. Вероятно в этот период в группе А были заказы на крупные суммы.  \n",
    "Также виден резкий скачок среднего чека в группе В 19 августа, что также вероятно связано с аномально большим по стоимости заказом."
   ]
  },
  {
   "cell_type": "markdown",
   "metadata": {},
   "source": [
    "### Построим график относительного изменения кумулятивного среднего чека группы B к группе A."
   ]
  },
  {
   "cell_type": "code",
   "execution_count": 36,
   "metadata": {},
   "outputs": [
    {
     "data": {
      "image/png": "[encoded data removed]",
      "text/plain": [
       "<Figure size 1008x504 with 1 Axes>"
      ]
     },
     "metadata": {
      "needs_background": "light"
     },
     "output_type": "display_data"
    }
   ],
   "source": [
    "# собираем данные в одном датафрейме\n",
    "merged_cumulative_revenue = cumulative_revenue_a.merge(\n",
    "    cumulative_revenue_b, \n",
    "    left_on='date', \n",
    "    right_on='date', \n",
    "    how='left', \n",
    "    suffixes=['_a', '_b']\n",
    ")\n",
    "\n",
    "# cтроим отношение средних чеков\n",
    "plt.figure(figsize=(14, 7))\n",
    "\n",
    "plt.plot(merged_cumulative_revenue['date'], \n",
    "         (merged_cumulative_revenue['revenue_b']/\n",
    "          merged_cumulative_revenue['transactions_b'])/\n",
    "         (merged_cumulative_revenue['revenue_a']/\n",
    "         merged_cumulative_revenue['transactions_a'])-1\n",
    "        )\n",
    "\n",
    "# добавляем ось X\n",
    "plt.axhline(y=0, color='black', linestyle='--')\n",
    "plt.grid(True)\n",
    "plt.xlabel('Дата')\n",
    "plt.ylabel('Отношение средних чеков')\n",
    "plt.title('Относительное изменение кумулятивного среднего чека группы B к группе A')\n",
    "plt.xticks(rotation='vertical');"
   ]
  },
  {
   "cell_type": "markdown",
   "metadata": {},
   "source": [
    "На графике также видно, что средний чек группы В почти все время выше чем группы А. За исключением первого дня и периода с 12 по 15 августа."
   ]
  },
  {
   "cell_type": "markdown",
   "metadata": {},
   "source": [
    "### Построим график кумулятивного среднего количества заказов на посетителя по группам."
   ]
  },
  {
   "cell_type": "code",
   "execution_count": 37,
   "metadata": {},
   "outputs": [
    {
     "data": {
      "image/png": "[encoded data removed]",
      "text/plain": [
       "<Figure size 1008x504 with 1 Axes>"
      ]
     },
     "metadata": {
      "needs_background": "light"
     },
     "output_type": "display_data"
    }
   ],
   "source": [
    "# считаем кумулятивное среднее количества заказов на посетителя\n",
    "cumulative_data['tr_per_visitor'] = (\n",
    "    cumulative_data['transactions'] / cumulative_data['visitors']\n",
    ")\n",
    "\n",
    "# отделяем данные по группе A\n",
    "cumulative_data_a = cumulative_data[cumulative_data['group']=='A']\n",
    "\n",
    "# отделяем данные по группе B\n",
    "cumulative_data_b = cumulative_data[cumulative_data['group']=='B']\n",
    "\n",
    "plt.figure(figsize=(14, 7))\n",
    "\n",
    "# строим графики\n",
    "plt.plot(cumulative_data_a['date'], cumulative_data_a['tr_per_visitor'], label='A')\n",
    "plt.plot(cumulative_data_b['date'], cumulative_data_b['tr_per_visitor'], label='B')\n",
    "plt.legend()\n",
    "plt.grid(True)\n",
    "plt.xlabel('Дата')\n",
    "plt.ylabel('Количество заказов на посетителя')\n",
    "plt.title('Кумулятивное среднее количество заказов на посетителя')\n",
    "plt.xticks(rotation='vertical');"
   ]
  },
  {
   "cell_type": "markdown",
   "metadata": {},
   "source": [
    "Конверсия пользователей группы В с 6 августа стабильно опережает конверсию пользователей группы А"
   ]
  },
  {
   "cell_type": "markdown",
   "metadata": {},
   "source": [
    "### Построим график относительного изменения кумулятивного среднего количества заказов на посетителя группы B к группе A. "
   ]
  },
  {
   "cell_type": "code",
   "execution_count": 38,
   "metadata": {},
   "outputs": [
    {
     "data": {
      "image/png": "[encoded data removed]",
      "text/plain": [
       "<Figure size 1008x504 with 1 Axes>"
      ]
     },
     "metadata": {
      "needs_background": "light"
     },
     "output_type": "display_data"
    }
   ],
   "source": [
    "merged_cumulative_tr_per_visitor = (\n",
    "    cumulative_data_a[['date','tr_per_visitor']].merge(\n",
    "        cumulative_data_b[['date','tr_per_visitor']], \n",
    "          left_on='date', right_on='date', how='left', suffixes=['_a', '_b']\n",
    "        )\n",
    ")\n",
    "\n",
    "plt.figure(figsize=(14, 7))\n",
    "\n",
    "plt.plot(\n",
    "    merged_cumulative_tr_per_visitor['date'],\n",
    "    merged_cumulative_tr_per_visitor['tr_per_visitor_b'] / merged_cumulative_tr_per_visitor['tr_per_visitor_a']-1\n",
    ")\n",
    "\n",
    "plt.axhline(y=0, color='black', linestyle='--')\n",
    "plt.grid(True)\n",
    "plt.xlabel('Дата')\n",
    "plt.ylabel('Отношение количества заказов на посетителя группы В к группе А')\n",
    "plt.title('Относительный прирост количества заказов на посетителя группы B относительно группы A')\n",
    "plt.xticks(rotation='vertical');"
   ]
  },
  {
   "cell_type": "markdown",
   "metadata": {},
   "source": [
    "До 6 августа отношение количества заказов на посетителя групп колебалось. Начиная с 6 августа количество заказов на посетителя в группе В всегда больше, чем в группе А. Необходимо проанализировать аномалии."
   ]
  },
  {
   "cell_type": "markdown",
   "metadata": {},
   "source": [
    "###\tПостроим точечный график количества заказов по пользователям."
   ]
  },
  {
   "cell_type": "code",
   "execution_count": 39,
   "metadata": {},
   "outputs": [
    {
     "data": {
      "text/plain": [
       "Text(0.5, 1.0, 'Количество заказов по пользователям')"
      ]
     },
     "execution_count": 39,
     "metadata": {},
     "output_type": "execute_result"
    },
    {
     "data": {
      "image/png": "[encoded data removed]",
      "text/plain": [
       "<Figure size 1008x504 with 1 Axes>"
      ]
     },
     "metadata": {
      "needs_background": "light"
     },
     "output_type": "display_data"
    }
   ],
   "source": [
    "orders_by_users = (\n",
    "    orders.groupby('visitor_id', as_index=False)\n",
    "    .agg({'transaction_id': 'nunique'})\n",
    ")\n",
    "\n",
    "orders_by_users.columns = ['visitor_id', 'transactions']\n",
    "\n",
    "x_values = pd.Series(range(0,len(orders_by_users)))\n",
    "\n",
    "plt.figure(figsize=(14, 7))\n",
    "plt.scatter(x_values, orders_by_users['transactions']) \n",
    "plt.grid(True)\n",
    "plt.xlabel('Пользователи')\n",
    "plt.ylabel('Количество заказов')\n",
    "plt.title('Количество заказов по пользователям')"
   ]
  },
  {
   "cell_type": "markdown",
   "metadata": {},
   "source": [
    "Много пользователей с 1-2 заказами. С 3 заказами уже значительно меньше, а с 4 и более единичные случаи."
   ]
  },
  {
   "cell_type": "markdown",
   "metadata": {},
   "source": [
    "### Посчитаем 95-й и 99-й перцентили количества заказов на пользователя. Выберим границу для определения аномальных пользователей."
   ]
  },
  {
   "cell_type": "code",
   "execution_count": 40,
   "metadata": {
    "scrolled": true
   },
   "outputs": [
    {
     "data": {
      "text/plain": [
       "array([1., 2., 4.])"
      ]
     },
     "execution_count": 40,
     "metadata": {},
     "output_type": "execute_result"
    }
   ],
   "source": [
    "np.percentile(orders_by_users['transactions'], [90, 95, 99])"
   ]
  },
  {
   "cell_type": "markdown",
   "metadata": {},
   "source": [
    "Не более 5% пользователей оформляли больше чем 2 заказa. И 10% пользователей заказывали более 1 разa. \n",
    "Выберем 3 заказа на одного пользователя за верхнюю границу числа заказов, и отсеим аномальных пользователей по ней."
   ]
  },
  {
   "cell_type": "markdown",
   "metadata": {},
   "source": [
    "### Построим точечный график стоимостей заказов."
   ]
  },
  {
   "cell_type": "code",
   "execution_count": 41,
   "metadata": {},
   "outputs": [
    {
     "data": {
      "text/plain": [
       "Text(0.5, 1.0, 'Стоимость заказов по пользователям')"
      ]
     },
     "execution_count": 41,
     "metadata": {},
     "output_type": "execute_result"
    },
    {
     "data": {
      "image/png": "[encoded data removed]",
      "text/plain": [
       "<Figure size 1008x504 with 1 Axes>"
      ]
     },
     "metadata": {
      "needs_background": "light"
     },
     "output_type": "display_data"
    }
   ],
   "source": [
    "x_values = pd.Series(range(0,len(orders['revenue'])))\n",
    "plt.figure(figsize=(14, 7))\n",
    "plt.scatter(x_values, orders['revenue'])\n",
    "plt.grid(True)\n",
    "plt.xlabel('Пользователи')\n",
    "plt.ylabel('Стоимость заказов')\n",
    "plt.title('Стоимость заказов по пользователям')"
   ]
  },
  {
   "cell_type": "markdown",
   "metadata": {},
   "source": [
    "Стоимость практически всех заказов лежит в диапазоне до 100 000. Есть один заказ стоимостью 200 000 и один стоимостью 1 300 000."
   ]
  },
  {
   "cell_type": "markdown",
   "metadata": {},
   "source": [
    "### Посчитаем 95-й и 99-й перцентили стоимости заказов. Выберим границу для определения аномальных заказов."
   ]
  },
  {
   "cell_type": "code",
   "execution_count": 42,
   "metadata": {},
   "outputs": [
    {
     "data": {
      "text/plain": [
       "array([18168. , 28000. , 58233.2])"
      ]
     },
     "execution_count": 42,
     "metadata": {},
     "output_type": "execute_result"
    }
   ],
   "source": [
    "np.percentile(orders['revenue'], [90, 95, 99])"
   ]
  },
  {
   "cell_type": "markdown",
   "metadata": {},
   "source": [
    "Не более 5% заказов дороже 28 000 и не более 1% дороже 58 233. Примем за аномальных пользователей тех, кто совершил заказ дороже 40 000 рублей."
   ]
  },
  {
   "cell_type": "markdown",
   "metadata": {},
   "source": [
    "### Посчитаем статистическую значимость различий в среднем количестве заказов на посетителя между группами по «сырым» данным."
   ]
  },
  {
   "cell_type": "markdown",
   "metadata": {},
   "source": [
    "Сформулируем гипотезы.  \n",
    "Нулевая: различий в среднем количестве заказов между группами нет.  \n",
    "Альтернативная: различия в среднем количестве заказов между группами есть.  \n",
    "Для проверки гипотезы используем критерий U-критерий Манна-Уитни.  "
   ]
  },
  {
   "cell_type": "code",
   "execution_count": 43,
   "metadata": {},
   "outputs": [
    {
     "data": {
      "text/html": [
       "<div>\n",
       "<style scoped>\n",
       "    .dataframe tbody tr th:only-of-type {\n",
       "        vertical-align: middle;\n",
       "    }\n",
       "\n",
       "    .dataframe tbody tr th {\n",
       "        vertical-align: top;\n",
       "    }\n",
       "\n",
       "    .dataframe thead th {\n",
       "        text-align: right;\n",
       "    }\n",
       "</style>\n",
       "<table border=\"1\" class=\"dataframe\">\n",
       "  <thead>\n",
       "    <tr style=\"text-align: right;\">\n",
       "      <th></th>\n",
       "      <th>date</th>\n",
       "      <th>transactions_per_date_a</th>\n",
       "      <th>revenue_per_date_a</th>\n",
       "      <th>transactions_per_date_b</th>\n",
       "      <th>revenue_per_date_b</th>\n",
       "      <th>transactions_cummulative_a</th>\n",
       "      <th>revenue_cummulative_a</th>\n",
       "      <th>transactions_cummulative_b</th>\n",
       "      <th>revenue_cummulative_b</th>\n",
       "      <th>visitors_per_date_a</th>\n",
       "      <th>visitors_per_date_b</th>\n",
       "      <th>visitors_cummulative_a</th>\n",
       "      <th>visitors_cummulative_b</th>\n",
       "    </tr>\n",
       "  </thead>\n",
       "  <tbody>\n",
       "    <tr>\n",
       "      <th>0</th>\n",
       "      <td>2019-08-01</td>\n",
       "      <td>24</td>\n",
       "      <td>148579</td>\n",
       "      <td>21</td>\n",
       "      <td>101217</td>\n",
       "      <td>24</td>\n",
       "      <td>148579</td>\n",
       "      <td>21</td>\n",
       "      <td>101217</td>\n",
       "      <td>719</td>\n",
       "      <td>713</td>\n",
       "      <td>719</td>\n",
       "      <td>713</td>\n",
       "    </tr>\n",
       "    <tr>\n",
       "      <th>1</th>\n",
       "      <td>2019-08-02</td>\n",
       "      <td>20</td>\n",
       "      <td>93822</td>\n",
       "      <td>24</td>\n",
       "      <td>165531</td>\n",
       "      <td>44</td>\n",
       "      <td>242401</td>\n",
       "      <td>45</td>\n",
       "      <td>266748</td>\n",
       "      <td>619</td>\n",
       "      <td>581</td>\n",
       "      <td>1338</td>\n",
       "      <td>1294</td>\n",
       "    </tr>\n",
       "    <tr>\n",
       "      <th>2</th>\n",
       "      <td>2019-08-03</td>\n",
       "      <td>24</td>\n",
       "      <td>112473</td>\n",
       "      <td>16</td>\n",
       "      <td>114248</td>\n",
       "      <td>68</td>\n",
       "      <td>354874</td>\n",
       "      <td>61</td>\n",
       "      <td>380996</td>\n",
       "      <td>507</td>\n",
       "      <td>509</td>\n",
       "      <td>1845</td>\n",
       "      <td>1803</td>\n",
       "    </tr>\n",
       "    <tr>\n",
       "      <th>3</th>\n",
       "      <td>2019-08-04</td>\n",
       "      <td>16</td>\n",
       "      <td>70825</td>\n",
       "      <td>17</td>\n",
       "      <td>108571</td>\n",
       "      <td>84</td>\n",
       "      <td>425699</td>\n",
       "      <td>78</td>\n",
       "      <td>489567</td>\n",
       "      <td>717</td>\n",
       "      <td>770</td>\n",
       "      <td>2562</td>\n",
       "      <td>2573</td>\n",
       "    </tr>\n",
       "    <tr>\n",
       "      <th>4</th>\n",
       "      <td>2019-08-05</td>\n",
       "      <td>25</td>\n",
       "      <td>124218</td>\n",
       "      <td>23</td>\n",
       "      <td>92428</td>\n",
       "      <td>109</td>\n",
       "      <td>549917</td>\n",
       "      <td>101</td>\n",
       "      <td>581995</td>\n",
       "      <td>756</td>\n",
       "      <td>707</td>\n",
       "      <td>3318</td>\n",
       "      <td>3280</td>\n",
       "    </tr>\n",
       "  </tbody>\n",
       "</table>\n",
       "</div>"
      ],
      "text/plain": [
       "        date  transactions_per_date_a  revenue_per_date_a  \\\n",
       "0 2019-08-01                       24              148579   \n",
       "1 2019-08-02                       20               93822   \n",
       "2 2019-08-03                       24              112473   \n",
       "3 2019-08-04                       16               70825   \n",
       "4 2019-08-05                       25              124218   \n",
       "\n",
       "   transactions_per_date_b  revenue_per_date_b  transactions_cummulative_a  \\\n",
       "0                       21              101217                          24   \n",
       "1                       24              165531                          44   \n",
       "2                       16              114248                          68   \n",
       "3                       17              108571                          84   \n",
       "4                       23               92428                         109   \n",
       "\n",
       "   revenue_cummulative_a  transactions_cummulative_b  revenue_cummulative_b  \\\n",
       "0                 148579                          21                 101217   \n",
       "1                 242401                          45                 266748   \n",
       "2                 354874                          61                 380996   \n",
       "3                 425699                          78                 489567   \n",
       "4                 549917                         101                 581995   \n",
       "\n",
       "   visitors_per_date_a  visitors_per_date_b  visitors_cummulative_a  \\\n",
       "0                  719                  713                     719   \n",
       "1                  619                  581                    1338   \n",
       "2                  507                  509                    1845   \n",
       "3                  717                  770                    2562   \n",
       "4                  756                  707                    3318   \n",
       "\n",
       "   visitors_cummulative_b  \n",
       "0                     713  \n",
       "1                    1294  \n",
       "2                    1803  \n",
       "3                    2573  \n",
       "4                    3280  "
      ]
     },
     "execution_count": 43,
     "metadata": {},
     "output_type": "execute_result"
    }
   ],
   "source": [
    "#пользователи по дням в группе А\n",
    "visitors_a_daily = visitors[visitors['group'] == 'A'][['date', 'visitors']]\n",
    "visitors_a_daily.columns = ['date', 'visitors_per_date_a']\n",
    "\n",
    "#количество пользователей в выбранную дату в группе A\n",
    "visitors_a_cummulative = visitors_a_daily.apply(\n",
    "    lambda x: visitors_a_daily[visitors_a_daily['date'] <= x['date']].agg(\n",
    "        {'date': 'max', 'visitors_per_date_a': 'sum'}\n",
    "    ),\n",
    "    axis=1,\n",
    ")\n",
    "visitors_a_cummulative.columns = ['date', 'visitors_cummulative_a']\n",
    "\n",
    "#пользователи по дням в группе В\n",
    "visitors_b_daily = visitors[visitors['group'] == 'B'][['date', 'visitors']]\n",
    "visitors_b_daily.columns = ['date', 'visitors_per_date_b']\n",
    "\n",
    "#количество пользователей в выбранную дату в группе В\n",
    "visitors_b_cummulative = visitors_b_daily.apply(\n",
    "    lambda x: visitors_b_daily[visitors_b_daily['date'] <= x['date']].agg(\n",
    "        {'date': 'max', 'visitors_per_date_b': 'sum'}\n",
    "    ),\n",
    "    axis=1,\n",
    ")\n",
    "visitors_b_cummulative.columns = ['date', 'visitors_cummulative_b']\n",
    "\n",
    "#количество заказов и суммарная выручка в выбранную дату в группе A\n",
    "orders_a_daily = (\n",
    "    orders[orders['group'] == 'A'][['date', 'transaction_id', 'visitor_id', 'revenue']]\n",
    "    .groupby('date', as_index=False)\n",
    "    .agg({'transaction_id': pd.Series.nunique, 'revenue': 'sum'})\n",
    ")\n",
    "orders_a_daily.columns = ['date', 'transactions_per_date_a', 'revenue_per_date_a']\n",
    "\n",
    "#суммарное количество заказов и суммарная выручка до выбранной даты включительно в группе А\n",
    "orders_a_cummulative = orders_a_daily.apply(\n",
    "    lambda x: orders_a_daily[orders_a_daily['date'] <= x['date']].agg(\n",
    "        {'date': 'max', 'transactions_per_date_a': 'sum', 'revenue_per_date_a': 'sum'}\n",
    "    ),\n",
    "    axis=1,\n",
    ").sort_values(by=['date'])\n",
    "\n",
    "orders_a_cummulative.columns = [\n",
    "    'date',\n",
    "    'transactions_cummulative_a',\n",
    "    'revenue_cummulative_a',\n",
    "]\n",
    "\n",
    "#количество заказов и суммарная выручка в выбранную дату в группе В\n",
    "orders_b_daily = (\n",
    "    orders[orders['group'] == 'B'][['date', 'transaction_id', 'visitor_id', 'revenue']]\n",
    "    .groupby('date', as_index=False)\n",
    "    .agg({'transaction_id': pd.Series.nunique, 'revenue': 'sum'})\n",
    ")\n",
    "\n",
    "orders_b_daily.columns = [\n",
    "    'date', \n",
    "    'transactions_per_date_b', \n",
    "    'revenue_per_date_b'\n",
    "]\n",
    "\n",
    "#суммарное количество заказов и суммарная выручка до выбранной даты включительно в группе В\n",
    "orders_b_cummulative = orders_b_daily.apply(\n",
    "    lambda x: orders_b_daily[orders_b_daily['date'] <= x['date']].agg(\n",
    "        {'date': 'max', 'transactions_per_date_b': 'sum', 'revenue_per_date_b': 'sum'}\n",
    "    ),\n",
    "    axis=1,\n",
    ").sort_values(by=['date'])\n",
    "\n",
    "orders_b_cummulative.columns = [\n",
    "    'date',\n",
    "    'transactions_cummulative_b',\n",
    "    'revenue_cummulative_b',\n",
    "]\n",
    "\n",
    "#объединенная таблица\n",
    "data = (\n",
    "    orders_a_daily.merge(\n",
    "        orders_b_daily, left_on='date', right_on='date', how='left'\n",
    "    )\n",
    "    .merge(orders_a_cummulative, left_on='date', right_on='date', how='left')\n",
    "    .merge(orders_b_cummulative, left_on='date', right_on='date', how='left')\n",
    "    .merge(visitors_a_daily, left_on='date', right_on='date', how='left')\n",
    "    .merge(visitors_b_daily, left_on='date', right_on='date', how='left')\n",
    "    .merge(visitors_a_cummulative, left_on='date', right_on='date', how='left')\n",
    "    .merge(visitors_b_cummulative, left_on='date', right_on='date', how='left')\n",
    ")\n",
    "\n",
    "data.head(5)"
   ]
  },
  {
   "cell_type": "code",
   "execution_count": 44,
   "metadata": {},
   "outputs": [
    {
     "name": "stdout",
     "output_type": "stream",
     "text": [
      "Отвергаем нулевую гипотезу, p-value = 0.017 < alpha = 0.05\n",
      "Относительный прирост среднего количества заказов группы B = 0.138\n"
     ]
    }
   ],
   "source": [
    "#число совершённых заказов для пользователей группы А, которые заказывали хотя бы 1 раз \n",
    "orders_by_users_a = (\n",
    "    orders[orders['group'] == 'A']\n",
    "    .groupby('visitor_id', as_index=False)\n",
    "    .agg({'transaction_id': pd.Series.nunique})\n",
    ")\n",
    "orders_by_users_a.columns = ['visitor_id', 'transactions']\n",
    "\n",
    "#число совершённых заказов для пользователей группы В, которые заказывали хотя бы 1 раз \n",
    "orders_by_users_b = (\n",
    "    orders[orders['group'] == 'B']\n",
    "    .groupby('visitor_id', as_index=False)\n",
    "    .agg({'transaction_id': pd.Series.nunique})\n",
    ")\n",
    "orders_by_users_b.columns = ['visitor_id', 'transactions']\n",
    "\n",
    "#количество заказов пользователей группы А\n",
    "sample_a = pd.concat(\n",
    "    [\n",
    "        orders_by_users_a['transactions'],\n",
    "        pd.Series(\n",
    "            0,\n",
    "            index=np.arange(\n",
    "                data['visitors_per_date_a'].sum() - len(orders_by_users_a['transactions'])\n",
    "            ),\n",
    "            name='transactions',\n",
    "        ),\n",
    "    ],\n",
    "    axis=0,\n",
    ")\n",
    "\n",
    "#количество заказов пользователей группы В\n",
    "sample_b = pd.concat(\n",
    "    [\n",
    "        orders_by_users_b['transactions'],\n",
    "        pd.Series(\n",
    "            0,\n",
    "            index=np.arange(\n",
    "                data['visitors_per_date_b'].sum() - len(orders_by_users_b['transactions'])\n",
    "            ),\n",
    "            name='transactions',\n",
    "        ),\n",
    "    ],\n",
    "    axis=0,\n",
    ")\n",
    "#передадим критерию mannwhitneyu() данные о количестве заказов по группам\n",
    "p_value = stats.mannwhitneyu(sample_a, sample_b)[1]\n",
    "\n",
    "alpha = 0.05\n",
    "\n",
    "if p_value < alpha:\n",
    "    print('Отвергаем нулевую гипотезу, p-value = {0:.3f} < alpha = 0.05'.format(p_value))\n",
    "else:\n",
    "    print('Не получилось отвергнуть нулевую гипотезу, p-value = {0:.3f} > alpha = 0.05'.format(p_value))\n",
    "\n",
    "\n",
    "#относительный прирост среднего числа заказов группы B\n",
    "print(\n",
    "    \"Относительный прирост среднего количества заказов группы B = {0:.3f}\".format(\n",
    "        sample_b.mean() / sample_a.mean() - 1\n",
    "    )\n",
    ")"
   ]
  },
  {
   "cell_type": "markdown",
   "metadata": {},
   "source": [
    "По «сырым» данным есть различия в среднем числе заказов групп A и B.   \n",
    "p-value 0.017 меньше 0.05. Значит, нулевую гипотезу о том, что статистически значимых различий в среднем числе заказов между группами нет, отвергаем.  \n",
    "Относительный выигрыш группы B равен 13.8%."
   ]
  },
  {
   "cell_type": "markdown",
   "metadata": {},
   "source": [
    "### Посчитаем статистическую значимость различий в среднем чеке заказа между группами по «сырым» данным."
   ]
  },
  {
   "cell_type": "markdown",
   "metadata": {},
   "source": [
    "Сформулируем гипотезы.  \n",
    "Нулевая гипотеза: различий в среднем чеке между группами нет.  \n",
    "Альтернативная гипотеза: различия в среднем чеке между группами есть.  \n",
    "Для проверки гипотезы используем критерий U-критерий Манна-Уитни.  \n",
    "Чтобы рассчитать статистическую значимость различий в среднем чеке, передадим критерию mannwhitneyu() данные о выручке с заказов. \n",
    "А ещё найдём относительные различия в среднем чеке между группами"
   ]
  },
  {
   "cell_type": "code",
   "execution_count": 45,
   "metadata": {
    "scrolled": true
   },
   "outputs": [
    {
     "name": "stdout",
     "output_type": "stream",
     "text": [
      "Не получилось отвергнуть нулевую гипотезу, p-value = 0.729 > alpha = 0.05\n",
      "Относительный прирост среднего чека группы B = 0.259\n"
     ]
    }
   ],
   "source": [
    "p_value = stats.mannwhitneyu(\n",
    "    orders[orders['group']=='A']['revenue'], orders[orders['group']=='B']['revenue'])[1]\n",
    "\n",
    "if p_value < alpha:\n",
    "    print('Отвергаем нулевую гипотезу, p-value = {0:.3f} < alpha = 0.05'.format(p_value))\n",
    "else:\n",
    "    print('Не получилось отвергнуть нулевую гипотезу, p-value = {0:.3f} > alpha = 0.05'.format(p_value))\n",
    "\n",
    "print(\n",
    "    'Относительный прирост среднего чека группы B = {0:.3f}'.format(\n",
    "        orders[orders['group']=='B']['revenue'].mean()/orders[orders['group']=='A']['revenue'].mean()-1\n",
    "    )\n",
    ") "
   ]
  },
  {
   "cell_type": "markdown",
   "metadata": {},
   "source": [
    "P-value 0.729 значительно больше 0.05. Значит, причин отвергать нулевую гипотезу и считать, что в среднем чеке есть различия, нет.  \n",
    "Средний чек группы B выше среднего чека группы A (относительная разница 26%).  \n",
    "Хоть разница в среднем чеке в 26%, статистически значимой она не является. Отвергнуть нулевую гипотезу о равенстве средних чеков не удалось."
   ]
  },
  {
   "cell_type": "markdown",
   "metadata": {},
   "source": [
    "### Посчитаем статистическую значимость различий в среднем количестве заказов на посетителя между группами по «очищенным» данным."
   ]
  },
  {
   "cell_type": "markdown",
   "metadata": {},
   "source": [
    "95-й и 99-й перцентили средних чеков равны 28000 и 58233.2. А 95-й и 99-й перцентили количества заказов на одного пользователя равны 2 и 4 заказа на пользователя.\n",
    "Примем за аномальных пользователей тех, кто совершил от 3 заказов или совершил заказ дороже 40 000 рублей."
   ]
  },
  {
   "cell_type": "code",
   "execution_count": 46,
   "metadata": {},
   "outputs": [
    {
     "data": {
      "text/plain": [
       "1099     148427295\n",
       "18       199603092\n",
       "23       237748145\n",
       "684      358944393\n",
       "648      382846391\n",
       "1137     759473111\n",
       "339      834731816\n",
       "949      887908475\n",
       "744      888512513\n",
       "709      950626008\n",
       "1103    1164614297\n",
       "1136    1307669133\n",
       "858     1316129916\n",
       "425     1920142716\n",
       "227     2038680547\n",
       "1196    2108080724\n",
       "287     2254456485\n",
       "131     2254586615\n",
       "1006    2261934787\n",
       "755     2279926127\n",
       "269     2378935119\n",
       "278     2458001652\n",
       "1142    2606908679\n",
       "530     2912540959\n",
       "424     3062433592\n",
       "78      3288820196\n",
       "746     3321013705\n",
       "501     3717692402\n",
       "514     3803269165\n",
       "613     3931967268\n",
       "940     4003628586\n",
       "743     4133034833\n",
       "499     4256040402\n",
       "662     4266935830\n",
       "Name: visitor_id, dtype: int64"
      ]
     },
     "execution_count": 46,
     "metadata": {},
     "output_type": "execute_result"
    }
   ],
   "source": [
    "users_with_many_orders = pd.concat(\n",
    "    [\n",
    "        orders_by_users_a[orders_by_users_a['transactions'] > 3]['visitor_id'],\n",
    "        orders_by_users_b[orders_by_users_b['transactions'] > 3]['visitor_id'],\n",
    "    ],\n",
    "    axis=0,\n",
    ")\n",
    "\n",
    "users_with_expensive_orders = orders[orders['revenue'] > 40000]['visitor_id']\n",
    "\n",
    "abnormal_users = (\n",
    "    pd.concat([users_with_many_orders, users_with_expensive_orders], axis=0)\n",
    "    .drop_duplicates()\n",
    "    .sort_values()\n",
    ")\n",
    "\n",
    "abnormal_users"
   ]
  },
  {
   "cell_type": "code",
   "execution_count": 47,
   "metadata": {},
   "outputs": [],
   "source": [
    "sample_a_filtered = pd.concat(\n",
    "    [\n",
    "        orders_by_users_a[\n",
    "            np.logical_not(orders_by_users_a['visitor_id'].isin(abnormal_users))\n",
    "        ]['transactions'],\n",
    "        pd.Series(\n",
    "            0,\n",
    "            index=np.arange(\n",
    "                data['visitors_per_date_a'].sum() - len(orders_by_users_a['transactions'])\n",
    "            ),\n",
    "            name='transactions',\n",
    "        ),\n",
    "    ],\n",
    "    axis=0,\n",
    ")\n",
    "\n",
    "sample_b_filtered = pd.concat(\n",
    "    [\n",
    "        orders_by_users_b[\n",
    "            np.logical_not(orders_by_users_b['visitor_id'].isin(abnormal_users))\n",
    "        ]['transactions'],\n",
    "        pd.Series(\n",
    "            0,\n",
    "            index=np.arange(\n",
    "                data['visitors_per_date_b'].sum() - len(orders_by_users_b['transactions'])\n",
    "            ),\n",
    "            name='transactions',\n",
    "        ),\n",
    "    ],\n",
    "    axis=0,\n",
    ") \n"
   ]
  },
  {
   "cell_type": "code",
   "execution_count": 54,
   "metadata": {},
   "outputs": [
    {
     "data": {
      "text/plain": [
       "0    18330\n",
       "1      501\n",
       "2       16\n",
       "3        2\n",
       "Name: transactions, dtype: int64"
      ]
     },
     "execution_count": 54,
     "metadata": {},
     "output_type": "execute_result"
    }
   ],
   "source": [
    "sample_b_filtered.value_counts()"
   ]
  },
  {
   "cell_type": "markdown",
   "metadata": {},
   "source": [
    "Формулировки гипотез те же:  \n",
    "Нулевая: различий в среднем количестве заказов между группами нет.  \n",
    "Альтернативная: различия в среднем  количестве заказов между группами есть.    \n",
    "Применим статистический критерий Манна-Уитни к полученным выборкам"
   ]
  },
  {
   "cell_type": "code",
   "execution_count": 49,
   "metadata": {},
   "outputs": [
    {
     "name": "stdout",
     "output_type": "stream",
     "text": [
      "Отвергаем нулевую гипотезу, p-value = 0.009 < alpha = 0.05\n",
      "Относительный прирост среднего количества заказов группы B = 0.164\n"
     ]
    }
   ],
   "source": [
    "p_value = stats.mannwhitneyu(sample_a_filtered, sample_b_filtered)[1]\n",
    "\n",
    "if p_value < alpha:\n",
    "    print('Отвергаем нулевую гипотезу, p-value = {0:.3f} < alpha = 0.05'.format(p_value))\n",
    "else:\n",
    "    print('Не получилось отвергнуть нулевую гипотезу, p-value = {0:.3f} > alpha = 0.05'.format(p_value))\n",
    "\n",
    "\n",
    "print(\n",
    "    'Относительный прирост среднего количества заказов группы B = {0:.3f}'.format(\n",
    "        sample_b_filtered.mean()/sample_a_filtered.mean()-1\n",
    "    )\n",
    ") "
   ]
  },
  {
   "cell_type": "markdown",
   "metadata": {},
   "source": [
    "По «очищенным» от аномалий данным также есть различия в среднем числе заказов групп A и B.   \n",
    "p-value 0.009 (по «сырым» данным 0.017) также меньше 0.05.  \n",
    "Значит, нулевую гипотезу о том, что статистически значимых различий в среднем числе заказов между группами нет, отвергаем.  \n",
    "Относительный выигрыш группы B по «очищенным» данным равен 16.4% (по «сырым» данным - 13.8%)."
   ]
  },
  {
   "cell_type": "markdown",
   "metadata": {},
   "source": [
    "### Посчитаем статистическую значимость различий в среднем чеке заказа между группами по «очищенным» данным."
   ]
  },
  {
   "cell_type": "markdown",
   "metadata": {},
   "source": [
    "Формулировка гипотез та же:    \n",
    "Нулевая гипотеза: различий в среднем чеке между группами нет.  \n",
    "Альтернативная гипотеза: различия в среднем чеке между группами есть.  \n",
    "Для проверки гипотезы используем критерий U-критерий Манна-Уитни.    "
   ]
  },
  {
   "cell_type": "code",
   "execution_count": 50,
   "metadata": {},
   "outputs": [
    {
     "name": "stdout",
     "output_type": "stream",
     "text": [
      "Не получилось отвергнуть нулевую гипотезу, p-value = 0.711 > alpha = 0.05\n",
      "Относительный прирост среднего чека группы B = 0.060\n"
     ]
    }
   ],
   "source": [
    "p_value = stats.mannwhitneyu(\n",
    "            orders[\n",
    "                np.logical_and(\n",
    "                    orders['group'] == 'A',\n",
    "                    np.logical_not(orders['visitor_id'].isin(abnormal_users)),\n",
    "                )\n",
    "            ]['revenue'],\n",
    "            orders[\n",
    "                np.logical_and(\n",
    "                    orders['group'] == 'B',\n",
    "                    np.logical_not(orders['visitor_id'].isin(abnormal_users)),\n",
    "                )\n",
    "            ]['revenue'],\n",
    "        )[1]\n",
    "\n",
    "if p_value < alpha:\n",
    "    print('Отвергаем нулевую гипотезу, p-value = {0:.3f} < alpha = 0.05'.format(p_value))\n",
    "else:\n",
    "    print('Не получилось отвергнуть нулевую гипотезу, p-value = {0:.3f} > alpha = 0.05'.format(p_value))\n",
    "\n",
    "print(\n",
    "    \"Относительный прирост среднего чека группы B = {0:.3f}\".format(\n",
    "        orders[\n",
    "            np.logical_and(\n",
    "                orders['group'] == 'B',\n",
    "                np.logical_not(orders['visitor_id'].isin(abnormal_users)),\n",
    "            )\n",
    "        ]['revenue'].mean()\n",
    "        / orders[\n",
    "            np.logical_and(\n",
    "                orders['group'] == 'A',\n",
    "                np.logical_not(orders['visitor_id'].isin(abnormal_users)),\n",
    "            )\n",
    "        ]['revenue'].mean()\n",
    "        - 1\n",
    "    )\n",
    ") \n"
   ]
  },
  {
   "cell_type": "markdown",
   "metadata": {},
   "source": [
    "P-value по «очищенным» данным 0.711 (по «сырым» данным 0.729) также значительно больше 0.05. Значит, причин отвергать нулевую гипотезу и считать, что в среднем чеке есть различия, нет.  \n",
    "Относительная разница в средних чеках группы B к группе A сократилась и стала по «очищенным данным 6%(по «сырым» данным относительная разница 26%).\n",
    "На средний чек сильное влияние оказали аномальные по стоимости заказы."
   ]
  },
  {
   "cell_type": "markdown",
   "metadata": {},
   "source": [
    "### Посчитаем статистическую значимость различий в среднем количестве заказов на посетителя и в среднем чеке заказа между группами по «очищенным» от аномальных заказов данным (в том числе от заказов пользователей, входящих в группы А и В одновременно)."
   ]
  },
  {
   "cell_type": "markdown",
   "metadata": {},
   "source": [
    "Формулировка гипотез та же:    \n",
    "Нулевая гипотеза: различий в среднем количестве заказов на посетителя между группами нет.  \n",
    "Альтернативная гипотеза: различия в среднем количестве заказов на посетителя между группами есть.  \n",
    "Для проверки гипотезы используем критерий U-критерий Манна-Уитни.   "
   ]
  },
  {
   "cell_type": "code",
   "execution_count": 51,
   "metadata": {},
   "outputs": [
    {
     "data": {
      "text/plain": [
       "42         8300375\n",
       "1099     148427295\n",
       "18       199603092\n",
       "7        232979603\n",
       "23       237748145\n",
       "           ...    \n",
       "6       4120364173\n",
       "743     4133034833\n",
       "48      4186807279\n",
       "499     4256040402\n",
       "662     4266935830\n",
       "Length: 81, dtype: int64"
      ]
     },
     "execution_count": 51,
     "metadata": {},
     "output_type": "execute_result"
    }
   ],
   "source": [
    "#пользователи, входящие в группу А и группу В одновременно\n",
    "users_a_b = pd.Series(a_b)\n",
    "\n",
    "#все аномальные пользователи вместе\n",
    "all_abnormal_users = (\n",
    "    pd.concat([abnormal_users, users_a_b], axis=0)\n",
    "    .drop_duplicates()\n",
    "    .sort_values()\n",
    ")\n",
    "\n",
    "all_abnormal_users"
   ]
  },
  {
   "cell_type": "markdown",
   "metadata": {},
   "source": [
    "Из общих данных исключим заказы 81 пользователя."
   ]
  },
  {
   "cell_type": "code",
   "execution_count": 52,
   "metadata": {},
   "outputs": [
    {
     "name": "stdout",
     "output_type": "stream",
     "text": [
      "Отвергаем нулевую гипотезу, p-value = 0.006 < alpha = 0.05\n",
      "Относительный прирост среднего количества заказов группы B = 0.178\n"
     ]
    }
   ],
   "source": [
    "sample_a_filtered = pd.concat(\n",
    "    [\n",
    "        orders_by_users_a[\n",
    "            np.logical_not(orders_by_users_a['visitor_id'].isin(all_abnormal_users))\n",
    "        ]['transactions'],\n",
    "        pd.Series(\n",
    "            0,\n",
    "            index=np.arange(\n",
    "                data['visitors_per_date_a'].sum() - len(orders_by_users_a['transactions'])\n",
    "            ),\n",
    "            name='transactions',\n",
    "        ),\n",
    "    ],\n",
    "    axis=0,\n",
    ")\n",
    "\n",
    "sample_b_filtered = pd.concat(\n",
    "    [\n",
    "        orders_by_users_b[\n",
    "            np.logical_not(orders_by_users_b['visitor_id'].isin(all_abnormal_users))\n",
    "        ]['transactions'],\n",
    "        pd.Series(\n",
    "            0,\n",
    "            index=np.arange(\n",
    "                data['visitors_per_date_b'].sum() - len(orders_by_users_b['transactions'])\n",
    "            ),\n",
    "            name='transactions',\n",
    "        ),\n",
    "    ],\n",
    "    axis=0,\n",
    ") \n",
    "\n",
    "p_value = stats.mannwhitneyu(sample_a_filtered, sample_b_filtered)[1]\n",
    "\n",
    "if p_value < alpha:\n",
    "    print('Отвергаем нулевую гипотезу, p-value = {0:.3f} < alpha = 0.05'.format(p_value))\n",
    "else:\n",
    "    print('Не получилось отвергнуть нулевую гипотезу, p-value = {0:.3f} > alpha = 0.05'.format(p_value))\n",
    "\n",
    "\n",
    "print(\n",
    "    'Относительный прирост среднего количества заказов группы B = {0:.3f}'.format(\n",
    "        sample_b_filtered.mean()/sample_a_filtered.mean()-1\n",
    "    )\n",
    ") "
   ]
  },
  {
   "cell_type": "markdown",
   "metadata": {},
   "source": [
    "p-value уменьшилось до 0.006 (было 0.009 по «очищенным» от аномальных заказов данным и 0.017 по «сырым» данным).  \n",
    "Значит, нулевую гипотезу о том, что статистически значимых различий в среднем числе заказов между группами нет, по прежнему отвергаем.  \n",
    "Относительный выигрыш группы B стал 17.8% (был 16.4% по «очищенным» данным и 13.8% по «сырым» данным). \n",
    "Таким образом, наличие в данных пользователей, входящих одновременно в обе группы на результат эксперимента значительно не повлияло. По прежнему видно преимущество в среднем числе заказов группы В над группой А."
   ]
  },
  {
   "cell_type": "markdown",
   "metadata": {},
   "source": [
    "Формулировка гипотез та же:    \n",
    "Нулевая гипотеза: различий в среднем чеке между группами нет.  \n",
    "Альтернативная гипотеза: различия в среднем чеке между группами есть.  \n",
    "Для проверки гипотезы используем критерий U-критерий Манна-Уитни.  "
   ]
  },
  {
   "cell_type": "code",
   "execution_count": 53,
   "metadata": {},
   "outputs": [
    {
     "name": "stdout",
     "output_type": "stream",
     "text": [
      "Не получилось отвергнуть нулевую гипотезу, p-value = 0.831 > alpha = 0.05\n",
      "Относительный прирост среднего чека группы B = 0.051\n"
     ]
    }
   ],
   "source": [
    "p_value = stats.mannwhitneyu(\n",
    "            orders[\n",
    "                np.logical_and(\n",
    "                    orders['group'] == 'A',\n",
    "                    np.logical_not(orders['visitor_id'].isin(all_abnormal_users)),\n",
    "                )\n",
    "            ]['revenue'],\n",
    "            orders[\n",
    "                np.logical_and(\n",
    "                    orders['group'] == 'B',\n",
    "                    np.logical_not(orders['visitor_id'].isin(all_abnormal_users)),\n",
    "                )\n",
    "            ]['revenue'],\n",
    "        )[1]\n",
    "\n",
    "if p_value < alpha:\n",
    "    print('Отвергаем нулевую гипотезу, p-value = {0:.3f} < alpha = 0.05'.format(p_value))\n",
    "else:\n",
    "    print('Не получилось отвергнуть нулевую гипотезу, p-value = {0:.3f} > alpha = 0.05'.format(p_value))\n",
    "    \n",
    "print(\n",
    "    \"Относительный прирост среднего чека группы B = {0:.3f}\".format(\n",
    "        orders[\n",
    "            np.logical_and(\n",
    "                orders['group'] == 'B',\n",
    "                np.logical_not(orders['visitor_id'].isin(all_abnormal_users)),\n",
    "            )\n",
    "        ]['revenue'].mean()\n",
    "        / orders[\n",
    "            np.logical_and(\n",
    "                orders['group'] == 'A',\n",
    "                np.logical_not(orders['visitor_id'].isin(all_abnormal_users)),\n",
    "            )\n",
    "        ]['revenue'].mean()\n",
    "        - 1\n",
    "    )\n",
    ") "
   ]
  },
  {
   "cell_type": "markdown",
   "metadata": {},
   "source": [
    "P-value увеличилось до 0.831 (было 0.711 по «очищенным» данным, 0.729 по «сырым» данным), то есть по прежнему значительно больше 0.05. Значит, причин отвергать нулевую гипотезу и считать, что в среднем чеке есть различия, нет.  \n",
    "Относительная разница в средних чеках группы B к группе A сократилась и стала 5.1% (по «очищенным данным 6%, по «сырым» данным 26%).  \n",
    "Таким образом, наличие в данных пользователей, входящих одновременно в обе группы на средний чек значительно не повлияло.  Разница в 5.1 % в среднем чеке статистически значимой по прежнему не является."
   ]
  },
  {
   "cell_type": "markdown",
   "metadata": {},
   "source": [
    "###\tПримем решение по результатам теста."
   ]
  },
  {
   "cell_type": "markdown",
   "metadata": {},
   "source": [
    "Варианты решений:  \n",
    "1. Остановить тест, зафиксировать победу одной из групп.  \n",
    "2. Остановить тест, зафиксировать отсутствие различий между группами.  \n",
    "3. Продолжить тест."
   ]
  },
  {
   "cell_type": "markdown",
   "metadata": {},
   "source": [
    "По результатам A/B-теста установлено следующее:  \n",
    "- Есть статистически значимое различие по конверсии между группами как по сырым данным, так и после фильтрации аномалий.\n",
    "- Статистически значимого различия по среднему чеку между группами нет как по сырым данным, так и после фильтрации аномалий.\n",
    "- Конверсия группы В стабильно выше конверсии группы А.\n",
    "- Средний чек колебался, но это была связвно с аномальными заказами.  \n",
    "\n",
    "Таким образом, в случае принятия данных достоверными, тест можно признать успешным и перейти к проверке следующей гипотезы.  \n",
    "\n",
    "При признании данных недостоверными (ошибка при проведении A/B-теста или при сборе результатов) из-за наличия 15% пользователей в обеих группах, тест необходимо провести заново. Наличие пользователя в обеих группах недопустимо. Если пользователь видит разные версии исследуемой страницы в ходе одного исследования, неизвестно, какая именно повлияла на его решения. Значит, и результаты такого теста нельзя интерпретировать однозначно. Даже исключение таких пользователей из результата теста не может гарантировать, что все остальные данные были собраны корректно."
   ]
  },
  {
   "cell_type": "markdown",
   "metadata": {},
   "source": [
    "## Общий вывод"
   ]
  },
  {
   "cell_type": "markdown",
   "metadata": {},
   "source": [
    "Проведен анализ данных крупного интернет-магазина (списка гипотез и результатов A/B-теста).\n",
    "\n",
    "**1) Приоритизация гипотез**\n",
    "- Всего в файле hypothesis.csv содержатся параметры 9 гипотез (Reach, Impact, Confidence и Efforts);\n",
    "- В названии столбцов прописные буквы заменены строчными;\n",
    "- Пропущенных значений в данных нет;\n",
    "- При применении фреймворка ICE для приоритизации гипотез составлен список из 5 самых перспективных гипотез:  \n",
    "    1) 8 - Запустить акцию, дающую скидку на товар в день рождения  \n",
    "    2) 0 - Добавить два новых канала привлечения трафика, что позволит привлекать на 30% больше пользователей  \n",
    "    3) 7 - Добавить форму подписки на все основные страницы, чтобы собрать базу клиентов для email-рассылок  \n",
    "    4) 6 - Показать на главной странице баннеры с актуальными акциями и распродажами, чтобы увеличить конверсию  \n",
    "    5) 2 - Добавить блоки рекомендаций товаров на сайт интернет магазина, чтобы повысить конверсию и средний чек заказа  \n",
    "- При применении фреймворка RICE для приоритизации гипотез составлен список из 5 самых перспективных гипотез:  \n",
    "    1) 7 - Добавить форму подписки на все основные страницы, чтобы собрать базу клиентов для email-рассылок  \n",
    "    2) 2 - Добавить блоки рекомендаций товаров на сайт интернет магазина, чтобы повысить конверсию и средний чек заказа  \n",
    "    3) 0 - Добавить два новых канала привлечения трафика, что позволит привлекать на 30% больше пользователей  \n",
    "    4) 6 - Показать на главной странице баннеры с актуальными акциями и распродажами, чтобы увеличить конверсию  \n",
    "    5) 8 - Запустить акцию, дающую скидку на товар в день рождения\n",
    "    \n",
    "**2) Анализ A/B-теста**\n",
    "- Проведена предобработка и исследовательский аналих данных orders.csv и visitors.csv:\n",
    "  - Всего в файле orders.csv 1197 строк и 5 столбцов (transactionId, visitorId, date, revenue и group). \n",
    "  - В названии столбцов присутствуют прописные буквы. Заменены строчными.\n",
    "  - Тип данных в столбце date заменен на datetime.\n",
    "  - Дубликаты и пропущенные значения не установлены.\n",
    "  - Установлено, что 58 пользователй входят и в группу А и в группу В одновременно.\n",
    "  - Всего в файле visitors.csv 62 строки и 3 столбца (date, group и visitors).\n",
    "  - Тип данных в столбце date заменен на datetime.\n",
    "  - Пропущенных значений и дубликатов не установлено.\n",
    "- Тестирование проводилось на протяжении 1 месяца (с 1 по 31 августа 2019). Всего за время теста было сделано 1197 заказов от 1031 уникального пользователя. Изучены результаты проведенного A/B-теста:\n",
    "  - Кумулятивная выручка группы В практически всегда больше, чем группы А. С 1 по 5 августа они шли вровень, затем выручка группы В стала больше. 13 августа выручки снова сравнялись, затем уже в группе В выручка стабильно выше. С 20 августа и до конца эксперимента различие составляет около 2 000 000.\n",
    "  - Средний чек группы В почти все время выше. За исключением первого дня и периода с 12 по 15 августа. Вероятно в этот период в группе А были заказы на крупные суммы.\n",
    "  - Конверсия пользователей группы В с 6 августа стабильно опережает конверсию пользователей группы А.\n",
    "- За аномальных пользователей приняты те, кто совершил от 3 заказов или совершил заказ дороже 40 000 рублей.\n",
    "- По «сырым» и очищенным данным есть различия в среднем числе заказов групп A и B. Относительный выигрыш группы B равен 13.8% по «сырым» данным и 16.4% по «очищенным» данным.\n",
    "- По «сырым» и очищенным данным статистически значимого различия в средних чеках в группах A и B нет. Относительная разница в средних чеках группы B к группе A по «очищенным данным 6%, по «сырым» данным 26%.\n",
    "- Наличие в данных пользователей, входящих одновременно в группы А и В на средний чек и среднее число заказов значительно не повлияло.\n",
    "\n",
    "Таким образом, A/B-тест можно признать успешным и перейти к проверке следующей гипотезы.  "
   ]
  }
 ],
 "metadata": {
  "ExecuteTimeLog": [
   {
    "duration": 883,
    "start_time": "2023-11-22T11:50:54.189Z"
   },
   {
    "duration": 70,
    "start_time": "2023-11-22T11:50:57.984Z"
   },
   {
    "duration": 15,
    "start_time": "2023-11-22T11:51:03.688Z"
   },
   {
    "duration": 12,
    "start_time": "2023-11-22T11:51:21.432Z"
   },
   {
    "duration": 6,
    "start_time": "2023-11-22T11:56:09.678Z"
   },
   {
    "duration": 10,
    "start_time": "2023-11-22T11:56:55.243Z"
   },
   {
    "duration": 70,
    "start_time": "2023-11-22T12:00:10.684Z"
   },
   {
    "duration": 69,
    "start_time": "2023-11-22T12:00:22.613Z"
   },
   {
    "duration": 92,
    "start_time": "2023-11-22T12:00:36.238Z"
   },
   {
    "duration": 8,
    "start_time": "2023-11-22T12:00:59.191Z"
   },
   {
    "duration": 136,
    "start_time": "2023-11-22T12:51:33.122Z"
   },
   {
    "duration": 13,
    "start_time": "2023-11-22T12:51:36.636Z"
   },
   {
    "duration": 13,
    "start_time": "2023-11-22T12:51:40.460Z"
   },
   {
    "duration": 6,
    "start_time": "2023-11-22T12:51:53.818Z"
   },
   {
    "duration": 9,
    "start_time": "2023-11-22T12:51:56.348Z"
   },
   {
    "duration": 9,
    "start_time": "2023-11-22T12:52:00.956Z"
   },
   {
    "duration": 16,
    "start_time": "2023-11-22T12:52:03.675Z"
   },
   {
    "duration": 10,
    "start_time": "2023-11-22T12:52:07.228Z"
   },
   {
    "duration": 9,
    "start_time": "2023-11-22T12:52:16.556Z"
   },
   {
    "duration": 6,
    "start_time": "2023-11-22T12:52:18.100Z"
   },
   {
    "duration": 6,
    "start_time": "2023-11-22T12:56:44.279Z"
   },
   {
    "duration": 862,
    "start_time": "2023-11-22T12:57:14.248Z"
   },
   {
    "duration": 28,
    "start_time": "2023-11-22T12:57:15.112Z"
   },
   {
    "duration": 39,
    "start_time": "2023-11-22T12:57:15.142Z"
   },
   {
    "duration": 35,
    "start_time": "2023-11-22T12:57:15.184Z"
   },
   {
    "duration": 20,
    "start_time": "2023-11-22T12:57:15.220Z"
   },
   {
    "duration": 51,
    "start_time": "2023-11-22T12:57:15.242Z"
   },
   {
    "duration": 11,
    "start_time": "2023-11-22T12:57:15.295Z"
   },
   {
    "duration": 128,
    "start_time": "2023-11-22T12:57:15.308Z"
   },
   {
    "duration": 50,
    "start_time": "2023-11-22T12:57:15.437Z"
   },
   {
    "duration": 31,
    "start_time": "2023-11-22T12:57:15.490Z"
   },
   {
    "duration": 17,
    "start_time": "2023-11-22T12:57:15.523Z"
   },
   {
    "duration": 8,
    "start_time": "2023-11-22T12:57:15.542Z"
   },
   {
    "duration": 14,
    "start_time": "2023-11-22T12:57:15.552Z"
   },
   {
    "duration": 16,
    "start_time": "2023-11-22T12:57:15.569Z"
   },
   {
    "duration": 26,
    "start_time": "2023-11-22T12:57:15.587Z"
   },
   {
    "duration": 12,
    "start_time": "2023-11-22T12:57:15.615Z"
   },
   {
    "duration": 24,
    "start_time": "2023-11-22T12:57:15.628Z"
   },
   {
    "duration": 3,
    "start_time": "2023-11-22T13:00:03.239Z"
   },
   {
    "duration": 6,
    "start_time": "2023-11-22T13:00:08.022Z"
   },
   {
    "duration": 6,
    "start_time": "2023-11-22T13:00:13.974Z"
   },
   {
    "duration": 352,
    "start_time": "2023-11-22T14:07:52.693Z"
   },
   {
    "duration": 1275,
    "start_time": "2023-11-22T14:09:22.996Z"
   },
   {
    "duration": 72,
    "start_time": "2023-11-22T14:09:24.273Z"
   },
   {
    "duration": 21,
    "start_time": "2023-11-22T14:09:24.346Z"
   },
   {
    "duration": 18,
    "start_time": "2023-11-22T14:09:24.369Z"
   },
   {
    "duration": 8,
    "start_time": "2023-11-22T14:09:24.389Z"
   },
   {
    "duration": 22,
    "start_time": "2023-11-22T14:09:24.399Z"
   },
   {
    "duration": 9,
    "start_time": "2023-11-22T14:09:24.423Z"
   },
   {
    "duration": 57,
    "start_time": "2023-11-22T14:09:24.434Z"
   },
   {
    "duration": 13,
    "start_time": "2023-11-22T14:09:24.493Z"
   },
   {
    "duration": 12,
    "start_time": "2023-11-22T14:09:24.508Z"
   },
   {
    "duration": 8,
    "start_time": "2023-11-22T14:09:24.522Z"
   },
   {
    "duration": 15,
    "start_time": "2023-11-22T14:09:24.532Z"
   },
   {
    "duration": 8,
    "start_time": "2023-11-22T14:09:24.550Z"
   },
   {
    "duration": 10,
    "start_time": "2023-11-22T14:09:24.560Z"
   },
   {
    "duration": 20,
    "start_time": "2023-11-22T14:09:24.572Z"
   },
   {
    "duration": 23,
    "start_time": "2023-11-22T14:09:24.594Z"
   },
   {
    "duration": 6,
    "start_time": "2023-11-22T14:09:24.620Z"
   },
   {
    "duration": 567,
    "start_time": "2023-11-22T14:09:24.627Z"
   },
   {
    "duration": 529,
    "start_time": "2023-11-22T14:10:05.357Z"
   },
   {
    "duration": 47,
    "start_time": "2023-11-22T18:05:30.130Z"
   },
   {
    "duration": 1155,
    "start_time": "2023-11-22T18:05:38.117Z"
   },
   {
    "duration": 116,
    "start_time": "2023-11-22T18:05:39.274Z"
   },
   {
    "duration": 11,
    "start_time": "2023-11-22T18:05:39.392Z"
   },
   {
    "duration": 28,
    "start_time": "2023-11-22T18:05:39.405Z"
   },
   {
    "duration": 25,
    "start_time": "2023-11-22T18:05:39.435Z"
   },
   {
    "duration": 35,
    "start_time": "2023-11-22T18:05:39.461Z"
   },
   {
    "duration": 36,
    "start_time": "2023-11-22T18:05:39.498Z"
   },
   {
    "duration": 154,
    "start_time": "2023-11-22T18:05:39.535Z"
   },
   {
    "duration": 12,
    "start_time": "2023-11-22T18:05:39.691Z"
   },
   {
    "duration": 27,
    "start_time": "2023-11-22T18:05:39.705Z"
   },
   {
    "duration": 25,
    "start_time": "2023-11-22T18:05:39.733Z"
   },
   {
    "duration": 28,
    "start_time": "2023-11-22T18:05:39.759Z"
   },
   {
    "duration": 27,
    "start_time": "2023-11-22T18:05:39.788Z"
   },
   {
    "duration": 129,
    "start_time": "2023-11-22T18:05:39.816Z"
   },
   {
    "duration": 0,
    "start_time": "2023-11-22T18:05:39.946Z"
   },
   {
    "duration": 0,
    "start_time": "2023-11-22T18:05:39.947Z"
   },
   {
    "duration": 0,
    "start_time": "2023-11-22T18:05:39.948Z"
   },
   {
    "duration": 0,
    "start_time": "2023-11-22T18:05:39.949Z"
   },
   {
    "duration": 0,
    "start_time": "2023-11-22T18:05:39.958Z"
   },
   {
    "duration": 16,
    "start_time": "2023-11-22T18:05:59.660Z"
   },
   {
    "duration": 75,
    "start_time": "2023-11-22T18:06:16.531Z"
   },
   {
    "duration": 16,
    "start_time": "2023-11-22T18:06:39.802Z"
   },
   {
    "duration": 16,
    "start_time": "2023-11-22T18:06:55.582Z"
   },
   {
    "duration": 15,
    "start_time": "2023-11-22T18:08:21.606Z"
   },
   {
    "duration": 12,
    "start_time": "2023-11-22T18:09:53.413Z"
   },
   {
    "duration": 16,
    "start_time": "2023-11-22T18:10:05.069Z"
   },
   {
    "duration": 5,
    "start_time": "2023-11-22T18:11:06.585Z"
   },
   {
    "duration": 8,
    "start_time": "2023-11-22T18:11:13.155Z"
   },
   {
    "duration": 12,
    "start_time": "2023-11-22T18:11:32.203Z"
   },
   {
    "duration": 5,
    "start_time": "2023-11-22T18:11:50.875Z"
   },
   {
    "duration": 6,
    "start_time": "2023-11-22T18:11:55.978Z"
   },
   {
    "duration": 7,
    "start_time": "2023-11-22T18:12:13.307Z"
   },
   {
    "duration": 8,
    "start_time": "2023-11-22T18:15:47.681Z"
   },
   {
    "duration": 9,
    "start_time": "2023-11-22T18:17:07.198Z"
   },
   {
    "duration": 8,
    "start_time": "2023-11-22T18:17:14.789Z"
   },
   {
    "duration": 5,
    "start_time": "2023-11-22T18:17:24.512Z"
   },
   {
    "duration": 5,
    "start_time": "2023-11-22T18:17:28.844Z"
   },
   {
    "duration": 7,
    "start_time": "2023-11-22T18:17:31.804Z"
   },
   {
    "duration": 5,
    "start_time": "2023-11-22T18:18:17.248Z"
   },
   {
    "duration": 4,
    "start_time": "2023-11-22T18:27:34.569Z"
   },
   {
    "duration": 5,
    "start_time": "2023-11-22T18:27:45.793Z"
   },
   {
    "duration": 9,
    "start_time": "2023-11-22T18:31:29.130Z"
   },
   {
    "duration": 176,
    "start_time": "2023-11-22T18:33:18.396Z"
   },
   {
    "duration": 15,
    "start_time": "2023-11-22T18:33:51.933Z"
   },
   {
    "duration": 14,
    "start_time": "2023-11-22T18:34:42.830Z"
   },
   {
    "duration": 14,
    "start_time": "2023-11-22T18:35:15.524Z"
   },
   {
    "duration": 14,
    "start_time": "2023-11-22T18:35:26.144Z"
   },
   {
    "duration": 4,
    "start_time": "2023-11-22T18:36:06.765Z"
   },
   {
    "duration": 13,
    "start_time": "2023-11-22T18:36:15.136Z"
   },
   {
    "duration": 10,
    "start_time": "2023-11-22T18:36:40.728Z"
   },
   {
    "duration": 13,
    "start_time": "2023-11-22T18:36:52.016Z"
   },
   {
    "duration": 4,
    "start_time": "2023-11-22T18:40:24.705Z"
   },
   {
    "duration": 13,
    "start_time": "2023-11-22T18:41:59.484Z"
   },
   {
    "duration": 23,
    "start_time": "2023-11-22T18:43:55.037Z"
   },
   {
    "duration": 1301,
    "start_time": "2023-11-22T18:46:57.433Z"
   },
   {
    "duration": 8,
    "start_time": "2023-11-22T18:47:36.377Z"
   },
   {
    "duration": 6,
    "start_time": "2023-11-22T18:57:15.896Z"
   },
   {
    "duration": 1100,
    "start_time": "2023-11-22T18:59:01.871Z"
   },
   {
    "duration": 74,
    "start_time": "2023-11-22T18:59:02.973Z"
   },
   {
    "duration": 13,
    "start_time": "2023-11-22T18:59:03.048Z"
   },
   {
    "duration": 13,
    "start_time": "2023-11-22T18:59:03.064Z"
   },
   {
    "duration": 8,
    "start_time": "2023-11-22T18:59:03.079Z"
   },
   {
    "duration": 9,
    "start_time": "2023-11-22T18:59:03.088Z"
   },
   {
    "duration": 7,
    "start_time": "2023-11-22T18:59:03.098Z"
   },
   {
    "duration": 51,
    "start_time": "2023-11-22T18:59:03.106Z"
   },
   {
    "duration": 19,
    "start_time": "2023-11-22T18:59:03.159Z"
   },
   {
    "duration": 10,
    "start_time": "2023-11-22T18:59:03.180Z"
   },
   {
    "duration": 10,
    "start_time": "2023-11-22T18:59:03.191Z"
   },
   {
    "duration": 24,
    "start_time": "2023-11-22T18:59:03.203Z"
   },
   {
    "duration": 5,
    "start_time": "2023-11-22T18:59:03.228Z"
   },
   {
    "duration": 13,
    "start_time": "2023-11-22T18:59:03.234Z"
   },
   {
    "duration": 16,
    "start_time": "2023-11-22T18:59:03.249Z"
   },
   {
    "duration": 7,
    "start_time": "2023-11-22T18:59:03.267Z"
   },
   {
    "duration": 4,
    "start_time": "2023-11-22T18:59:03.275Z"
   },
   {
    "duration": 22,
    "start_time": "2023-11-22T18:59:03.280Z"
   },
   {
    "duration": 6,
    "start_time": "2023-11-22T18:59:03.303Z"
   },
   {
    "duration": 5,
    "start_time": "2023-11-22T18:59:03.310Z"
   },
   {
    "duration": 8,
    "start_time": "2023-11-22T18:59:03.317Z"
   },
   {
    "duration": 45,
    "start_time": "2023-11-22T18:59:03.327Z"
   },
   {
    "duration": 5,
    "start_time": "2023-11-22T18:59:03.374Z"
   },
   {
    "duration": 4,
    "start_time": "2023-11-22T18:59:03.381Z"
   },
   {
    "duration": 550,
    "start_time": "2023-11-22T18:59:03.387Z"
   },
   {
    "duration": 7,
    "start_time": "2023-11-22T19:01:34.264Z"
   },
   {
    "duration": 489,
    "start_time": "2023-11-22T19:02:51.071Z"
   },
   {
    "duration": 114,
    "start_time": "2023-11-22T19:05:26.273Z"
   },
   {
    "duration": 500,
    "start_time": "2023-11-22T19:06:06.506Z"
   },
   {
    "duration": 7,
    "start_time": "2023-11-22T19:12:14.666Z"
   },
   {
    "duration": 8,
    "start_time": "2023-11-22T19:13:21.237Z"
   },
   {
    "duration": 6,
    "start_time": "2023-11-22T19:14:19.019Z"
   },
   {
    "duration": 477,
    "start_time": "2023-11-22T19:14:33.036Z"
   },
   {
    "duration": 483,
    "start_time": "2023-11-22T19:14:37.693Z"
   },
   {
    "duration": 1250,
    "start_time": "2023-11-23T06:32:46.851Z"
   },
   {
    "duration": 133,
    "start_time": "2023-11-23T06:32:48.102Z"
   },
   {
    "duration": 11,
    "start_time": "2023-11-23T06:32:48.237Z"
   },
   {
    "duration": 21,
    "start_time": "2023-11-23T06:32:48.249Z"
   },
   {
    "duration": 7,
    "start_time": "2023-11-23T06:32:48.272Z"
   },
   {
    "duration": 14,
    "start_time": "2023-11-23T06:32:48.280Z"
   },
   {
    "duration": 23,
    "start_time": "2023-11-23T06:32:48.295Z"
   },
   {
    "duration": 146,
    "start_time": "2023-11-23T06:32:48.319Z"
   },
   {
    "duration": 12,
    "start_time": "2023-11-23T06:32:48.466Z"
   },
   {
    "duration": 27,
    "start_time": "2023-11-23T06:32:48.479Z"
   },
   {
    "duration": 4,
    "start_time": "2023-11-23T06:32:48.507Z"
   },
   {
    "duration": 7,
    "start_time": "2023-11-23T06:32:48.512Z"
   },
   {
    "duration": 21,
    "start_time": "2023-11-23T06:32:48.520Z"
   },
   {
    "duration": 12,
    "start_time": "2023-11-23T06:32:48.544Z"
   },
   {
    "duration": 18,
    "start_time": "2023-11-23T06:32:48.557Z"
   },
   {
    "duration": 15,
    "start_time": "2023-11-23T06:32:48.576Z"
   },
   {
    "duration": 5,
    "start_time": "2023-11-23T06:32:48.593Z"
   },
   {
    "duration": 31,
    "start_time": "2023-11-23T06:32:48.599Z"
   },
   {
    "duration": 6,
    "start_time": "2023-11-23T06:32:48.632Z"
   },
   {
    "duration": 13,
    "start_time": "2023-11-23T06:32:48.639Z"
   },
   {
    "duration": 20,
    "start_time": "2023-11-23T06:32:48.654Z"
   },
   {
    "duration": 14,
    "start_time": "2023-11-23T06:32:48.676Z"
   },
   {
    "duration": 10,
    "start_time": "2023-11-23T06:32:48.691Z"
   },
   {
    "duration": 21,
    "start_time": "2023-11-23T06:32:48.703Z"
   },
   {
    "duration": 17,
    "start_time": "2023-11-23T06:32:48.725Z"
   },
   {
    "duration": 17,
    "start_time": "2023-11-23T06:32:48.744Z"
   },
   {
    "duration": 525,
    "start_time": "2023-11-23T06:32:48.762Z"
   },
   {
    "duration": 473,
    "start_time": "2023-11-23T06:32:49.289Z"
   },
   {
    "duration": 999,
    "start_time": "2023-11-23T06:40:42.024Z"
   },
   {
    "duration": 76,
    "start_time": "2023-11-23T06:40:43.025Z"
   },
   {
    "duration": 12,
    "start_time": "2023-11-23T06:40:43.102Z"
   },
   {
    "duration": 16,
    "start_time": "2023-11-23T06:40:43.116Z"
   },
   {
    "duration": 6,
    "start_time": "2023-11-23T06:40:43.134Z"
   },
   {
    "duration": 10,
    "start_time": "2023-11-23T06:40:43.142Z"
   },
   {
    "duration": 25,
    "start_time": "2023-11-23T06:40:43.153Z"
   },
   {
    "duration": 58,
    "start_time": "2023-11-23T06:40:43.180Z"
   },
   {
    "duration": 13,
    "start_time": "2023-11-23T06:40:43.239Z"
   },
   {
    "duration": 17,
    "start_time": "2023-11-23T06:40:43.254Z"
   },
   {
    "duration": 15,
    "start_time": "2023-11-23T06:40:43.272Z"
   },
   {
    "duration": 14,
    "start_time": "2023-11-23T06:40:43.288Z"
   },
   {
    "duration": 27,
    "start_time": "2023-11-23T06:40:43.303Z"
   },
   {
    "duration": 17,
    "start_time": "2023-11-23T06:40:43.331Z"
   },
   {
    "duration": 6,
    "start_time": "2023-11-23T06:40:43.349Z"
   },
   {
    "duration": 6,
    "start_time": "2023-11-23T06:40:43.356Z"
   },
   {
    "duration": 9,
    "start_time": "2023-11-23T06:40:43.364Z"
   },
   {
    "duration": 26,
    "start_time": "2023-11-23T06:40:43.374Z"
   },
   {
    "duration": 8,
    "start_time": "2023-11-23T06:40:43.402Z"
   },
   {
    "duration": 8,
    "start_time": "2023-11-23T06:40:43.412Z"
   },
   {
    "duration": 5,
    "start_time": "2023-11-23T06:40:43.421Z"
   },
   {
    "duration": 23,
    "start_time": "2023-11-23T06:40:43.428Z"
   },
   {
    "duration": 27,
    "start_time": "2023-11-23T06:40:43.452Z"
   },
   {
    "duration": 6,
    "start_time": "2023-11-23T06:40:43.481Z"
   },
   {
    "duration": 8,
    "start_time": "2023-11-23T06:40:43.488Z"
   },
   {
    "duration": 7,
    "start_time": "2023-11-23T06:40:43.498Z"
   },
   {
    "duration": 367,
    "start_time": "2023-11-23T06:40:43.507Z"
   },
   {
    "duration": 0,
    "start_time": "2023-11-23T06:40:43.875Z"
   },
   {
    "duration": 502,
    "start_time": "2023-11-23T06:41:28.008Z"
   },
   {
    "duration": 468,
    "start_time": "2023-11-23T06:42:45.405Z"
   },
   {
    "duration": 1243,
    "start_time": "2023-11-23T06:45:59.220Z"
   },
   {
    "duration": 271,
    "start_time": "2023-11-23T06:46:30.763Z"
   },
   {
    "duration": 267,
    "start_time": "2023-11-23T06:47:13.047Z"
   },
   {
    "duration": 339,
    "start_time": "2023-11-23T06:52:26.612Z"
   },
   {
    "duration": 358,
    "start_time": "2023-11-23T06:53:28.363Z"
   },
   {
    "duration": 1068,
    "start_time": "2023-11-23T06:57:59.461Z"
   },
   {
    "duration": 75,
    "start_time": "2023-11-23T06:58:00.531Z"
   },
   {
    "duration": 11,
    "start_time": "2023-11-23T06:58:00.608Z"
   },
   {
    "duration": 37,
    "start_time": "2023-11-23T06:58:00.621Z"
   },
   {
    "duration": 54,
    "start_time": "2023-11-23T06:58:00.659Z"
   },
   {
    "duration": 47,
    "start_time": "2023-11-23T06:58:00.714Z"
   },
   {
    "duration": 44,
    "start_time": "2023-11-23T06:58:00.763Z"
   },
   {
    "duration": 93,
    "start_time": "2023-11-23T06:58:00.809Z"
   },
   {
    "duration": 13,
    "start_time": "2023-11-23T06:58:00.904Z"
   },
   {
    "duration": 64,
    "start_time": "2023-11-23T06:58:00.920Z"
   },
   {
    "duration": 70,
    "start_time": "2023-11-23T06:58:00.985Z"
   },
   {
    "duration": 45,
    "start_time": "2023-11-23T06:58:01.057Z"
   },
   {
    "duration": 48,
    "start_time": "2023-11-23T06:58:01.103Z"
   },
   {
    "duration": 36,
    "start_time": "2023-11-23T06:58:01.152Z"
   },
   {
    "duration": 27,
    "start_time": "2023-11-23T06:58:01.190Z"
   },
   {
    "duration": 52,
    "start_time": "2023-11-23T06:58:01.219Z"
   },
   {
    "duration": 38,
    "start_time": "2023-11-23T06:58:01.273Z"
   },
   {
    "duration": 57,
    "start_time": "2023-11-23T06:58:01.313Z"
   },
   {
    "duration": 32,
    "start_time": "2023-11-23T06:58:01.371Z"
   },
   {
    "duration": 36,
    "start_time": "2023-11-23T06:58:01.404Z"
   },
   {
    "duration": 30,
    "start_time": "2023-11-23T06:58:01.442Z"
   },
   {
    "duration": 34,
    "start_time": "2023-11-23T06:58:01.474Z"
   },
   {
    "duration": 56,
    "start_time": "2023-11-23T06:58:01.509Z"
   },
   {
    "duration": 62,
    "start_time": "2023-11-23T06:58:01.567Z"
   },
   {
    "duration": 64,
    "start_time": "2023-11-23T06:58:01.630Z"
   },
   {
    "duration": 60,
    "start_time": "2023-11-23T06:58:01.696Z"
   },
   {
    "duration": 548,
    "start_time": "2023-11-23T06:58:01.758Z"
   },
   {
    "duration": 475,
    "start_time": "2023-11-23T06:58:02.309Z"
   },
   {
    "duration": 250,
    "start_time": "2023-11-23T06:58:02.786Z"
   },
   {
    "duration": 257,
    "start_time": "2023-11-23T06:58:03.037Z"
   },
   {
    "duration": 358,
    "start_time": "2023-11-23T06:58:03.295Z"
   },
   {
    "duration": 361,
    "start_time": "2023-11-23T06:58:03.654Z"
   },
   {
    "duration": 96,
    "start_time": "2023-11-23T07:04:53.695Z"
   },
   {
    "duration": 255,
    "start_time": "2023-11-23T07:05:07.286Z"
   },
   {
    "duration": 252,
    "start_time": "2023-11-23T07:06:33.605Z"
   },
   {
    "duration": 85,
    "start_time": "2023-11-23T07:14:05.255Z"
   },
   {
    "duration": 66,
    "start_time": "2023-11-23T07:14:34.241Z"
   },
   {
    "duration": 476,
    "start_time": "2023-11-23T07:14:44.185Z"
   },
   {
    "duration": 10,
    "start_time": "2023-11-23T07:15:53.297Z"
   },
   {
    "duration": 409,
    "start_time": "2023-11-23T07:29:53.558Z"
   },
   {
    "duration": 401,
    "start_time": "2023-11-23T07:30:44.870Z"
   },
   {
    "duration": 238,
    "start_time": "2023-11-23T07:32:27.310Z"
   },
   {
    "duration": 115,
    "start_time": "2023-11-23T07:38:12.930Z"
   },
   {
    "duration": 110,
    "start_time": "2023-11-23T07:42:35.664Z"
   },
   {
    "duration": 5,
    "start_time": "2023-11-23T07:47:51.749Z"
   },
   {
    "duration": 107,
    "start_time": "2023-11-23T07:56:00.939Z"
   },
   {
    "duration": 122,
    "start_time": "2023-11-23T07:57:09.049Z"
   },
   {
    "duration": 5,
    "start_time": "2023-11-23T07:59:11.969Z"
   },
   {
    "duration": 144,
    "start_time": "2023-11-23T08:46:09.669Z"
   },
   {
    "duration": 136,
    "start_time": "2023-11-23T08:46:56.300Z"
   },
   {
    "duration": 205,
    "start_time": "2023-11-23T08:47:54.661Z"
   },
   {
    "duration": 192,
    "start_time": "2023-11-23T08:48:47.357Z"
   },
   {
    "duration": 1292,
    "start_time": "2023-11-23T09:45:10.709Z"
   },
   {
    "duration": 146,
    "start_time": "2023-11-23T09:46:20.316Z"
   },
   {
    "duration": 160,
    "start_time": "2023-11-23T09:47:05.233Z"
   },
   {
    "duration": 10,
    "start_time": "2023-11-23T10:00:27.181Z"
   },
   {
    "duration": 10,
    "start_time": "2023-11-23T10:05:04.657Z"
   },
   {
    "duration": 1320,
    "start_time": "2023-11-23T11:21:33.155Z"
   },
   {
    "duration": 8,
    "start_time": "2023-11-23T11:21:58.030Z"
   },
   {
    "duration": 9,
    "start_time": "2023-11-23T11:22:10.478Z"
   },
   {
    "duration": 9,
    "start_time": "2023-11-23T11:22:39.016Z"
   },
   {
    "duration": 9,
    "start_time": "2023-11-23T11:23:05.937Z"
   },
   {
    "duration": 8,
    "start_time": "2023-11-23T11:23:29.970Z"
   },
   {
    "duration": 7,
    "start_time": "2023-11-23T11:29:09.512Z"
   },
   {
    "duration": 26,
    "start_time": "2023-11-23T11:30:18.087Z"
   },
   {
    "duration": 13,
    "start_time": "2023-11-23T11:32:58.053Z"
   },
   {
    "duration": 9,
    "start_time": "2023-11-23T11:39:19.603Z"
   },
   {
    "duration": 6,
    "start_time": "2023-11-23T11:42:55.956Z"
   },
   {
    "duration": 7,
    "start_time": "2023-11-23T11:43:14.566Z"
   },
   {
    "duration": 8,
    "start_time": "2023-11-23T11:45:18.485Z"
   },
   {
    "duration": 9,
    "start_time": "2023-11-23T11:45:51.695Z"
   },
   {
    "duration": 7,
    "start_time": "2023-11-23T11:46:59.689Z"
   },
   {
    "duration": 12,
    "start_time": "2023-11-23T11:47:32.973Z"
   },
   {
    "duration": 6,
    "start_time": "2023-11-23T11:47:39.095Z"
   },
   {
    "duration": 5,
    "start_time": "2023-11-23T11:47:54.558Z"
   },
   {
    "duration": 5,
    "start_time": "2023-11-23T11:48:02.614Z"
   },
   {
    "duration": 1013,
    "start_time": "2023-11-23T11:48:35.413Z"
   },
   {
    "duration": 55,
    "start_time": "2023-11-23T11:48:36.428Z"
   },
   {
    "duration": 32,
    "start_time": "2023-11-23T11:48:36.484Z"
   },
   {
    "duration": 24,
    "start_time": "2023-11-23T11:48:36.517Z"
   },
   {
    "duration": 15,
    "start_time": "2023-11-23T11:48:36.543Z"
   },
   {
    "duration": 20,
    "start_time": "2023-11-23T11:48:36.560Z"
   },
   {
    "duration": 17,
    "start_time": "2023-11-23T11:48:36.582Z"
   },
   {
    "duration": 54,
    "start_time": "2023-11-23T11:48:36.600Z"
   },
   {
    "duration": 11,
    "start_time": "2023-11-23T11:48:36.655Z"
   },
   {
    "duration": 23,
    "start_time": "2023-11-23T11:48:36.668Z"
   },
   {
    "duration": 9,
    "start_time": "2023-11-23T11:48:36.693Z"
   },
   {
    "duration": 22,
    "start_time": "2023-11-23T11:48:36.704Z"
   },
   {
    "duration": 15,
    "start_time": "2023-11-23T11:48:36.727Z"
   },
   {
    "duration": 14,
    "start_time": "2023-11-23T11:48:36.746Z"
   },
   {
    "duration": 5,
    "start_time": "2023-11-23T11:48:36.761Z"
   },
   {
    "duration": 12,
    "start_time": "2023-11-23T11:48:36.768Z"
   },
   {
    "duration": 7,
    "start_time": "2023-11-23T11:48:36.781Z"
   },
   {
    "duration": 26,
    "start_time": "2023-11-23T11:48:36.789Z"
   },
   {
    "duration": 6,
    "start_time": "2023-11-23T11:48:36.816Z"
   },
   {
    "duration": 16,
    "start_time": "2023-11-23T11:48:36.823Z"
   },
   {
    "duration": 4,
    "start_time": "2023-11-23T11:48:36.840Z"
   },
   {
    "duration": 12,
    "start_time": "2023-11-23T11:48:36.846Z"
   },
   {
    "duration": 19,
    "start_time": "2023-11-23T11:48:36.859Z"
   },
   {
    "duration": 7,
    "start_time": "2023-11-23T11:48:36.879Z"
   },
   {
    "duration": 7,
    "start_time": "2023-11-23T11:48:36.887Z"
   },
   {
    "duration": 20,
    "start_time": "2023-11-23T11:48:36.895Z"
   },
   {
    "duration": 526,
    "start_time": "2023-11-23T11:48:36.917Z"
   },
   {
    "duration": 478,
    "start_time": "2023-11-23T11:48:37.444Z"
   },
   {
    "duration": 250,
    "start_time": "2023-11-23T11:48:37.924Z"
   },
   {
    "duration": 259,
    "start_time": "2023-11-23T11:48:38.176Z"
   },
   {
    "duration": 344,
    "start_time": "2023-11-23T11:48:38.437Z"
   },
   {
    "duration": 328,
    "start_time": "2023-11-23T11:48:38.783Z"
   },
   {
    "duration": 267,
    "start_time": "2023-11-23T11:48:39.113Z"
   },
   {
    "duration": 252,
    "start_time": "2023-11-23T11:48:39.381Z"
   },
   {
    "duration": 413,
    "start_time": "2023-11-23T11:48:39.634Z"
   },
   {
    "duration": 254,
    "start_time": "2023-11-23T11:48:40.049Z"
   },
   {
    "duration": 123,
    "start_time": "2023-11-23T11:48:40.304Z"
   },
   {
    "duration": 5,
    "start_time": "2023-11-23T11:48:40.428Z"
   },
   {
    "duration": 135,
    "start_time": "2023-11-23T11:48:40.434Z"
   },
   {
    "duration": 4,
    "start_time": "2023-11-23T11:48:40.573Z"
   },
   {
    "duration": 222,
    "start_time": "2023-11-23T11:48:40.581Z"
   },
   {
    "duration": 160,
    "start_time": "2023-11-23T11:48:40.805Z"
   },
   {
    "duration": 9,
    "start_time": "2023-11-23T11:48:40.966Z"
   },
   {
    "duration": 12,
    "start_time": "2023-11-23T11:48:40.976Z"
   },
   {
    "duration": 10,
    "start_time": "2023-11-23T11:48:40.990Z"
   },
   {
    "duration": 9,
    "start_time": "2023-11-23T11:48:41.001Z"
   },
   {
    "duration": 25,
    "start_time": "2023-11-23T11:48:41.012Z"
   },
   {
    "duration": 43,
    "start_time": "2023-11-23T11:48:41.039Z"
   },
   {
    "duration": 11,
    "start_time": "2023-11-23T11:48:41.084Z"
   },
   {
    "duration": 5,
    "start_time": "2023-11-23T11:48:41.097Z"
   },
   {
    "duration": 5,
    "start_time": "2023-11-23T11:48:41.104Z"
   },
   {
    "duration": 28,
    "start_time": "2023-11-23T11:52:20.359Z"
   },
   {
    "duration": 12,
    "start_time": "2023-11-23T11:53:20.643Z"
   },
   {
    "duration": 3,
    "start_time": "2023-11-23T12:19:46.548Z"
   },
   {
    "duration": 26,
    "start_time": "2023-11-23T12:19:46.557Z"
   },
   {
    "duration": 8,
    "start_time": "2023-11-23T12:19:46.585Z"
   },
   {
    "duration": 11,
    "start_time": "2023-11-23T12:19:46.594Z"
   },
   {
    "duration": 5,
    "start_time": "2023-11-23T12:19:46.607Z"
   },
   {
    "duration": 16,
    "start_time": "2023-11-23T12:19:46.614Z"
   },
   {
    "duration": 7,
    "start_time": "2023-11-23T12:19:46.632Z"
   },
   {
    "duration": 8,
    "start_time": "2023-11-23T14:29:15.454Z"
   },
   {
    "duration": 12,
    "start_time": "2023-11-23T14:29:28.532Z"
   },
   {
    "duration": 12,
    "start_time": "2023-11-23T14:40:24.081Z"
   },
   {
    "duration": 1062,
    "start_time": "2023-11-23T14:44:37.550Z"
   },
   {
    "duration": 71,
    "start_time": "2023-11-23T14:44:38.614Z"
   },
   {
    "duration": 10,
    "start_time": "2023-11-23T14:44:38.687Z"
   },
   {
    "duration": 36,
    "start_time": "2023-11-23T14:44:38.699Z"
   },
   {
    "duration": 7,
    "start_time": "2023-11-23T14:44:38.737Z"
   },
   {
    "duration": 17,
    "start_time": "2023-11-23T14:44:38.745Z"
   },
   {
    "duration": 10,
    "start_time": "2023-11-23T14:44:38.763Z"
   },
   {
    "duration": 56,
    "start_time": "2023-11-23T14:44:38.775Z"
   },
   {
    "duration": 11,
    "start_time": "2023-11-23T14:44:38.833Z"
   },
   {
    "duration": 10,
    "start_time": "2023-11-23T14:44:38.846Z"
   },
   {
    "duration": 5,
    "start_time": "2023-11-23T14:44:38.857Z"
   },
   {
    "duration": 27,
    "start_time": "2023-11-23T14:44:38.863Z"
   },
   {
    "duration": 7,
    "start_time": "2023-11-23T14:44:38.891Z"
   },
   {
    "duration": 13,
    "start_time": "2023-11-23T14:44:38.899Z"
   },
   {
    "duration": 25,
    "start_time": "2023-11-23T14:44:38.914Z"
   },
   {
    "duration": 33,
    "start_time": "2023-11-23T14:44:38.941Z"
   },
   {
    "duration": 6,
    "start_time": "2023-11-23T14:44:38.975Z"
   },
   {
    "duration": 6,
    "start_time": "2023-11-23T14:44:38.982Z"
   },
   {
    "duration": 7,
    "start_time": "2023-11-23T14:44:38.990Z"
   },
   {
    "duration": 11,
    "start_time": "2023-11-23T14:44:38.998Z"
   },
   {
    "duration": 9,
    "start_time": "2023-11-23T14:44:39.010Z"
   },
   {
    "duration": 6,
    "start_time": "2023-11-23T14:44:39.020Z"
   },
   {
    "duration": 5,
    "start_time": "2023-11-23T14:44:39.027Z"
   },
   {
    "duration": 39,
    "start_time": "2023-11-23T14:44:39.034Z"
   },
   {
    "duration": 498,
    "start_time": "2023-11-23T14:44:39.075Z"
   },
   {
    "duration": 474,
    "start_time": "2023-11-23T14:44:39.575Z"
   },
   {
    "duration": 251,
    "start_time": "2023-11-23T14:44:40.050Z"
   },
   {
    "duration": 262,
    "start_time": "2023-11-23T14:44:40.304Z"
   },
   {
    "duration": 354,
    "start_time": "2023-11-23T14:44:40.567Z"
   },
   {
    "duration": 315,
    "start_time": "2023-11-23T14:44:40.922Z"
   },
   {
    "duration": 274,
    "start_time": "2023-11-23T14:44:41.239Z"
   },
   {
    "duration": 261,
    "start_time": "2023-11-23T14:44:41.514Z"
   },
   {
    "duration": 459,
    "start_time": "2023-11-23T14:44:41.776Z"
   },
   {
    "duration": 263,
    "start_time": "2023-11-23T14:44:42.236Z"
   },
   {
    "duration": 117,
    "start_time": "2023-11-23T14:44:42.501Z"
   },
   {
    "duration": 4,
    "start_time": "2023-11-23T14:44:42.620Z"
   },
   {
    "duration": 139,
    "start_time": "2023-11-23T14:44:42.625Z"
   },
   {
    "duration": 10,
    "start_time": "2023-11-23T14:44:42.765Z"
   },
   {
    "duration": 201,
    "start_time": "2023-11-23T14:44:42.777Z"
   },
   {
    "duration": 168,
    "start_time": "2023-11-23T14:44:42.980Z"
   },
   {
    "duration": 10,
    "start_time": "2023-11-23T14:44:43.150Z"
   },
   {
    "duration": 10,
    "start_time": "2023-11-23T14:44:43.173Z"
   },
   {
    "duration": 17,
    "start_time": "2023-11-23T14:44:43.184Z"
   },
   {
    "duration": 24,
    "start_time": "2023-11-23T14:44:43.203Z"
   },
   {
    "duration": 25,
    "start_time": "2023-11-23T14:44:43.229Z"
   },
   {
    "duration": 22,
    "start_time": "2023-11-23T14:44:43.255Z"
   },
   {
    "duration": 6,
    "start_time": "2023-11-23T14:44:43.279Z"
   },
   {
    "duration": 38,
    "start_time": "2023-11-23T14:44:43.287Z"
   },
   {
    "duration": 13,
    "start_time": "2023-11-23T14:44:43.326Z"
   },
   {
    "duration": 4,
    "start_time": "2023-11-23T14:46:19.225Z"
   },
   {
    "duration": 313,
    "start_time": "2023-11-23T15:10:31.554Z"
   },
   {
    "duration": 315,
    "start_time": "2023-11-23T15:11:01.481Z"
   },
   {
    "duration": 327,
    "start_time": "2023-11-23T15:18:17.594Z"
   },
   {
    "duration": 325,
    "start_time": "2023-11-23T15:18:53.051Z"
   },
   {
    "duration": 322,
    "start_time": "2023-11-23T15:22:20.883Z"
   },
   {
    "duration": 444,
    "start_time": "2023-11-23T15:31:47.071Z"
   },
   {
    "duration": 466,
    "start_time": "2023-11-23T15:36:18.576Z"
   },
   {
    "duration": 354,
    "start_time": "2023-11-23T15:39:10.633Z"
   },
   {
    "duration": 365,
    "start_time": "2023-11-23T15:49:46.949Z"
   },
   {
    "duration": 458,
    "start_time": "2023-11-23T15:51:28.556Z"
   },
   {
    "duration": 388,
    "start_time": "2023-11-23T15:51:41.414Z"
   },
   {
    "duration": 186,
    "start_time": "2023-11-23T15:58:17.733Z"
   },
   {
    "duration": 178,
    "start_time": "2023-11-23T16:00:45.597Z"
   },
   {
    "duration": 1252,
    "start_time": "2023-11-24T07:35:33.787Z"
   },
   {
    "duration": 131,
    "start_time": "2023-11-24T07:35:35.041Z"
   },
   {
    "duration": 12,
    "start_time": "2023-11-24T07:35:35.174Z"
   },
   {
    "duration": 14,
    "start_time": "2023-11-24T07:35:35.188Z"
   },
   {
    "duration": 30,
    "start_time": "2023-11-24T07:35:35.203Z"
   },
   {
    "duration": 16,
    "start_time": "2023-11-24T07:35:35.234Z"
   },
   {
    "duration": 22,
    "start_time": "2023-11-24T07:35:35.252Z"
   },
   {
    "duration": 143,
    "start_time": "2023-11-24T07:35:35.276Z"
   },
   {
    "duration": 12,
    "start_time": "2023-11-24T07:35:35.421Z"
   },
   {
    "duration": 30,
    "start_time": "2023-11-24T07:35:35.435Z"
   },
   {
    "duration": 19,
    "start_time": "2023-11-24T07:35:35.466Z"
   },
   {
    "duration": 13,
    "start_time": "2023-11-24T07:35:35.487Z"
   },
   {
    "duration": 22,
    "start_time": "2023-11-24T07:35:35.501Z"
   },
   {
    "duration": 34,
    "start_time": "2023-11-24T07:35:35.524Z"
   },
   {
    "duration": 30,
    "start_time": "2023-11-24T07:35:35.560Z"
   },
   {
    "duration": 5,
    "start_time": "2023-11-24T07:35:35.591Z"
   },
   {
    "duration": 15,
    "start_time": "2023-11-24T07:35:35.598Z"
   },
   {
    "duration": 22,
    "start_time": "2023-11-24T07:35:35.615Z"
   },
   {
    "duration": 38,
    "start_time": "2023-11-24T07:35:35.639Z"
   },
   {
    "duration": 29,
    "start_time": "2023-11-24T07:35:35.679Z"
   },
   {
    "duration": 29,
    "start_time": "2023-11-24T07:35:35.710Z"
   },
   {
    "duration": 21,
    "start_time": "2023-11-24T07:35:35.740Z"
   },
   {
    "duration": 295,
    "start_time": "2023-11-24T07:35:35.762Z"
   },
   {
    "duration": 355,
    "start_time": "2023-11-24T07:35:36.059Z"
   },
   {
    "duration": 328,
    "start_time": "2023-11-24T07:35:36.416Z"
   },
   {
    "duration": 483,
    "start_time": "2023-11-24T07:35:36.746Z"
   },
   {
    "duration": 365,
    "start_time": "2023-11-24T07:35:37.231Z"
   },
   {
    "duration": 388,
    "start_time": "2023-11-24T07:35:37.599Z"
   },
   {
    "duration": 164,
    "start_time": "2023-11-24T07:35:37.988Z"
   },
   {
    "duration": 5,
    "start_time": "2023-11-24T07:35:38.157Z"
   },
   {
    "duration": 189,
    "start_time": "2023-11-24T07:35:38.164Z"
   },
   {
    "duration": 9,
    "start_time": "2023-11-24T07:35:38.354Z"
   },
   {
    "duration": 216,
    "start_time": "2023-11-24T07:35:38.364Z"
   },
   {
    "duration": 159,
    "start_time": "2023-11-24T07:35:38.582Z"
   },
   {
    "duration": 18,
    "start_time": "2023-11-24T07:35:38.742Z"
   },
   {
    "duration": 119,
    "start_time": "2023-11-24T07:35:38.762Z"
   },
   {
    "duration": 0,
    "start_time": "2023-11-24T07:35:38.883Z"
   },
   {
    "duration": 0,
    "start_time": "2023-11-24T07:35:38.884Z"
   },
   {
    "duration": 0,
    "start_time": "2023-11-24T07:35:38.886Z"
   },
   {
    "duration": 0,
    "start_time": "2023-11-24T07:35:38.887Z"
   },
   {
    "duration": 0,
    "start_time": "2023-11-24T07:35:38.888Z"
   },
   {
    "duration": 0,
    "start_time": "2023-11-24T07:35:38.889Z"
   },
   {
    "duration": 0,
    "start_time": "2023-11-24T07:35:38.890Z"
   },
   {
    "duration": 11,
    "start_time": "2023-11-24T07:42:11.947Z"
   },
   {
    "duration": 10,
    "start_time": "2023-11-24T07:42:27.819Z"
   },
   {
    "duration": 11,
    "start_time": "2023-11-24T07:42:27.831Z"
   },
   {
    "duration": 10,
    "start_time": "2023-11-24T07:42:27.844Z"
   },
   {
    "duration": 43,
    "start_time": "2023-11-24T07:42:27.856Z"
   },
   {
    "duration": 14,
    "start_time": "2023-11-24T07:42:27.902Z"
   },
   {
    "duration": 7,
    "start_time": "2023-11-24T07:42:27.917Z"
   },
   {
    "duration": 35,
    "start_time": "2023-11-24T07:42:27.926Z"
   },
   {
    "duration": 14,
    "start_time": "2023-11-24T07:42:27.963Z"
   },
   {
    "duration": 7,
    "start_time": "2023-11-24T08:13:41.713Z"
   },
   {
    "duration": 8,
    "start_time": "2023-11-24T08:14:01.374Z"
   },
   {
    "duration": 7,
    "start_time": "2023-11-24T08:14:20.258Z"
   },
   {
    "duration": 8,
    "start_time": "2023-11-24T08:14:29.160Z"
   },
   {
    "duration": 1379,
    "start_time": "2023-11-24T08:37:16.447Z"
   },
   {
    "duration": 80,
    "start_time": "2023-11-24T08:37:17.828Z"
   },
   {
    "duration": 13,
    "start_time": "2023-11-24T08:37:17.910Z"
   },
   {
    "duration": 22,
    "start_time": "2023-11-24T08:37:17.926Z"
   },
   {
    "duration": 28,
    "start_time": "2023-11-24T08:37:17.949Z"
   },
   {
    "duration": 44,
    "start_time": "2023-11-24T08:37:17.979Z"
   },
   {
    "duration": 18,
    "start_time": "2023-11-24T08:37:18.025Z"
   },
   {
    "duration": 56,
    "start_time": "2023-11-24T08:37:18.044Z"
   },
   {
    "duration": 14,
    "start_time": "2023-11-24T08:37:18.101Z"
   },
   {
    "duration": 19,
    "start_time": "2023-11-24T08:37:18.118Z"
   },
   {
    "duration": 13,
    "start_time": "2023-11-24T08:37:18.139Z"
   },
   {
    "duration": 10,
    "start_time": "2023-11-24T08:37:18.154Z"
   },
   {
    "duration": 7,
    "start_time": "2023-11-24T08:37:18.166Z"
   },
   {
    "duration": 19,
    "start_time": "2023-11-24T08:37:18.175Z"
   },
   {
    "duration": 29,
    "start_time": "2023-11-24T08:37:18.196Z"
   },
   {
    "duration": 4,
    "start_time": "2023-11-24T08:37:18.227Z"
   },
   {
    "duration": 40,
    "start_time": "2023-11-24T08:37:18.233Z"
   },
   {
    "duration": 21,
    "start_time": "2023-11-24T08:37:18.275Z"
   },
   {
    "duration": 18,
    "start_time": "2023-11-24T08:37:18.297Z"
   },
   {
    "duration": 33,
    "start_time": "2023-11-24T08:37:18.317Z"
   },
   {
    "duration": 21,
    "start_time": "2023-11-24T08:37:18.351Z"
   },
   {
    "duration": 20,
    "start_time": "2023-11-24T08:37:18.374Z"
   },
   {
    "duration": 263,
    "start_time": "2023-11-24T08:37:18.395Z"
   },
   {
    "duration": 347,
    "start_time": "2023-11-24T08:37:18.660Z"
   },
   {
    "duration": 333,
    "start_time": "2023-11-24T08:37:19.008Z"
   },
   {
    "duration": 439,
    "start_time": "2023-11-24T08:37:19.343Z"
   },
   {
    "duration": 376,
    "start_time": "2023-11-24T08:37:19.784Z"
   },
   {
    "duration": 428,
    "start_time": "2023-11-24T08:37:20.163Z"
   },
   {
    "duration": 170,
    "start_time": "2023-11-24T08:37:20.593Z"
   },
   {
    "duration": 5,
    "start_time": "2023-11-24T08:37:20.764Z"
   },
   {
    "duration": 192,
    "start_time": "2023-11-24T08:37:20.770Z"
   },
   {
    "duration": 4,
    "start_time": "2023-11-24T08:37:20.964Z"
   },
   {
    "duration": 224,
    "start_time": "2023-11-24T08:37:20.970Z"
   },
   {
    "duration": 169,
    "start_time": "2023-11-24T08:37:21.196Z"
   },
   {
    "duration": 9,
    "start_time": "2023-11-24T08:37:21.367Z"
   },
   {
    "duration": 34,
    "start_time": "2023-11-24T08:37:21.378Z"
   },
   {
    "duration": 10,
    "start_time": "2023-11-24T08:37:21.414Z"
   },
   {
    "duration": 53,
    "start_time": "2023-11-24T08:37:21.425Z"
   },
   {
    "duration": 15,
    "start_time": "2023-11-24T08:37:21.479Z"
   },
   {
    "duration": 14,
    "start_time": "2023-11-24T08:37:21.495Z"
   },
   {
    "duration": 65,
    "start_time": "2023-11-24T08:37:21.511Z"
   },
   {
    "duration": 14,
    "start_time": "2023-11-24T08:37:21.578Z"
   },
   {
    "duration": 1191,
    "start_time": "2023-11-24T09:20:29.924Z"
   },
   {
    "duration": 69,
    "start_time": "2023-11-24T09:20:31.117Z"
   },
   {
    "duration": 45,
    "start_time": "2023-11-24T09:20:31.187Z"
   },
   {
    "duration": 42,
    "start_time": "2023-11-24T09:20:31.234Z"
   },
   {
    "duration": 45,
    "start_time": "2023-11-24T09:20:31.278Z"
   },
   {
    "duration": 47,
    "start_time": "2023-11-24T09:20:31.325Z"
   },
   {
    "duration": 35,
    "start_time": "2023-11-24T09:20:31.374Z"
   },
   {
    "duration": 84,
    "start_time": "2023-11-24T09:20:31.411Z"
   },
   {
    "duration": 12,
    "start_time": "2023-11-24T09:20:31.497Z"
   },
   {
    "duration": 48,
    "start_time": "2023-11-24T09:20:31.512Z"
   },
   {
    "duration": 47,
    "start_time": "2023-11-24T09:20:31.561Z"
   },
   {
    "duration": 42,
    "start_time": "2023-11-24T09:20:31.610Z"
   },
   {
    "duration": 40,
    "start_time": "2023-11-24T09:20:31.654Z"
   },
   {
    "duration": 24,
    "start_time": "2023-11-24T09:20:31.696Z"
   },
   {
    "duration": 28,
    "start_time": "2023-11-24T09:20:31.722Z"
   },
   {
    "duration": 3,
    "start_time": "2023-11-24T09:20:31.752Z"
   },
   {
    "duration": 11,
    "start_time": "2023-11-24T09:20:31.757Z"
   },
   {
    "duration": 12,
    "start_time": "2023-11-24T09:20:31.769Z"
   },
   {
    "duration": 20,
    "start_time": "2023-11-24T09:20:31.783Z"
   },
   {
    "duration": 11,
    "start_time": "2023-11-24T09:20:31.804Z"
   },
   {
    "duration": 14,
    "start_time": "2023-11-24T09:20:31.816Z"
   },
   {
    "duration": 7,
    "start_time": "2023-11-24T09:20:31.831Z"
   },
   {
    "duration": 285,
    "start_time": "2023-11-24T09:20:31.839Z"
   },
   {
    "duration": 375,
    "start_time": "2023-11-24T09:20:32.125Z"
   },
   {
    "duration": 346,
    "start_time": "2023-11-24T09:20:32.502Z"
   },
   {
    "duration": 474,
    "start_time": "2023-11-24T09:20:32.850Z"
   },
   {
    "duration": 382,
    "start_time": "2023-11-24T09:20:33.326Z"
   },
   {
    "duration": 417,
    "start_time": "2023-11-24T09:20:33.711Z"
   },
   {
    "duration": 179,
    "start_time": "2023-11-24T09:20:34.130Z"
   },
   {
    "duration": 5,
    "start_time": "2023-11-24T09:20:34.311Z"
   },
   {
    "duration": 210,
    "start_time": "2023-11-24T09:20:34.317Z"
   },
   {
    "duration": 5,
    "start_time": "2023-11-24T09:20:34.528Z"
   },
   {
    "duration": 226,
    "start_time": "2023-11-24T09:20:34.534Z"
   },
   {
    "duration": 197,
    "start_time": "2023-11-24T09:20:34.762Z"
   },
   {
    "duration": 10,
    "start_time": "2023-11-24T09:20:34.961Z"
   },
   {
    "duration": 36,
    "start_time": "2023-11-24T09:20:34.973Z"
   },
   {
    "duration": 27,
    "start_time": "2023-11-24T09:20:35.010Z"
   },
   {
    "duration": 43,
    "start_time": "2023-11-24T09:20:35.039Z"
   },
   {
    "duration": 12,
    "start_time": "2023-11-24T09:20:35.084Z"
   },
   {
    "duration": 34,
    "start_time": "2023-11-24T09:20:35.098Z"
   },
   {
    "duration": 49,
    "start_time": "2023-11-24T09:20:35.134Z"
   },
   {
    "duration": 14,
    "start_time": "2023-11-24T09:20:35.185Z"
   },
   {
    "duration": 123,
    "start_time": "2023-11-24T09:26:36.918Z"
   },
   {
    "duration": 4,
    "start_time": "2023-11-24T09:26:44.783Z"
   },
   {
    "duration": 5,
    "start_time": "2023-11-24T09:29:22.230Z"
   },
   {
    "duration": 11,
    "start_time": "2023-11-24T09:29:51.623Z"
   },
   {
    "duration": 5,
    "start_time": "2023-11-24T09:32:18.496Z"
   },
   {
    "duration": 149,
    "start_time": "2023-11-24T09:34:06.134Z"
   },
   {
    "duration": 206,
    "start_time": "2023-11-24T09:34:39.971Z"
   },
   {
    "duration": 12,
    "start_time": "2023-11-24T09:36:26.434Z"
   },
   {
    "duration": 4,
    "start_time": "2023-11-24T09:37:04.844Z"
   },
   {
    "duration": 4,
    "start_time": "2023-11-24T09:39:03.404Z"
   },
   {
    "duration": 4,
    "start_time": "2023-11-24T09:40:29.565Z"
   },
   {
    "duration": 4,
    "start_time": "2023-11-24T09:41:51.077Z"
   },
   {
    "duration": 4,
    "start_time": "2023-11-24T09:42:30.428Z"
   },
   {
    "duration": 157,
    "start_time": "2023-11-24T09:44:46.934Z"
   },
   {
    "duration": 213,
    "start_time": "2023-11-24T09:45:23.341Z"
   },
   {
    "duration": 155,
    "start_time": "2023-11-24T09:45:46.262Z"
   },
   {
    "duration": 152,
    "start_time": "2023-11-24T09:46:27.431Z"
   },
   {
    "duration": 189,
    "start_time": "2023-11-24T09:47:24.433Z"
   },
   {
    "duration": 165,
    "start_time": "2023-11-24T09:48:25.721Z"
   },
   {
    "duration": 189,
    "start_time": "2023-11-24T09:48:32.209Z"
   },
   {
    "duration": 1131,
    "start_time": "2023-11-24T09:49:05.519Z"
   },
   {
    "duration": 83,
    "start_time": "2023-11-24T09:49:06.652Z"
   },
   {
    "duration": 12,
    "start_time": "2023-11-24T09:49:06.737Z"
   },
   {
    "duration": 38,
    "start_time": "2023-11-24T09:49:06.751Z"
   },
   {
    "duration": 6,
    "start_time": "2023-11-24T09:49:06.791Z"
   },
   {
    "duration": 10,
    "start_time": "2023-11-24T09:49:06.798Z"
   },
   {
    "duration": 9,
    "start_time": "2023-11-24T09:49:06.810Z"
   },
   {
    "duration": 50,
    "start_time": "2023-11-24T09:49:06.822Z"
   },
   {
    "duration": 12,
    "start_time": "2023-11-24T09:49:06.874Z"
   },
   {
    "duration": 16,
    "start_time": "2023-11-24T09:49:06.889Z"
   },
   {
    "duration": 19,
    "start_time": "2023-11-24T09:49:06.907Z"
   },
   {
    "duration": 14,
    "start_time": "2023-11-24T09:49:06.928Z"
   },
   {
    "duration": 23,
    "start_time": "2023-11-24T09:49:06.943Z"
   },
   {
    "duration": 11,
    "start_time": "2023-11-24T09:49:06.967Z"
   },
   {
    "duration": 172,
    "start_time": "2023-11-24T09:49:06.980Z"
   },
   {
    "duration": 6,
    "start_time": "2023-11-24T09:49:07.154Z"
   },
   {
    "duration": 6,
    "start_time": "2023-11-24T09:49:07.161Z"
   },
   {
    "duration": 6,
    "start_time": "2023-11-24T09:49:07.169Z"
   },
   {
    "duration": 16,
    "start_time": "2023-11-24T09:49:07.177Z"
   },
   {
    "duration": 29,
    "start_time": "2023-11-24T09:49:07.195Z"
   },
   {
    "duration": 34,
    "start_time": "2023-11-24T09:49:07.226Z"
   },
   {
    "duration": 9,
    "start_time": "2023-11-24T09:49:07.262Z"
   },
   {
    "duration": 8,
    "start_time": "2023-11-24T09:49:07.273Z"
   },
   {
    "duration": 13,
    "start_time": "2023-11-24T09:49:07.282Z"
   },
   {
    "duration": 11,
    "start_time": "2023-11-24T09:49:07.297Z"
   },
   {
    "duration": 10,
    "start_time": "2023-11-24T09:49:07.310Z"
   },
   {
    "duration": 8,
    "start_time": "2023-11-24T09:49:07.322Z"
   },
   {
    "duration": 4,
    "start_time": "2023-11-24T09:49:07.362Z"
   },
   {
    "duration": 15,
    "start_time": "2023-11-24T09:49:07.368Z"
   },
   {
    "duration": 288,
    "start_time": "2023-11-24T09:49:07.385Z"
   },
   {
    "duration": 345,
    "start_time": "2023-11-24T09:49:07.675Z"
   },
   {
    "duration": 336,
    "start_time": "2023-11-24T09:49:08.022Z"
   },
   {
    "duration": 439,
    "start_time": "2023-11-24T09:49:08.360Z"
   },
   {
    "duration": 387,
    "start_time": "2023-11-24T09:49:08.801Z"
   },
   {
    "duration": 420,
    "start_time": "2023-11-24T09:49:09.190Z"
   },
   {
    "duration": 176,
    "start_time": "2023-11-24T09:49:09.612Z"
   },
   {
    "duration": 6,
    "start_time": "2023-11-24T09:49:09.789Z"
   },
   {
    "duration": 202,
    "start_time": "2023-11-24T09:49:09.796Z"
   },
   {
    "duration": 4,
    "start_time": "2023-11-24T09:49:10.000Z"
   },
   {
    "duration": 225,
    "start_time": "2023-11-24T09:49:10.006Z"
   },
   {
    "duration": 168,
    "start_time": "2023-11-24T09:49:10.232Z"
   },
   {
    "duration": 10,
    "start_time": "2023-11-24T09:49:10.402Z"
   },
   {
    "duration": 20,
    "start_time": "2023-11-24T09:49:10.414Z"
   },
   {
    "duration": 7,
    "start_time": "2023-11-24T09:49:10.436Z"
   },
   {
    "duration": 26,
    "start_time": "2023-11-24T09:49:10.458Z"
   },
   {
    "duration": 29,
    "start_time": "2023-11-24T09:49:10.486Z"
   },
   {
    "duration": 12,
    "start_time": "2023-11-24T09:49:10.517Z"
   },
   {
    "duration": 35,
    "start_time": "2023-11-24T09:49:10.531Z"
   },
   {
    "duration": 15,
    "start_time": "2023-11-24T09:49:10.568Z"
   },
   {
    "duration": 1101,
    "start_time": "2023-11-24T09:52:50.715Z"
   },
   {
    "duration": 60,
    "start_time": "2023-11-24T09:52:51.817Z"
   },
   {
    "duration": 19,
    "start_time": "2023-11-24T09:52:51.879Z"
   },
   {
    "duration": 12,
    "start_time": "2023-11-24T09:52:51.900Z"
   },
   {
    "duration": 21,
    "start_time": "2023-11-24T09:52:51.914Z"
   },
   {
    "duration": 18,
    "start_time": "2023-11-24T09:52:51.936Z"
   },
   {
    "duration": 19,
    "start_time": "2023-11-24T09:52:51.955Z"
   },
   {
    "duration": 59,
    "start_time": "2023-11-24T09:52:51.976Z"
   },
   {
    "duration": 12,
    "start_time": "2023-11-24T09:52:52.037Z"
   },
   {
    "duration": 16,
    "start_time": "2023-11-24T09:52:52.052Z"
   },
   {
    "duration": 18,
    "start_time": "2023-11-24T09:52:52.070Z"
   },
   {
    "duration": 38,
    "start_time": "2023-11-24T09:52:52.090Z"
   },
   {
    "duration": 15,
    "start_time": "2023-11-24T09:52:52.129Z"
   },
   {
    "duration": 31,
    "start_time": "2023-11-24T09:52:52.146Z"
   },
   {
    "duration": 201,
    "start_time": "2023-11-24T09:52:52.179Z"
   },
   {
    "duration": 4,
    "start_time": "2023-11-24T09:52:52.381Z"
   },
   {
    "duration": 27,
    "start_time": "2023-11-24T09:52:52.387Z"
   },
   {
    "duration": 43,
    "start_time": "2023-11-24T09:52:52.415Z"
   },
   {
    "duration": 33,
    "start_time": "2023-11-24T09:52:52.460Z"
   },
   {
    "duration": 31,
    "start_time": "2023-11-24T09:52:52.495Z"
   },
   {
    "duration": 4,
    "start_time": "2023-11-24T09:52:52.527Z"
   },
   {
    "duration": 17,
    "start_time": "2023-11-24T09:52:52.532Z"
   },
   {
    "duration": 14,
    "start_time": "2023-11-24T09:52:52.551Z"
   },
   {
    "duration": 20,
    "start_time": "2023-11-24T09:52:52.567Z"
   },
   {
    "duration": 14,
    "start_time": "2023-11-24T09:52:52.589Z"
   },
   {
    "duration": 27,
    "start_time": "2023-11-24T09:52:52.605Z"
   },
   {
    "duration": 21,
    "start_time": "2023-11-24T09:52:52.634Z"
   },
   {
    "duration": 8,
    "start_time": "2023-11-24T09:52:52.658Z"
   },
   {
    "duration": 20,
    "start_time": "2023-11-24T09:52:52.668Z"
   },
   {
    "duration": 298,
    "start_time": "2023-11-24T09:52:52.689Z"
   },
   {
    "duration": 353,
    "start_time": "2023-11-24T09:52:52.989Z"
   },
   {
    "duration": 344,
    "start_time": "2023-11-24T09:52:53.344Z"
   },
   {
    "duration": 435,
    "start_time": "2023-11-24T09:52:53.689Z"
   },
   {
    "duration": 394,
    "start_time": "2023-11-24T09:52:54.126Z"
   },
   {
    "duration": 440,
    "start_time": "2023-11-24T09:52:54.521Z"
   },
   {
    "duration": 191,
    "start_time": "2023-11-24T09:52:54.963Z"
   },
   {
    "duration": 5,
    "start_time": "2023-11-24T09:52:55.159Z"
   },
   {
    "duration": 198,
    "start_time": "2023-11-24T09:52:55.165Z"
   },
   {
    "duration": 5,
    "start_time": "2023-11-24T09:52:55.365Z"
   },
   {
    "duration": 232,
    "start_time": "2023-11-24T09:52:55.371Z"
   },
   {
    "duration": 190,
    "start_time": "2023-11-24T09:52:55.605Z"
   },
   {
    "duration": 11,
    "start_time": "2023-11-24T09:52:55.796Z"
   },
   {
    "duration": 28,
    "start_time": "2023-11-24T09:52:55.809Z"
   },
   {
    "duration": 20,
    "start_time": "2023-11-24T09:52:55.839Z"
   },
   {
    "duration": 26,
    "start_time": "2023-11-24T09:52:55.861Z"
   },
   {
    "duration": 13,
    "start_time": "2023-11-24T09:52:55.889Z"
   },
   {
    "duration": 26,
    "start_time": "2023-11-24T09:52:55.904Z"
   },
   {
    "duration": 36,
    "start_time": "2023-11-24T09:52:55.932Z"
   },
   {
    "duration": 13,
    "start_time": "2023-11-24T09:52:55.970Z"
   },
   {
    "duration": 1355,
    "start_time": "2023-11-24T11:17:44.260Z"
   },
   {
    "duration": 3,
    "start_time": "2023-11-24T11:17:45.618Z"
   },
   {
    "duration": 168,
    "start_time": "2023-11-24T11:17:45.623Z"
   },
   {
    "duration": 13,
    "start_time": "2023-11-24T11:17:45.793Z"
   },
   {
    "duration": 18,
    "start_time": "2023-11-24T11:17:45.808Z"
   },
   {
    "duration": 15,
    "start_time": "2023-11-24T11:17:45.828Z"
   },
   {
    "duration": 25,
    "start_time": "2023-11-24T11:17:45.846Z"
   },
   {
    "duration": 10,
    "start_time": "2023-11-24T11:17:45.873Z"
   },
   {
    "duration": 147,
    "start_time": "2023-11-24T11:17:45.885Z"
   },
   {
    "duration": 13,
    "start_time": "2023-11-24T11:17:46.035Z"
   },
   {
    "duration": 29,
    "start_time": "2023-11-24T11:17:46.050Z"
   },
   {
    "duration": 36,
    "start_time": "2023-11-24T11:17:46.081Z"
   },
   {
    "duration": 20,
    "start_time": "2023-11-24T11:17:46.119Z"
   },
   {
    "duration": 20,
    "start_time": "2023-11-24T11:17:46.141Z"
   },
   {
    "duration": 35,
    "start_time": "2023-11-24T11:17:46.162Z"
   },
   {
    "duration": 180,
    "start_time": "2023-11-24T11:17:46.198Z"
   },
   {
    "duration": 5,
    "start_time": "2023-11-24T11:17:46.380Z"
   },
   {
    "duration": 13,
    "start_time": "2023-11-24T11:17:46.387Z"
   },
   {
    "duration": 9,
    "start_time": "2023-11-24T11:17:46.402Z"
   },
   {
    "duration": 22,
    "start_time": "2023-11-24T11:17:46.413Z"
   },
   {
    "duration": 51,
    "start_time": "2023-11-24T11:17:46.437Z"
   },
   {
    "duration": 4,
    "start_time": "2023-11-24T11:17:46.490Z"
   },
   {
    "duration": 23,
    "start_time": "2023-11-24T11:17:46.495Z"
   },
   {
    "duration": 19,
    "start_time": "2023-11-24T11:17:46.520Z"
   },
   {
    "duration": 13,
    "start_time": "2023-11-24T11:17:46.543Z"
   },
   {
    "duration": 18,
    "start_time": "2023-11-24T11:17:46.558Z"
   },
   {
    "duration": 28,
    "start_time": "2023-11-24T11:17:46.578Z"
   },
   {
    "duration": 6,
    "start_time": "2023-11-24T11:17:46.609Z"
   },
   {
    "duration": 6,
    "start_time": "2023-11-24T11:17:46.617Z"
   },
   {
    "duration": 13,
    "start_time": "2023-11-24T11:17:46.625Z"
   },
   {
    "duration": 292,
    "start_time": "2023-11-24T11:17:46.640Z"
   },
   {
    "duration": 352,
    "start_time": "2023-11-24T11:17:46.934Z"
   },
   {
    "duration": 355,
    "start_time": "2023-11-24T11:17:47.288Z"
   },
   {
    "duration": 546,
    "start_time": "2023-11-24T11:17:47.645Z"
   },
   {
    "duration": 401,
    "start_time": "2023-11-24T11:17:48.193Z"
   },
   {
    "duration": 428,
    "start_time": "2023-11-24T11:17:48.596Z"
   },
   {
    "duration": 185,
    "start_time": "2023-11-24T11:17:49.026Z"
   },
   {
    "duration": 6,
    "start_time": "2023-11-24T11:17:49.214Z"
   },
   {
    "duration": 208,
    "start_time": "2023-11-24T11:17:49.222Z"
   },
   {
    "duration": 5,
    "start_time": "2023-11-24T11:17:49.433Z"
   },
   {
    "duration": 259,
    "start_time": "2023-11-24T11:17:49.440Z"
   },
   {
    "duration": 214,
    "start_time": "2023-11-24T11:17:49.700Z"
   },
   {
    "duration": 10,
    "start_time": "2023-11-24T11:17:49.916Z"
   },
   {
    "duration": 10,
    "start_time": "2023-11-24T11:17:49.928Z"
   },
   {
    "duration": 34,
    "start_time": "2023-11-24T11:17:49.939Z"
   },
   {
    "duration": 27,
    "start_time": "2023-11-24T11:17:49.975Z"
   },
   {
    "duration": 15,
    "start_time": "2023-11-24T11:17:50.004Z"
   },
   {
    "duration": 22,
    "start_time": "2023-11-24T11:17:50.021Z"
   },
   {
    "duration": 47,
    "start_time": "2023-11-24T11:17:50.045Z"
   },
   {
    "duration": 14,
    "start_time": "2023-11-24T11:17:50.094Z"
   },
   {
    "duration": 1096,
    "start_time": "2023-11-24T11:22:09.285Z"
   },
   {
    "duration": 116,
    "start_time": "2023-11-24T11:22:10.383Z"
   },
   {
    "duration": 0,
    "start_time": "2023-11-24T11:22:10.553Z"
   },
   {
    "duration": 0,
    "start_time": "2023-11-24T11:22:10.554Z"
   },
   {
    "duration": 0,
    "start_time": "2023-11-24T11:22:10.555Z"
   },
   {
    "duration": 0,
    "start_time": "2023-11-24T11:22:10.556Z"
   },
   {
    "duration": 0,
    "start_time": "2023-11-24T11:22:10.557Z"
   },
   {
    "duration": 0,
    "start_time": "2023-11-24T11:22:10.558Z"
   },
   {
    "duration": 0,
    "start_time": "2023-11-24T11:22:10.559Z"
   },
   {
    "duration": 0,
    "start_time": "2023-11-24T11:22:10.560Z"
   },
   {
    "duration": 0,
    "start_time": "2023-11-24T11:22:10.574Z"
   },
   {
    "duration": 0,
    "start_time": "2023-11-24T11:22:10.575Z"
   },
   {
    "duration": 0,
    "start_time": "2023-11-24T11:22:10.576Z"
   },
   {
    "duration": 0,
    "start_time": "2023-11-24T11:22:10.577Z"
   },
   {
    "duration": 0,
    "start_time": "2023-11-24T11:22:10.578Z"
   },
   {
    "duration": 0,
    "start_time": "2023-11-24T11:22:10.579Z"
   },
   {
    "duration": 0,
    "start_time": "2023-11-24T11:22:10.580Z"
   },
   {
    "duration": 0,
    "start_time": "2023-11-24T11:22:10.581Z"
   },
   {
    "duration": 0,
    "start_time": "2023-11-24T11:22:10.582Z"
   },
   {
    "duration": 0,
    "start_time": "2023-11-24T11:22:10.583Z"
   },
   {
    "duration": 0,
    "start_time": "2023-11-24T11:22:10.584Z"
   },
   {
    "duration": 0,
    "start_time": "2023-11-24T11:22:10.585Z"
   },
   {
    "duration": 0,
    "start_time": "2023-11-24T11:22:10.586Z"
   },
   {
    "duration": 0,
    "start_time": "2023-11-24T11:22:10.587Z"
   },
   {
    "duration": 0,
    "start_time": "2023-11-24T11:22:10.588Z"
   },
   {
    "duration": 0,
    "start_time": "2023-11-24T11:22:10.589Z"
   },
   {
    "duration": 0,
    "start_time": "2023-11-24T11:22:10.590Z"
   },
   {
    "duration": 0,
    "start_time": "2023-11-24T11:22:10.591Z"
   },
   {
    "duration": 0,
    "start_time": "2023-11-24T11:22:10.593Z"
   },
   {
    "duration": 0,
    "start_time": "2023-11-24T11:22:10.594Z"
   },
   {
    "duration": 0,
    "start_time": "2023-11-24T11:22:10.595Z"
   },
   {
    "duration": 0,
    "start_time": "2023-11-24T11:22:10.596Z"
   },
   {
    "duration": 0,
    "start_time": "2023-11-24T11:22:10.597Z"
   },
   {
    "duration": 0,
    "start_time": "2023-11-24T11:22:10.598Z"
   },
   {
    "duration": 0,
    "start_time": "2023-11-24T11:22:10.599Z"
   },
   {
    "duration": 0,
    "start_time": "2023-11-24T11:22:10.600Z"
   },
   {
    "duration": 0,
    "start_time": "2023-11-24T11:22:10.601Z"
   },
   {
    "duration": 0,
    "start_time": "2023-11-24T11:22:10.602Z"
   },
   {
    "duration": 0,
    "start_time": "2023-11-24T11:22:10.603Z"
   },
   {
    "duration": 0,
    "start_time": "2023-11-24T11:22:10.604Z"
   },
   {
    "duration": 0,
    "start_time": "2023-11-24T11:22:10.605Z"
   },
   {
    "duration": 0,
    "start_time": "2023-11-24T11:22:10.606Z"
   },
   {
    "duration": 0,
    "start_time": "2023-11-24T11:22:10.607Z"
   },
   {
    "duration": 0,
    "start_time": "2023-11-24T11:22:10.608Z"
   },
   {
    "duration": 0,
    "start_time": "2023-11-24T11:22:10.609Z"
   },
   {
    "duration": 0,
    "start_time": "2023-11-24T11:22:10.610Z"
   },
   {
    "duration": 0,
    "start_time": "2023-11-24T11:22:10.611Z"
   },
   {
    "duration": 0,
    "start_time": "2023-11-24T11:22:10.674Z"
   },
   {
    "duration": 0,
    "start_time": "2023-11-24T11:22:10.675Z"
   },
   {
    "duration": 0,
    "start_time": "2023-11-24T11:22:10.676Z"
   },
   {
    "duration": 10,
    "start_time": "2023-11-24T11:22:41.597Z"
   },
   {
    "duration": 3,
    "start_time": "2023-11-24T11:23:06.215Z"
   },
   {
    "duration": 1157,
    "start_time": "2023-11-24T11:23:16.047Z"
   },
   {
    "duration": 3,
    "start_time": "2023-11-24T11:23:17.205Z"
   },
   {
    "duration": 117,
    "start_time": "2023-11-24T11:23:17.210Z"
   },
   {
    "duration": 37,
    "start_time": "2023-11-24T11:23:17.329Z"
   },
   {
    "duration": 24,
    "start_time": "2023-11-24T11:23:17.369Z"
   },
   {
    "duration": 42,
    "start_time": "2023-11-24T11:23:17.395Z"
   },
   {
    "duration": 43,
    "start_time": "2023-11-24T11:23:17.438Z"
   },
   {
    "duration": 42,
    "start_time": "2023-11-24T11:23:17.483Z"
   },
   {
    "duration": 67,
    "start_time": "2023-11-24T11:23:17.527Z"
   },
   {
    "duration": 12,
    "start_time": "2023-11-24T11:23:17.596Z"
   },
   {
    "duration": 45,
    "start_time": "2023-11-24T11:23:17.610Z"
   },
   {
    "duration": 27,
    "start_time": "2023-11-24T11:23:17.656Z"
   },
   {
    "duration": 69,
    "start_time": "2023-11-24T11:23:17.684Z"
   },
   {
    "duration": 31,
    "start_time": "2023-11-24T11:23:17.756Z"
   },
   {
    "duration": 35,
    "start_time": "2023-11-24T11:23:17.789Z"
   },
   {
    "duration": 211,
    "start_time": "2023-11-24T11:23:17.825Z"
   },
   {
    "duration": 5,
    "start_time": "2023-11-24T11:23:18.038Z"
   },
   {
    "duration": 32,
    "start_time": "2023-11-24T11:23:18.045Z"
   },
   {
    "duration": 36,
    "start_time": "2023-11-24T11:23:18.079Z"
   },
   {
    "duration": 42,
    "start_time": "2023-11-24T11:23:18.118Z"
   },
   {
    "duration": 64,
    "start_time": "2023-11-24T11:23:18.162Z"
   },
   {
    "duration": 34,
    "start_time": "2023-11-24T11:23:18.228Z"
   },
   {
    "duration": 16,
    "start_time": "2023-11-24T11:23:18.264Z"
   },
   {
    "duration": 48,
    "start_time": "2023-11-24T11:23:18.282Z"
   },
   {
    "duration": 49,
    "start_time": "2023-11-24T11:23:18.332Z"
   },
   {
    "duration": 50,
    "start_time": "2023-11-24T11:23:18.383Z"
   },
   {
    "duration": 48,
    "start_time": "2023-11-24T11:23:18.435Z"
   },
   {
    "duration": 65,
    "start_time": "2023-11-24T11:23:18.484Z"
   },
   {
    "duration": 36,
    "start_time": "2023-11-24T11:23:18.551Z"
   },
   {
    "duration": 85,
    "start_time": "2023-11-24T11:23:18.588Z"
   },
   {
    "duration": 323,
    "start_time": "2023-11-24T11:23:18.675Z"
   },
   {
    "duration": 342,
    "start_time": "2023-11-24T11:23:19.000Z"
   },
   {
    "duration": 351,
    "start_time": "2023-11-24T11:23:19.344Z"
   },
   {
    "duration": 430,
    "start_time": "2023-11-24T11:23:19.697Z"
   },
   {
    "duration": 397,
    "start_time": "2023-11-24T11:23:20.129Z"
   },
   {
    "duration": 424,
    "start_time": "2023-11-24T11:23:20.528Z"
   },
   {
    "duration": 189,
    "start_time": "2023-11-24T11:23:20.954Z"
   },
   {
    "duration": 5,
    "start_time": "2023-11-24T11:23:21.145Z"
   },
   {
    "duration": 226,
    "start_time": "2023-11-24T11:23:21.152Z"
   },
   {
    "duration": 5,
    "start_time": "2023-11-24T11:23:21.380Z"
   },
   {
    "duration": 235,
    "start_time": "2023-11-24T11:23:21.389Z"
   },
   {
    "duration": 171,
    "start_time": "2023-11-24T11:23:21.626Z"
   },
   {
    "duration": 10,
    "start_time": "2023-11-24T11:23:21.799Z"
   },
   {
    "duration": 56,
    "start_time": "2023-11-24T11:23:21.811Z"
   },
   {
    "duration": 31,
    "start_time": "2023-11-24T11:23:21.869Z"
   },
   {
    "duration": 68,
    "start_time": "2023-11-24T11:23:21.902Z"
   },
   {
    "duration": 14,
    "start_time": "2023-11-24T11:23:21.972Z"
   },
   {
    "duration": 30,
    "start_time": "2023-11-24T11:23:21.988Z"
   },
   {
    "duration": 68,
    "start_time": "2023-11-24T11:23:22.020Z"
   },
   {
    "duration": 32,
    "start_time": "2023-11-24T11:23:22.090Z"
   },
   {
    "duration": 1117,
    "start_time": "2023-11-24T11:26:15.941Z"
   },
   {
    "duration": 3,
    "start_time": "2023-11-24T11:26:17.060Z"
   },
   {
    "duration": 97,
    "start_time": "2023-11-24T11:26:17.064Z"
   },
   {
    "duration": 17,
    "start_time": "2023-11-24T11:26:17.163Z"
   },
   {
    "duration": 24,
    "start_time": "2023-11-24T11:26:17.182Z"
   },
   {
    "duration": 29,
    "start_time": "2023-11-24T11:26:17.207Z"
   },
   {
    "duration": 23,
    "start_time": "2023-11-24T11:26:17.238Z"
   },
   {
    "duration": 19,
    "start_time": "2023-11-24T11:26:17.263Z"
   },
   {
    "duration": 90,
    "start_time": "2023-11-24T11:26:17.284Z"
   },
   {
    "duration": 12,
    "start_time": "2023-11-24T11:26:17.376Z"
   },
   {
    "duration": 25,
    "start_time": "2023-11-24T11:26:17.390Z"
   },
   {
    "duration": 30,
    "start_time": "2023-11-24T11:26:17.416Z"
   },
   {
    "duration": 15,
    "start_time": "2023-11-24T11:26:17.448Z"
   },
   {
    "duration": 17,
    "start_time": "2023-11-24T11:26:17.465Z"
   },
   {
    "duration": 39,
    "start_time": "2023-11-24T11:26:17.483Z"
   },
   {
    "duration": 169,
    "start_time": "2023-11-24T11:26:17.523Z"
   },
   {
    "duration": 4,
    "start_time": "2023-11-24T11:26:17.694Z"
   },
   {
    "duration": 8,
    "start_time": "2023-11-24T11:26:17.700Z"
   },
   {
    "duration": 5,
    "start_time": "2023-11-24T11:26:17.710Z"
   },
   {
    "duration": 15,
    "start_time": "2023-11-24T11:26:17.716Z"
   },
   {
    "duration": 27,
    "start_time": "2023-11-24T11:26:17.732Z"
   },
   {
    "duration": 4,
    "start_time": "2023-11-24T11:26:17.760Z"
   },
   {
    "duration": 25,
    "start_time": "2023-11-24T11:26:17.765Z"
   },
   {
    "duration": 6,
    "start_time": "2023-11-24T11:26:17.791Z"
   },
   {
    "duration": 9,
    "start_time": "2023-11-24T11:26:17.799Z"
   },
   {
    "duration": 10,
    "start_time": "2023-11-24T11:26:17.810Z"
   },
   {
    "duration": 10,
    "start_time": "2023-11-24T11:26:17.822Z"
   },
   {
    "duration": 11,
    "start_time": "2023-11-24T11:26:17.833Z"
   },
   {
    "duration": 4,
    "start_time": "2023-11-24T11:26:17.874Z"
   },
   {
    "duration": 8,
    "start_time": "2023-11-24T11:26:17.879Z"
   },
   {
    "duration": 449,
    "start_time": "2023-11-24T11:26:17.888Z"
   },
   {
    "duration": 355,
    "start_time": "2023-11-24T11:26:18.339Z"
   },
   {
    "duration": 357,
    "start_time": "2023-11-24T11:26:18.696Z"
   },
   {
    "duration": 478,
    "start_time": "2023-11-24T11:26:19.055Z"
   },
   {
    "duration": 395,
    "start_time": "2023-11-24T11:26:19.535Z"
   },
   {
    "duration": 433,
    "start_time": "2023-11-24T11:26:19.932Z"
   },
   {
    "duration": 183,
    "start_time": "2023-11-24T11:26:20.367Z"
   },
   {
    "duration": 5,
    "start_time": "2023-11-24T11:26:20.552Z"
   },
   {
    "duration": 214,
    "start_time": "2023-11-24T11:26:20.559Z"
   },
   {
    "duration": 6,
    "start_time": "2023-11-24T11:26:20.775Z"
   },
   {
    "duration": 238,
    "start_time": "2023-11-24T11:26:20.785Z"
   },
   {
    "duration": 187,
    "start_time": "2023-11-24T11:26:21.025Z"
   },
   {
    "duration": 11,
    "start_time": "2023-11-24T11:26:21.214Z"
   },
   {
    "duration": 12,
    "start_time": "2023-11-24T11:26:21.227Z"
   },
   {
    "duration": 10,
    "start_time": "2023-11-24T11:26:21.240Z"
   },
   {
    "duration": 27,
    "start_time": "2023-11-24T11:26:21.273Z"
   },
   {
    "duration": 15,
    "start_time": "2023-11-24T11:26:21.302Z"
   },
   {
    "duration": 14,
    "start_time": "2023-11-24T11:26:21.319Z"
   },
   {
    "duration": 55,
    "start_time": "2023-11-24T11:26:21.335Z"
   },
   {
    "duration": 14,
    "start_time": "2023-11-24T11:26:21.392Z"
   },
   {
    "duration": 3,
    "start_time": "2023-11-24T11:28:44.644Z"
   },
   {
    "duration": 18,
    "start_time": "2023-11-24T11:28:44.649Z"
   },
   {
    "duration": 30,
    "start_time": "2023-11-24T11:28:44.669Z"
   },
   {
    "duration": 8,
    "start_time": "2023-11-24T11:28:44.701Z"
   },
   {
    "duration": 25,
    "start_time": "2023-11-24T11:28:44.711Z"
   },
   {
    "duration": 15,
    "start_time": "2023-11-24T11:28:44.738Z"
   },
   {
    "duration": 15,
    "start_time": "2023-11-24T11:28:44.754Z"
   },
   {
    "duration": 19,
    "start_time": "2023-11-24T11:28:44.771Z"
   },
   {
    "duration": 55,
    "start_time": "2023-11-24T11:28:44.791Z"
   },
   {
    "duration": 12,
    "start_time": "2023-11-24T11:28:44.848Z"
   },
   {
    "duration": 11,
    "start_time": "2023-11-24T11:28:44.862Z"
   },
   {
    "duration": 10,
    "start_time": "2023-11-24T11:28:44.874Z"
   },
   {
    "duration": 5,
    "start_time": "2023-11-24T11:28:44.888Z"
   },
   {
    "duration": 12,
    "start_time": "2023-11-24T11:28:44.895Z"
   },
   {
    "duration": 8,
    "start_time": "2023-11-24T11:28:44.908Z"
   },
   {
    "duration": 227,
    "start_time": "2023-11-24T11:28:44.917Z"
   },
   {
    "duration": 5,
    "start_time": "2023-11-24T11:28:45.146Z"
   },
   {
    "duration": 9,
    "start_time": "2023-11-24T11:28:45.152Z"
   },
   {
    "duration": 16,
    "start_time": "2023-11-24T11:28:45.163Z"
   },
   {
    "duration": 21,
    "start_time": "2023-11-24T11:28:45.181Z"
   },
   {
    "duration": 27,
    "start_time": "2023-11-24T11:28:45.203Z"
   },
   {
    "duration": 5,
    "start_time": "2023-11-24T11:28:45.231Z"
   },
   {
    "duration": 9,
    "start_time": "2023-11-24T11:28:45.238Z"
   },
   {
    "duration": 8,
    "start_time": "2023-11-24T11:28:45.274Z"
   },
   {
    "duration": 12,
    "start_time": "2023-11-24T11:28:45.284Z"
   },
   {
    "duration": 13,
    "start_time": "2023-11-24T11:28:45.298Z"
   },
   {
    "duration": 8,
    "start_time": "2023-11-24T11:28:45.313Z"
   },
   {
    "duration": 12,
    "start_time": "2023-11-24T11:28:45.323Z"
   },
   {
    "duration": 6,
    "start_time": "2023-11-24T11:28:45.337Z"
   },
   {
    "duration": 31,
    "start_time": "2023-11-24T11:28:45.345Z"
   },
   {
    "duration": 291,
    "start_time": "2023-11-24T11:28:45.378Z"
   },
   {
    "duration": 341,
    "start_time": "2023-11-24T11:28:45.671Z"
   },
   {
    "duration": 338,
    "start_time": "2023-11-24T11:28:46.014Z"
   },
   {
    "duration": 474,
    "start_time": "2023-11-24T11:28:46.354Z"
   },
   {
    "duration": 365,
    "start_time": "2023-11-24T11:28:46.830Z"
   },
   {
    "duration": 424,
    "start_time": "2023-11-24T11:28:47.197Z"
   },
   {
    "duration": 177,
    "start_time": "2023-11-24T11:28:47.626Z"
   },
   {
    "duration": 5,
    "start_time": "2023-11-24T11:28:47.804Z"
   },
   {
    "duration": 210,
    "start_time": "2023-11-24T11:28:47.811Z"
   },
   {
    "duration": 6,
    "start_time": "2023-11-24T11:28:48.024Z"
   },
   {
    "duration": 232,
    "start_time": "2023-11-24T11:28:48.032Z"
   },
   {
    "duration": 183,
    "start_time": "2023-11-24T11:28:48.266Z"
   },
   {
    "duration": 11,
    "start_time": "2023-11-24T11:28:48.450Z"
   },
   {
    "duration": 15,
    "start_time": "2023-11-24T11:28:48.474Z"
   },
   {
    "duration": 13,
    "start_time": "2023-11-24T11:28:48.491Z"
   },
   {
    "duration": 31,
    "start_time": "2023-11-24T11:28:48.506Z"
   },
   {
    "duration": 14,
    "start_time": "2023-11-24T11:28:48.539Z"
   },
   {
    "duration": 7,
    "start_time": "2023-11-24T11:28:48.573Z"
   },
   {
    "duration": 42,
    "start_time": "2023-11-24T11:28:48.581Z"
   },
   {
    "duration": 14,
    "start_time": "2023-11-24T11:28:48.625Z"
   },
   {
    "duration": 1255,
    "start_time": "2023-11-24T11:29:59.560Z"
   },
   {
    "duration": 3,
    "start_time": "2023-11-24T11:30:00.818Z"
   },
   {
    "duration": 223,
    "start_time": "2023-11-24T11:30:00.822Z"
   },
   {
    "duration": 13,
    "start_time": "2023-11-24T11:30:01.047Z"
   },
   {
    "duration": 33,
    "start_time": "2023-11-24T11:30:01.062Z"
   },
   {
    "duration": 28,
    "start_time": "2023-11-24T11:30:01.096Z"
   },
   {
    "duration": 59,
    "start_time": "2023-11-24T11:30:01.126Z"
   },
   {
    "duration": 122,
    "start_time": "2023-11-24T11:30:01.187Z"
   },
   {
    "duration": 178,
    "start_time": "2023-11-24T11:30:01.310Z"
   },
   {
    "duration": 19,
    "start_time": "2023-11-24T11:30:01.490Z"
   },
   {
    "duration": 97,
    "start_time": "2023-11-24T11:30:01.510Z"
   },
   {
    "duration": 230,
    "start_time": "2023-11-24T11:30:01.609Z"
   },
   {
    "duration": 81,
    "start_time": "2023-11-24T11:30:01.841Z"
   },
   {
    "duration": 30,
    "start_time": "2023-11-24T11:30:01.927Z"
   },
   {
    "duration": 111,
    "start_time": "2023-11-24T11:30:01.959Z"
   },
   {
    "duration": 237,
    "start_time": "2023-11-24T11:30:02.072Z"
   },
   {
    "duration": 15,
    "start_time": "2023-11-24T11:30:02.311Z"
   },
   {
    "duration": 51,
    "start_time": "2023-11-24T11:30:02.328Z"
   },
   {
    "duration": 78,
    "start_time": "2023-11-24T11:30:02.382Z"
   },
   {
    "duration": 56,
    "start_time": "2023-11-24T11:30:02.462Z"
   },
   {
    "duration": 47,
    "start_time": "2023-11-24T11:30:02.519Z"
   },
   {
    "duration": 25,
    "start_time": "2023-11-24T11:30:02.568Z"
   },
   {
    "duration": 36,
    "start_time": "2023-11-24T11:30:02.596Z"
   },
   {
    "duration": 28,
    "start_time": "2023-11-24T11:30:02.634Z"
   },
   {
    "duration": 40,
    "start_time": "2023-11-24T11:30:02.664Z"
   },
   {
    "duration": 69,
    "start_time": "2023-11-24T11:30:02.706Z"
   },
   {
    "duration": 43,
    "start_time": "2023-11-24T11:30:02.777Z"
   },
   {
    "duration": 56,
    "start_time": "2023-11-24T11:30:02.822Z"
   },
   {
    "duration": 43,
    "start_time": "2023-11-24T11:30:02.881Z"
   },
   {
    "duration": 25,
    "start_time": "2023-11-24T11:30:02.926Z"
   },
   {
    "duration": 316,
    "start_time": "2023-11-24T11:30:02.953Z"
   },
   {
    "duration": 345,
    "start_time": "2023-11-24T11:30:03.271Z"
   },
   {
    "duration": 383,
    "start_time": "2023-11-24T11:30:03.618Z"
   },
   {
    "duration": 444,
    "start_time": "2023-11-24T11:30:04.003Z"
   },
   {
    "duration": 401,
    "start_time": "2023-11-24T11:30:04.449Z"
   },
   {
    "duration": 490,
    "start_time": "2023-11-24T11:30:04.852Z"
   },
   {
    "duration": 187,
    "start_time": "2023-11-24T11:30:05.344Z"
   },
   {
    "duration": 7,
    "start_time": "2023-11-24T11:30:05.533Z"
   },
   {
    "duration": 226,
    "start_time": "2023-11-24T11:30:05.541Z"
   },
   {
    "duration": 8,
    "start_time": "2023-11-24T11:30:05.769Z"
   },
   {
    "duration": 253,
    "start_time": "2023-11-24T11:30:05.782Z"
   },
   {
    "duration": 202,
    "start_time": "2023-11-24T11:30:06.037Z"
   },
   {
    "duration": 11,
    "start_time": "2023-11-24T11:30:06.240Z"
   },
   {
    "duration": 52,
    "start_time": "2023-11-24T11:30:06.252Z"
   },
   {
    "duration": 12,
    "start_time": "2023-11-24T11:30:06.306Z"
   },
   {
    "duration": 30,
    "start_time": "2023-11-24T11:30:06.320Z"
   },
   {
    "duration": 17,
    "start_time": "2023-11-24T11:30:06.352Z"
   },
   {
    "duration": 19,
    "start_time": "2023-11-24T11:30:06.371Z"
   },
   {
    "duration": 47,
    "start_time": "2023-11-24T11:30:06.392Z"
   },
   {
    "duration": 14,
    "start_time": "2023-11-24T11:30:06.441Z"
   },
   {
    "duration": 119,
    "start_time": "2023-11-24T11:32:02.560Z"
   },
   {
    "duration": 12,
    "start_time": "2023-11-24T11:33:45.073Z"
   },
   {
    "duration": 10,
    "start_time": "2023-11-24T11:34:00.523Z"
   },
   {
    "duration": 9,
    "start_time": "2023-11-24T11:36:23.862Z"
   },
   {
    "duration": 9,
    "start_time": "2023-11-24T11:38:22.959Z"
   },
   {
    "duration": 1118,
    "start_time": "2023-11-24T11:43:26.737Z"
   },
   {
    "duration": 3,
    "start_time": "2023-11-24T11:43:27.857Z"
   },
   {
    "duration": 99,
    "start_time": "2023-11-24T11:43:27.861Z"
   },
   {
    "duration": 57,
    "start_time": "2023-11-24T11:43:27.962Z"
   },
   {
    "duration": 28,
    "start_time": "2023-11-24T11:43:28.021Z"
   },
   {
    "duration": 7,
    "start_time": "2023-11-24T11:43:28.051Z"
   },
   {
    "duration": 31,
    "start_time": "2023-11-24T11:43:28.060Z"
   },
   {
    "duration": 13,
    "start_time": "2023-11-24T11:43:28.092Z"
   },
   {
    "duration": 63,
    "start_time": "2023-11-24T11:43:28.106Z"
   },
   {
    "duration": 0,
    "start_time": "2023-11-24T11:43:28.172Z"
   },
   {
    "duration": 0,
    "start_time": "2023-11-24T11:43:28.173Z"
   },
   {
    "duration": 0,
    "start_time": "2023-11-24T11:43:28.174Z"
   },
   {
    "duration": 0,
    "start_time": "2023-11-24T11:43:28.175Z"
   },
   {
    "duration": 0,
    "start_time": "2023-11-24T11:43:28.176Z"
   },
   {
    "duration": 0,
    "start_time": "2023-11-24T11:43:28.177Z"
   },
   {
    "duration": 0,
    "start_time": "2023-11-24T11:43:28.178Z"
   },
   {
    "duration": 0,
    "start_time": "2023-11-24T11:43:28.179Z"
   },
   {
    "duration": 0,
    "start_time": "2023-11-24T11:43:28.180Z"
   },
   {
    "duration": 0,
    "start_time": "2023-11-24T11:43:28.181Z"
   },
   {
    "duration": 0,
    "start_time": "2023-11-24T11:43:28.182Z"
   },
   {
    "duration": 0,
    "start_time": "2023-11-24T11:43:28.183Z"
   },
   {
    "duration": 0,
    "start_time": "2023-11-24T11:43:28.184Z"
   },
   {
    "duration": 0,
    "start_time": "2023-11-24T11:43:28.186Z"
   },
   {
    "duration": 0,
    "start_time": "2023-11-24T11:43:28.187Z"
   },
   {
    "duration": 0,
    "start_time": "2023-11-24T11:43:28.188Z"
   },
   {
    "duration": 0,
    "start_time": "2023-11-24T11:43:28.189Z"
   },
   {
    "duration": 0,
    "start_time": "2023-11-24T11:43:28.190Z"
   },
   {
    "duration": 0,
    "start_time": "2023-11-24T11:43:28.191Z"
   },
   {
    "duration": 0,
    "start_time": "2023-11-24T11:43:28.192Z"
   },
   {
    "duration": 0,
    "start_time": "2023-11-24T11:43:28.193Z"
   },
   {
    "duration": 0,
    "start_time": "2023-11-24T11:43:28.194Z"
   },
   {
    "duration": 0,
    "start_time": "2023-11-24T11:43:28.195Z"
   },
   {
    "duration": 0,
    "start_time": "2023-11-24T11:43:28.196Z"
   },
   {
    "duration": 0,
    "start_time": "2023-11-24T11:43:28.197Z"
   },
   {
    "duration": 0,
    "start_time": "2023-11-24T11:43:28.199Z"
   },
   {
    "duration": 0,
    "start_time": "2023-11-24T11:43:28.200Z"
   },
   {
    "duration": 0,
    "start_time": "2023-11-24T11:43:28.202Z"
   },
   {
    "duration": 0,
    "start_time": "2023-11-24T11:43:28.203Z"
   },
   {
    "duration": 0,
    "start_time": "2023-11-24T11:43:28.204Z"
   },
   {
    "duration": 1,
    "start_time": "2023-11-24T11:43:28.205Z"
   },
   {
    "duration": 0,
    "start_time": "2023-11-24T11:43:28.206Z"
   },
   {
    "duration": 0,
    "start_time": "2023-11-24T11:43:28.208Z"
   },
   {
    "duration": 0,
    "start_time": "2023-11-24T11:43:28.210Z"
   },
   {
    "duration": 0,
    "start_time": "2023-11-24T11:43:28.211Z"
   },
   {
    "duration": 0,
    "start_time": "2023-11-24T11:43:28.213Z"
   },
   {
    "duration": 0,
    "start_time": "2023-11-24T11:43:28.274Z"
   },
   {
    "duration": 0,
    "start_time": "2023-11-24T11:43:28.276Z"
   },
   {
    "duration": 0,
    "start_time": "2023-11-24T11:43:28.278Z"
   },
   {
    "duration": 0,
    "start_time": "2023-11-24T11:43:28.279Z"
   },
   {
    "duration": 0,
    "start_time": "2023-11-24T11:43:28.281Z"
   },
   {
    "duration": 0,
    "start_time": "2023-11-24T11:43:28.282Z"
   },
   {
    "duration": 1194,
    "start_time": "2023-11-25T08:23:26.857Z"
   },
   {
    "duration": 3,
    "start_time": "2023-11-25T08:23:28.054Z"
   },
   {
    "duration": 151,
    "start_time": "2023-11-25T08:23:28.058Z"
   },
   {
    "duration": 11,
    "start_time": "2023-11-25T08:23:28.210Z"
   },
   {
    "duration": 11,
    "start_time": "2023-11-25T08:23:28.223Z"
   },
   {
    "duration": 6,
    "start_time": "2023-11-25T08:23:28.235Z"
   },
   {
    "duration": 22,
    "start_time": "2023-11-25T08:23:28.243Z"
   },
   {
    "duration": 8,
    "start_time": "2023-11-25T08:23:28.267Z"
   },
   {
    "duration": 56,
    "start_time": "2023-11-25T08:23:28.276Z"
   },
   {
    "duration": 0,
    "start_time": "2023-11-25T08:23:28.335Z"
   },
   {
    "duration": 0,
    "start_time": "2023-11-25T08:23:28.336Z"
   },
   {
    "duration": 0,
    "start_time": "2023-11-25T08:23:28.337Z"
   },
   {
    "duration": 0,
    "start_time": "2023-11-25T08:23:28.338Z"
   },
   {
    "duration": 0,
    "start_time": "2023-11-25T08:23:28.339Z"
   },
   {
    "duration": 0,
    "start_time": "2023-11-25T08:23:28.341Z"
   },
   {
    "duration": 0,
    "start_time": "2023-11-25T08:23:28.342Z"
   },
   {
    "duration": 0,
    "start_time": "2023-11-25T08:23:28.343Z"
   },
   {
    "duration": 0,
    "start_time": "2023-11-25T08:23:28.344Z"
   },
   {
    "duration": 0,
    "start_time": "2023-11-25T08:23:28.344Z"
   },
   {
    "duration": 0,
    "start_time": "2023-11-25T08:23:28.345Z"
   },
   {
    "duration": 0,
    "start_time": "2023-11-25T08:23:28.346Z"
   },
   {
    "duration": 0,
    "start_time": "2023-11-25T08:23:28.347Z"
   },
   {
    "duration": 0,
    "start_time": "2023-11-25T08:23:28.348Z"
   },
   {
    "duration": 0,
    "start_time": "2023-11-25T08:23:28.349Z"
   },
   {
    "duration": 0,
    "start_time": "2023-11-25T08:23:28.351Z"
   },
   {
    "duration": 0,
    "start_time": "2023-11-25T08:23:28.352Z"
   },
   {
    "duration": 0,
    "start_time": "2023-11-25T08:23:28.353Z"
   },
   {
    "duration": 0,
    "start_time": "2023-11-25T08:23:28.354Z"
   },
   {
    "duration": 0,
    "start_time": "2023-11-25T08:23:28.355Z"
   },
   {
    "duration": 0,
    "start_time": "2023-11-25T08:23:28.356Z"
   },
   {
    "duration": 0,
    "start_time": "2023-11-25T08:23:28.357Z"
   },
   {
    "duration": 0,
    "start_time": "2023-11-25T08:23:28.359Z"
   },
   {
    "duration": 0,
    "start_time": "2023-11-25T08:23:28.360Z"
   },
   {
    "duration": 0,
    "start_time": "2023-11-25T08:23:28.361Z"
   },
   {
    "duration": 0,
    "start_time": "2023-11-25T08:23:28.362Z"
   },
   {
    "duration": 0,
    "start_time": "2023-11-25T08:23:28.363Z"
   },
   {
    "duration": 0,
    "start_time": "2023-11-25T08:23:28.364Z"
   },
   {
    "duration": 0,
    "start_time": "2023-11-25T08:23:28.365Z"
   },
   {
    "duration": 0,
    "start_time": "2023-11-25T08:23:28.367Z"
   },
   {
    "duration": 0,
    "start_time": "2023-11-25T08:23:28.368Z"
   },
   {
    "duration": 0,
    "start_time": "2023-11-25T08:23:28.369Z"
   },
   {
    "duration": 0,
    "start_time": "2023-11-25T08:23:28.415Z"
   },
   {
    "duration": 0,
    "start_time": "2023-11-25T08:23:28.417Z"
   },
   {
    "duration": 0,
    "start_time": "2023-11-25T08:23:28.418Z"
   },
   {
    "duration": 0,
    "start_time": "2023-11-25T08:23:28.420Z"
   },
   {
    "duration": 0,
    "start_time": "2023-11-25T08:23:28.421Z"
   },
   {
    "duration": 0,
    "start_time": "2023-11-25T08:23:28.423Z"
   },
   {
    "duration": 0,
    "start_time": "2023-11-25T08:23:28.424Z"
   },
   {
    "duration": 0,
    "start_time": "2023-11-25T08:23:28.426Z"
   },
   {
    "duration": 0,
    "start_time": "2023-11-25T08:23:28.427Z"
   },
   {
    "duration": 0,
    "start_time": "2023-11-25T08:23:28.429Z"
   },
   {
    "duration": 1039,
    "start_time": "2023-11-25T08:23:49.624Z"
   },
   {
    "duration": 3,
    "start_time": "2023-11-25T08:23:50.665Z"
   },
   {
    "duration": 77,
    "start_time": "2023-11-25T08:23:50.670Z"
   },
   {
    "duration": 12,
    "start_time": "2023-11-25T08:23:50.749Z"
   },
   {
    "duration": 11,
    "start_time": "2023-11-25T08:23:50.762Z"
   },
   {
    "duration": 8,
    "start_time": "2023-11-25T08:23:50.775Z"
   },
   {
    "duration": 27,
    "start_time": "2023-11-25T08:23:50.785Z"
   },
   {
    "duration": 9,
    "start_time": "2023-11-25T08:23:50.814Z"
   },
   {
    "duration": 127,
    "start_time": "2023-11-25T08:23:50.824Z"
   },
   {
    "duration": 11,
    "start_time": "2023-11-25T08:23:50.953Z"
   },
   {
    "duration": 19,
    "start_time": "2023-11-25T08:23:50.966Z"
   },
   {
    "duration": 15,
    "start_time": "2023-11-25T08:23:50.986Z"
   },
   {
    "duration": 24,
    "start_time": "2023-11-25T08:23:51.003Z"
   },
   {
    "duration": 25,
    "start_time": "2023-11-25T08:23:51.030Z"
   },
   {
    "duration": 14,
    "start_time": "2023-11-25T08:23:51.057Z"
   },
   {
    "duration": 145,
    "start_time": "2023-11-25T08:23:51.073Z"
   },
   {
    "duration": 4,
    "start_time": "2023-11-25T08:23:51.219Z"
   },
   {
    "duration": 18,
    "start_time": "2023-11-25T08:23:51.224Z"
   },
   {
    "duration": 13,
    "start_time": "2023-11-25T08:23:51.244Z"
   },
   {
    "duration": 18,
    "start_time": "2023-11-25T08:23:51.258Z"
   },
   {
    "duration": 37,
    "start_time": "2023-11-25T08:23:51.278Z"
   },
   {
    "duration": 3,
    "start_time": "2023-11-25T08:23:51.317Z"
   },
   {
    "duration": 23,
    "start_time": "2023-11-25T08:23:51.321Z"
   },
   {
    "duration": 6,
    "start_time": "2023-11-25T08:23:51.345Z"
   },
   {
    "duration": 15,
    "start_time": "2023-11-25T08:23:51.353Z"
   },
   {
    "duration": 20,
    "start_time": "2023-11-25T08:23:51.369Z"
   },
   {
    "duration": 12,
    "start_time": "2023-11-25T08:23:51.390Z"
   },
   {
    "duration": 12,
    "start_time": "2023-11-25T08:23:51.404Z"
   },
   {
    "duration": 18,
    "start_time": "2023-11-25T08:23:51.417Z"
   },
   {
    "duration": 49,
    "start_time": "2023-11-25T08:23:51.437Z"
   },
   {
    "duration": 255,
    "start_time": "2023-11-25T08:23:51.488Z"
   },
   {
    "duration": 322,
    "start_time": "2023-11-25T08:23:51.745Z"
   },
   {
    "duration": 311,
    "start_time": "2023-11-25T08:23:52.069Z"
   },
   {
    "duration": 435,
    "start_time": "2023-11-25T08:23:52.382Z"
   },
   {
    "duration": 361,
    "start_time": "2023-11-25T08:23:52.819Z"
   },
   {
    "duration": 426,
    "start_time": "2023-11-25T08:23:53.182Z"
   },
   {
    "duration": 161,
    "start_time": "2023-11-25T08:23:53.610Z"
   },
   {
    "duration": 4,
    "start_time": "2023-11-25T08:23:53.773Z"
   },
   {
    "duration": 191,
    "start_time": "2023-11-25T08:23:53.778Z"
   },
   {
    "duration": 4,
    "start_time": "2023-11-25T08:23:53.971Z"
   },
   {
    "duration": 215,
    "start_time": "2023-11-25T08:23:53.979Z"
   },
   {
    "duration": 162,
    "start_time": "2023-11-25T08:23:54.195Z"
   },
   {
    "duration": 11,
    "start_time": "2023-11-25T08:23:54.358Z"
   },
   {
    "duration": 13,
    "start_time": "2023-11-25T08:23:54.370Z"
   },
   {
    "duration": 13,
    "start_time": "2023-11-25T08:23:54.385Z"
   },
   {
    "duration": 37,
    "start_time": "2023-11-25T08:23:54.400Z"
   },
   {
    "duration": 13,
    "start_time": "2023-11-25T08:23:54.438Z"
   },
   {
    "duration": 11,
    "start_time": "2023-11-25T08:23:54.453Z"
   },
   {
    "duration": 52,
    "start_time": "2023-11-25T08:23:54.465Z"
   },
   {
    "duration": 12,
    "start_time": "2023-11-25T08:23:54.519Z"
   },
   {
    "duration": 5,
    "start_time": "2023-11-25T08:31:16.380Z"
   },
   {
    "duration": 15,
    "start_time": "2023-11-25T08:31:16.387Z"
   },
   {
    "duration": 20,
    "start_time": "2023-11-25T08:31:16.404Z"
   },
   {
    "duration": 17,
    "start_time": "2023-11-25T08:31:16.426Z"
   },
   {
    "duration": 18,
    "start_time": "2023-11-25T08:31:16.446Z"
   },
   {
    "duration": 200,
    "start_time": "2023-11-25T08:31:16.466Z"
   },
   {
    "duration": 4,
    "start_time": "2023-11-25T08:31:16.667Z"
   },
   {
    "duration": 5,
    "start_time": "2023-11-25T08:31:16.673Z"
   },
   {
    "duration": 5,
    "start_time": "2023-11-25T08:31:16.679Z"
   },
   {
    "duration": 37,
    "start_time": "2023-11-25T08:31:16.686Z"
   },
   {
    "duration": 26,
    "start_time": "2023-11-25T08:31:16.726Z"
   },
   {
    "duration": 4,
    "start_time": "2023-11-25T08:31:16.753Z"
   },
   {
    "duration": 8,
    "start_time": "2023-11-25T08:31:16.759Z"
   },
   {
    "duration": 7,
    "start_time": "2023-11-25T08:31:16.769Z"
   },
   {
    "duration": 43,
    "start_time": "2023-11-25T08:31:16.777Z"
   },
   {
    "duration": 9,
    "start_time": "2023-11-25T08:31:16.822Z"
   },
   {
    "duration": 16,
    "start_time": "2023-11-25T08:31:16.833Z"
   },
   {
    "duration": 5,
    "start_time": "2023-11-25T08:31:16.851Z"
   },
   {
    "duration": 6,
    "start_time": "2023-11-25T08:31:16.858Z"
   },
   {
    "duration": 13,
    "start_time": "2023-11-25T08:31:16.866Z"
   },
   {
    "duration": 639,
    "start_time": "2023-11-25T08:31:16.880Z"
   },
   {
    "duration": 0,
    "start_time": "2023-11-25T08:31:17.521Z"
   },
   {
    "duration": 0,
    "start_time": "2023-11-25T08:31:17.523Z"
   },
   {
    "duration": 0,
    "start_time": "2023-11-25T08:31:17.524Z"
   },
   {
    "duration": 0,
    "start_time": "2023-11-25T08:31:17.526Z"
   },
   {
    "duration": 1,
    "start_time": "2023-11-25T08:31:17.527Z"
   },
   {
    "duration": 0,
    "start_time": "2023-11-25T08:31:17.529Z"
   },
   {
    "duration": 0,
    "start_time": "2023-11-25T08:31:17.530Z"
   },
   {
    "duration": 0,
    "start_time": "2023-11-25T08:31:17.532Z"
   },
   {
    "duration": 0,
    "start_time": "2023-11-25T08:31:17.533Z"
   },
   {
    "duration": 0,
    "start_time": "2023-11-25T08:31:17.535Z"
   },
   {
    "duration": 0,
    "start_time": "2023-11-25T08:31:17.536Z"
   },
   {
    "duration": 0,
    "start_time": "2023-11-25T08:31:17.537Z"
   },
   {
    "duration": 0,
    "start_time": "2023-11-25T08:31:17.539Z"
   },
   {
    "duration": 0,
    "start_time": "2023-11-25T08:31:17.540Z"
   },
   {
    "duration": 0,
    "start_time": "2023-11-25T08:31:17.542Z"
   },
   {
    "duration": 0,
    "start_time": "2023-11-25T08:31:17.543Z"
   },
   {
    "duration": 0,
    "start_time": "2023-11-25T08:31:17.544Z"
   },
   {
    "duration": 0,
    "start_time": "2023-11-25T08:31:17.546Z"
   },
   {
    "duration": 0,
    "start_time": "2023-11-25T08:31:17.547Z"
   },
   {
    "duration": 13,
    "start_time": "2023-11-25T08:38:11.327Z"
   },
   {
    "duration": 15,
    "start_time": "2023-11-25T08:38:26.320Z"
   },
   {
    "duration": 22,
    "start_time": "2023-11-25T08:39:07.439Z"
   },
   {
    "duration": 14,
    "start_time": "2023-11-25T08:39:41.840Z"
   },
   {
    "duration": 11,
    "start_time": "2023-11-25T08:39:45.461Z"
   },
   {
    "duration": 3,
    "start_time": "2023-11-25T08:40:06.733Z"
   },
   {
    "duration": 1090,
    "start_time": "2023-11-25T08:40:27.682Z"
   },
   {
    "duration": 3,
    "start_time": "2023-11-25T08:40:28.774Z"
   },
   {
    "duration": 92,
    "start_time": "2023-11-25T08:40:28.778Z"
   },
   {
    "duration": 13,
    "start_time": "2023-11-25T08:40:28.872Z"
   },
   {
    "duration": 10,
    "start_time": "2023-11-25T08:40:28.887Z"
   },
   {
    "duration": 7,
    "start_time": "2023-11-25T08:40:28.898Z"
   },
   {
    "duration": 23,
    "start_time": "2023-11-25T08:40:28.906Z"
   },
   {
    "duration": 12,
    "start_time": "2023-11-25T08:40:28.931Z"
   },
   {
    "duration": 55,
    "start_time": "2023-11-25T08:40:28.945Z"
   },
   {
    "duration": 12,
    "start_time": "2023-11-25T08:40:29.001Z"
   },
   {
    "duration": 35,
    "start_time": "2023-11-25T08:40:29.015Z"
   },
   {
    "duration": 37,
    "start_time": "2023-11-25T08:40:29.052Z"
   },
   {
    "duration": 14,
    "start_time": "2023-11-25T08:40:29.090Z"
   },
   {
    "duration": 4,
    "start_time": "2023-11-25T08:40:29.107Z"
   },
   {
    "duration": 8,
    "start_time": "2023-11-25T08:40:29.112Z"
   },
   {
    "duration": 22,
    "start_time": "2023-11-25T08:40:29.122Z"
   },
   {
    "duration": 12,
    "start_time": "2023-11-25T08:40:29.145Z"
   },
   {
    "duration": 174,
    "start_time": "2023-11-25T08:40:29.159Z"
   },
   {
    "duration": 4,
    "start_time": "2023-11-25T08:40:29.339Z"
   },
   {
    "duration": 25,
    "start_time": "2023-11-25T08:40:29.345Z"
   },
   {
    "duration": 16,
    "start_time": "2023-11-25T08:40:29.371Z"
   },
   {
    "duration": 36,
    "start_time": "2023-11-25T08:40:29.389Z"
   },
   {
    "duration": 33,
    "start_time": "2023-11-25T08:40:29.427Z"
   },
   {
    "duration": 16,
    "start_time": "2023-11-25T08:40:29.462Z"
   },
   {
    "duration": 19,
    "start_time": "2023-11-25T08:40:29.480Z"
   },
   {
    "duration": 28,
    "start_time": "2023-11-25T08:40:29.500Z"
   },
   {
    "duration": 16,
    "start_time": "2023-11-25T08:40:29.530Z"
   },
   {
    "duration": 10,
    "start_time": "2023-11-25T08:40:29.547Z"
   },
   {
    "duration": 5,
    "start_time": "2023-11-25T08:40:29.558Z"
   },
   {
    "duration": 7,
    "start_time": "2023-11-25T08:40:29.565Z"
   },
   {
    "duration": 4,
    "start_time": "2023-11-25T08:40:29.573Z"
   },
   {
    "duration": 5,
    "start_time": "2023-11-25T08:40:29.578Z"
   },
   {
    "duration": 637,
    "start_time": "2023-11-25T08:40:29.584Z"
   },
   {
    "duration": 0,
    "start_time": "2023-11-25T08:40:30.224Z"
   },
   {
    "duration": 0,
    "start_time": "2023-11-25T08:40:30.225Z"
   },
   {
    "duration": 0,
    "start_time": "2023-11-25T08:40:30.226Z"
   },
   {
    "duration": 0,
    "start_time": "2023-11-25T08:40:30.227Z"
   },
   {
    "duration": 0,
    "start_time": "2023-11-25T08:40:30.229Z"
   },
   {
    "duration": 0,
    "start_time": "2023-11-25T08:40:30.230Z"
   },
   {
    "duration": 0,
    "start_time": "2023-11-25T08:40:30.231Z"
   },
   {
    "duration": 0,
    "start_time": "2023-11-25T08:40:30.232Z"
   },
   {
    "duration": 0,
    "start_time": "2023-11-25T08:40:30.234Z"
   },
   {
    "duration": 0,
    "start_time": "2023-11-25T08:40:30.235Z"
   },
   {
    "duration": 0,
    "start_time": "2023-11-25T08:40:30.237Z"
   },
   {
    "duration": 0,
    "start_time": "2023-11-25T08:40:30.238Z"
   },
   {
    "duration": 0,
    "start_time": "2023-11-25T08:40:30.239Z"
   },
   {
    "duration": 0,
    "start_time": "2023-11-25T08:40:30.240Z"
   },
   {
    "duration": 0,
    "start_time": "2023-11-25T08:40:30.241Z"
   },
   {
    "duration": 0,
    "start_time": "2023-11-25T08:40:30.242Z"
   },
   {
    "duration": 0,
    "start_time": "2023-11-25T08:40:30.243Z"
   },
   {
    "duration": 0,
    "start_time": "2023-11-25T08:40:30.244Z"
   },
   {
    "duration": 0,
    "start_time": "2023-11-25T08:40:30.245Z"
   },
   {
    "duration": 4,
    "start_time": "2023-11-25T08:44:27.782Z"
   },
   {
    "duration": 1067,
    "start_time": "2023-11-25T08:44:40.413Z"
   },
   {
    "duration": 3,
    "start_time": "2023-11-25T08:44:41.482Z"
   },
   {
    "duration": 92,
    "start_time": "2023-11-25T08:44:41.486Z"
   },
   {
    "duration": 11,
    "start_time": "2023-11-25T08:44:41.580Z"
   },
   {
    "duration": 17,
    "start_time": "2023-11-25T08:44:41.592Z"
   },
   {
    "duration": 31,
    "start_time": "2023-11-25T08:44:41.611Z"
   },
   {
    "duration": 32,
    "start_time": "2023-11-25T08:44:41.644Z"
   },
   {
    "duration": 21,
    "start_time": "2023-11-25T08:44:41.679Z"
   },
   {
    "duration": 81,
    "start_time": "2023-11-25T08:44:41.702Z"
   },
   {
    "duration": 11,
    "start_time": "2023-11-25T08:44:41.785Z"
   },
   {
    "duration": 11,
    "start_time": "2023-11-25T08:44:41.798Z"
   },
   {
    "duration": 22,
    "start_time": "2023-11-25T08:44:41.810Z"
   },
   {
    "duration": 12,
    "start_time": "2023-11-25T08:44:41.834Z"
   },
   {
    "duration": 19,
    "start_time": "2023-11-25T08:44:41.847Z"
   },
   {
    "duration": 31,
    "start_time": "2023-11-25T08:44:41.868Z"
   },
   {
    "duration": 17,
    "start_time": "2023-11-25T08:44:41.901Z"
   },
   {
    "duration": 12,
    "start_time": "2023-11-25T08:44:41.919Z"
   },
   {
    "duration": 149,
    "start_time": "2023-11-25T08:44:41.932Z"
   },
   {
    "duration": 4,
    "start_time": "2023-11-25T08:44:42.083Z"
   },
   {
    "duration": 15,
    "start_time": "2023-11-25T08:44:42.088Z"
   },
   {
    "duration": 20,
    "start_time": "2023-11-25T08:44:42.105Z"
   },
   {
    "duration": 17,
    "start_time": "2023-11-25T08:44:42.127Z"
   },
   {
    "duration": 29,
    "start_time": "2023-11-25T08:44:42.145Z"
   },
   {
    "duration": 3,
    "start_time": "2023-11-25T08:44:42.176Z"
   },
   {
    "duration": 11,
    "start_time": "2023-11-25T08:44:42.181Z"
   },
   {
    "duration": 5,
    "start_time": "2023-11-25T08:44:42.194Z"
   },
   {
    "duration": 17,
    "start_time": "2023-11-25T08:44:42.200Z"
   },
   {
    "duration": 32,
    "start_time": "2023-11-25T08:44:42.220Z"
   },
   {
    "duration": 38,
    "start_time": "2023-11-25T08:44:42.254Z"
   },
   {
    "duration": 12,
    "start_time": "2023-11-25T08:44:42.293Z"
   },
   {
    "duration": 10,
    "start_time": "2023-11-25T08:44:42.306Z"
   },
   {
    "duration": 4,
    "start_time": "2023-11-25T08:44:42.318Z"
   },
   {
    "duration": 6,
    "start_time": "2023-11-25T08:44:42.324Z"
   },
   {
    "duration": 283,
    "start_time": "2023-11-25T08:44:42.331Z"
   },
   {
    "duration": 291,
    "start_time": "2023-11-25T08:44:42.616Z"
   },
   {
    "duration": 223,
    "start_time": "2023-11-25T08:44:42.909Z"
   },
   {
    "duration": 325,
    "start_time": "2023-11-25T08:44:43.133Z"
   },
   {
    "duration": 268,
    "start_time": "2023-11-25T08:44:43.460Z"
   },
   {
    "duration": 340,
    "start_time": "2023-11-25T08:44:43.730Z"
   },
   {
    "duration": 161,
    "start_time": "2023-11-25T08:44:44.071Z"
   },
   {
    "duration": 5,
    "start_time": "2023-11-25T08:44:44.233Z"
   },
   {
    "duration": 180,
    "start_time": "2023-11-25T08:44:44.240Z"
   },
   {
    "duration": 4,
    "start_time": "2023-11-25T08:44:44.422Z"
   },
   {
    "duration": 227,
    "start_time": "2023-11-25T08:44:44.427Z"
   },
   {
    "duration": 159,
    "start_time": "2023-11-25T08:44:44.656Z"
   },
   {
    "duration": 9,
    "start_time": "2023-11-25T08:44:44.817Z"
   },
   {
    "duration": 18,
    "start_time": "2023-11-25T08:44:44.827Z"
   },
   {
    "duration": 8,
    "start_time": "2023-11-25T08:44:44.847Z"
   },
   {
    "duration": 29,
    "start_time": "2023-11-25T08:44:44.857Z"
   },
   {
    "duration": 30,
    "start_time": "2023-11-25T08:44:44.888Z"
   },
   {
    "duration": 9,
    "start_time": "2023-11-25T08:44:44.920Z"
   },
   {
    "duration": 32,
    "start_time": "2023-11-25T08:44:44.931Z"
   },
   {
    "duration": 13,
    "start_time": "2023-11-25T08:44:44.965Z"
   },
   {
    "duration": 1039,
    "start_time": "2023-11-25T09:09:28.630Z"
   },
   {
    "duration": 3,
    "start_time": "2023-11-25T09:09:29.671Z"
   },
   {
    "duration": 87,
    "start_time": "2023-11-25T09:09:29.676Z"
   },
   {
    "duration": 13,
    "start_time": "2023-11-25T09:09:29.764Z"
   },
   {
    "duration": 10,
    "start_time": "2023-11-25T09:09:29.780Z"
   },
   {
    "duration": 5,
    "start_time": "2023-11-25T09:09:29.792Z"
   },
   {
    "duration": 16,
    "start_time": "2023-11-25T09:09:29.799Z"
   },
   {
    "duration": 7,
    "start_time": "2023-11-25T09:09:29.817Z"
   },
   {
    "duration": 51,
    "start_time": "2023-11-25T09:09:29.826Z"
   },
   {
    "duration": 11,
    "start_time": "2023-11-25T09:09:29.878Z"
   },
   {
    "duration": 10,
    "start_time": "2023-11-25T09:09:29.890Z"
   },
   {
    "duration": 5,
    "start_time": "2023-11-25T09:09:29.901Z"
   },
   {
    "duration": 23,
    "start_time": "2023-11-25T09:09:29.908Z"
   },
   {
    "duration": 22,
    "start_time": "2023-11-25T09:09:29.934Z"
   },
   {
    "duration": 16,
    "start_time": "2023-11-25T09:09:29.957Z"
   },
   {
    "duration": 22,
    "start_time": "2023-11-25T09:09:29.975Z"
   },
   {
    "duration": 181,
    "start_time": "2023-11-25T09:09:29.999Z"
   },
   {
    "duration": 4,
    "start_time": "2023-11-25T09:09:30.182Z"
   },
   {
    "duration": 38,
    "start_time": "2023-11-25T09:09:30.187Z"
   },
   {
    "duration": 27,
    "start_time": "2023-11-25T09:09:30.227Z"
   },
   {
    "duration": 46,
    "start_time": "2023-11-25T09:09:30.256Z"
   },
   {
    "duration": 40,
    "start_time": "2023-11-25T09:09:30.303Z"
   },
   {
    "duration": 33,
    "start_time": "2023-11-25T09:09:30.345Z"
   },
   {
    "duration": 32,
    "start_time": "2023-11-25T09:09:30.379Z"
   },
   {
    "duration": 32,
    "start_time": "2023-11-25T09:09:30.413Z"
   },
   {
    "duration": 39,
    "start_time": "2023-11-25T09:09:30.447Z"
   },
   {
    "duration": 35,
    "start_time": "2023-11-25T09:09:30.488Z"
   },
   {
    "duration": 41,
    "start_time": "2023-11-25T09:09:30.525Z"
   },
   {
    "duration": 43,
    "start_time": "2023-11-25T09:09:30.568Z"
   },
   {
    "duration": 37,
    "start_time": "2023-11-25T09:09:30.613Z"
   },
   {
    "duration": 52,
    "start_time": "2023-11-25T09:09:30.652Z"
   },
   {
    "duration": 43,
    "start_time": "2023-11-25T09:09:30.705Z"
   },
   {
    "duration": 317,
    "start_time": "2023-11-25T09:09:30.750Z"
   },
   {
    "duration": 0,
    "start_time": "2023-11-25T09:09:31.069Z"
   },
   {
    "duration": 0,
    "start_time": "2023-11-25T09:09:31.070Z"
   },
   {
    "duration": 0,
    "start_time": "2023-11-25T09:09:31.071Z"
   },
   {
    "duration": 0,
    "start_time": "2023-11-25T09:09:31.073Z"
   },
   {
    "duration": 0,
    "start_time": "2023-11-25T09:09:31.074Z"
   },
   {
    "duration": 0,
    "start_time": "2023-11-25T09:09:31.076Z"
   },
   {
    "duration": 0,
    "start_time": "2023-11-25T09:09:31.077Z"
   },
   {
    "duration": 0,
    "start_time": "2023-11-25T09:09:31.078Z"
   },
   {
    "duration": 0,
    "start_time": "2023-11-25T09:09:31.080Z"
   },
   {
    "duration": 0,
    "start_time": "2023-11-25T09:09:31.081Z"
   },
   {
    "duration": 0,
    "start_time": "2023-11-25T09:09:31.082Z"
   },
   {
    "duration": 0,
    "start_time": "2023-11-25T09:09:31.083Z"
   },
   {
    "duration": 0,
    "start_time": "2023-11-25T09:09:31.084Z"
   },
   {
    "duration": 0,
    "start_time": "2023-11-25T09:09:31.085Z"
   },
   {
    "duration": 0,
    "start_time": "2023-11-25T09:09:31.086Z"
   },
   {
    "duration": 27,
    "start_time": "2023-11-25T09:09:31.087Z"
   },
   {
    "duration": 0,
    "start_time": "2023-11-25T09:09:31.115Z"
   },
   {
    "duration": 1,
    "start_time": "2023-11-25T09:09:31.116Z"
   },
   {
    "duration": 0,
    "start_time": "2023-11-25T09:09:31.118Z"
   },
   {
    "duration": 1060,
    "start_time": "2023-11-25T09:10:26.994Z"
   },
   {
    "duration": 3,
    "start_time": "2023-11-25T09:10:28.056Z"
   },
   {
    "duration": 82,
    "start_time": "2023-11-25T09:10:28.062Z"
   },
   {
    "duration": 14,
    "start_time": "2023-11-25T09:10:28.146Z"
   },
   {
    "duration": 13,
    "start_time": "2023-11-25T09:10:28.162Z"
   },
   {
    "duration": 6,
    "start_time": "2023-11-25T09:10:28.177Z"
   },
   {
    "duration": 13,
    "start_time": "2023-11-25T09:10:28.185Z"
   },
   {
    "duration": 9,
    "start_time": "2023-11-25T09:10:28.200Z"
   },
   {
    "duration": 54,
    "start_time": "2023-11-25T09:10:28.215Z"
   },
   {
    "duration": 12,
    "start_time": "2023-11-25T09:10:28.271Z"
   },
   {
    "duration": 11,
    "start_time": "2023-11-25T09:10:28.284Z"
   },
   {
    "duration": 10,
    "start_time": "2023-11-25T09:10:28.296Z"
   },
   {
    "duration": 14,
    "start_time": "2023-11-25T09:10:28.309Z"
   },
   {
    "duration": 6,
    "start_time": "2023-11-25T09:10:28.324Z"
   },
   {
    "duration": 6,
    "start_time": "2023-11-25T09:10:28.332Z"
   },
   {
    "duration": 5,
    "start_time": "2023-11-25T09:10:28.339Z"
   },
   {
    "duration": 163,
    "start_time": "2023-11-25T09:10:28.345Z"
   },
   {
    "duration": 8,
    "start_time": "2023-11-25T09:10:28.509Z"
   },
   {
    "duration": 11,
    "start_time": "2023-11-25T09:10:28.518Z"
   },
   {
    "duration": 4,
    "start_time": "2023-11-25T09:10:28.530Z"
   },
   {
    "duration": 14,
    "start_time": "2023-11-25T09:10:28.536Z"
   },
   {
    "duration": 27,
    "start_time": "2023-11-25T09:10:28.551Z"
   },
   {
    "duration": 4,
    "start_time": "2023-11-25T09:10:28.580Z"
   },
   {
    "duration": 34,
    "start_time": "2023-11-25T09:10:28.585Z"
   },
   {
    "duration": 10,
    "start_time": "2023-11-25T09:10:28.621Z"
   },
   {
    "duration": 13,
    "start_time": "2023-11-25T09:10:28.632Z"
   },
   {
    "duration": 10,
    "start_time": "2023-11-25T09:10:28.647Z"
   },
   {
    "duration": 10,
    "start_time": "2023-11-25T09:10:28.658Z"
   },
   {
    "duration": 23,
    "start_time": "2023-11-25T09:10:28.669Z"
   },
   {
    "duration": 12,
    "start_time": "2023-11-25T09:10:28.694Z"
   },
   {
    "duration": 4,
    "start_time": "2023-11-25T09:10:28.707Z"
   },
   {
    "duration": 6,
    "start_time": "2023-11-25T09:10:28.715Z"
   },
   {
    "duration": 297,
    "start_time": "2023-11-25T09:10:28.723Z"
   },
   {
    "duration": 308,
    "start_time": "2023-11-25T09:10:29.021Z"
   },
   {
    "duration": 235,
    "start_time": "2023-11-25T09:10:29.331Z"
   },
   {
    "duration": 315,
    "start_time": "2023-11-25T09:10:29.568Z"
   },
   {
    "duration": 268,
    "start_time": "2023-11-25T09:10:29.884Z"
   },
   {
    "duration": 311,
    "start_time": "2023-11-25T09:10:30.154Z"
   },
   {
    "duration": 168,
    "start_time": "2023-11-25T09:10:30.466Z"
   },
   {
    "duration": 4,
    "start_time": "2023-11-25T09:10:30.638Z"
   },
   {
    "duration": 186,
    "start_time": "2023-11-25T09:10:30.644Z"
   },
   {
    "duration": 5,
    "start_time": "2023-11-25T09:10:30.832Z"
   },
   {
    "duration": 238,
    "start_time": "2023-11-25T09:10:30.838Z"
   },
   {
    "duration": 156,
    "start_time": "2023-11-25T09:10:31.078Z"
   },
   {
    "duration": 9,
    "start_time": "2023-11-25T09:10:31.235Z"
   },
   {
    "duration": 65,
    "start_time": "2023-11-25T09:10:31.246Z"
   },
   {
    "duration": 60,
    "start_time": "2023-11-25T09:10:31.312Z"
   },
   {
    "duration": 52,
    "start_time": "2023-11-25T09:10:31.374Z"
   },
   {
    "duration": 14,
    "start_time": "2023-11-25T09:10:31.427Z"
   },
   {
    "duration": 44,
    "start_time": "2023-11-25T09:10:31.442Z"
   },
   {
    "duration": 53,
    "start_time": "2023-11-25T09:10:31.487Z"
   },
   {
    "duration": 30,
    "start_time": "2023-11-25T09:10:31.542Z"
   },
   {
    "duration": 381,
    "start_time": "2023-11-25T09:28:18.821Z"
   },
   {
    "duration": 220,
    "start_time": "2023-11-25T09:28:54.103Z"
   },
   {
    "duration": 214,
    "start_time": "2023-11-25T09:29:22.335Z"
   },
   {
    "duration": 256,
    "start_time": "2023-11-25T09:29:30.900Z"
   },
   {
    "duration": 225,
    "start_time": "2023-11-25T09:38:07.399Z"
   },
   {
    "duration": 1026,
    "start_time": "2023-11-25T09:38:39.977Z"
   },
   {
    "duration": 2,
    "start_time": "2023-11-25T09:38:41.005Z"
   },
   {
    "duration": 93,
    "start_time": "2023-11-25T09:38:41.009Z"
   },
   {
    "duration": 13,
    "start_time": "2023-11-25T09:38:41.104Z"
   },
   {
    "duration": 10,
    "start_time": "2023-11-25T09:38:41.118Z"
   },
   {
    "duration": 6,
    "start_time": "2023-11-25T09:38:41.130Z"
   },
   {
    "duration": 10,
    "start_time": "2023-11-25T09:38:41.137Z"
   },
   {
    "duration": 9,
    "start_time": "2023-11-25T09:38:41.148Z"
   },
   {
    "duration": 54,
    "start_time": "2023-11-25T09:38:41.158Z"
   },
   {
    "duration": 11,
    "start_time": "2023-11-25T09:38:41.214Z"
   },
   {
    "duration": 10,
    "start_time": "2023-11-25T09:38:41.226Z"
   },
   {
    "duration": 5,
    "start_time": "2023-11-25T09:38:41.238Z"
   },
   {
    "duration": 11,
    "start_time": "2023-11-25T09:38:41.245Z"
   },
   {
    "duration": 5,
    "start_time": "2023-11-25T09:38:41.258Z"
   },
   {
    "duration": 6,
    "start_time": "2023-11-25T09:38:41.265Z"
   },
   {
    "duration": 5,
    "start_time": "2023-11-25T09:38:41.272Z"
   },
   {
    "duration": 167,
    "start_time": "2023-11-25T09:38:41.278Z"
   },
   {
    "duration": 4,
    "start_time": "2023-11-25T09:38:41.446Z"
   },
   {
    "duration": 5,
    "start_time": "2023-11-25T09:38:41.451Z"
   },
   {
    "duration": 4,
    "start_time": "2023-11-25T09:38:41.457Z"
   },
   {
    "duration": 17,
    "start_time": "2023-11-25T09:38:41.463Z"
   },
   {
    "duration": 51,
    "start_time": "2023-11-25T09:38:41.481Z"
   },
   {
    "duration": 4,
    "start_time": "2023-11-25T09:38:41.533Z"
   },
   {
    "duration": 14,
    "start_time": "2023-11-25T09:38:41.538Z"
   },
   {
    "duration": 8,
    "start_time": "2023-11-25T09:38:41.553Z"
   },
   {
    "duration": 17,
    "start_time": "2023-11-25T09:38:41.562Z"
   },
   {
    "duration": 10,
    "start_time": "2023-11-25T09:38:41.581Z"
   },
   {
    "duration": 3,
    "start_time": "2023-11-25T09:38:41.615Z"
   },
   {
    "duration": 70,
    "start_time": "2023-11-25T09:38:41.620Z"
   },
   {
    "duration": 0,
    "start_time": "2023-11-25T09:38:41.691Z"
   },
   {
    "duration": 0,
    "start_time": "2023-11-25T09:38:41.693Z"
   },
   {
    "duration": 0,
    "start_time": "2023-11-25T09:38:41.695Z"
   },
   {
    "duration": 0,
    "start_time": "2023-11-25T09:38:41.696Z"
   },
   {
    "duration": 0,
    "start_time": "2023-11-25T09:38:41.698Z"
   },
   {
    "duration": 0,
    "start_time": "2023-11-25T09:38:41.699Z"
   },
   {
    "duration": 0,
    "start_time": "2023-11-25T09:38:41.700Z"
   },
   {
    "duration": 0,
    "start_time": "2023-11-25T09:38:41.702Z"
   },
   {
    "duration": 0,
    "start_time": "2023-11-25T09:38:41.703Z"
   },
   {
    "duration": 0,
    "start_time": "2023-11-25T09:38:41.704Z"
   },
   {
    "duration": 0,
    "start_time": "2023-11-25T09:38:41.706Z"
   },
   {
    "duration": 0,
    "start_time": "2023-11-25T09:38:41.707Z"
   },
   {
    "duration": 0,
    "start_time": "2023-11-25T09:38:41.709Z"
   },
   {
    "duration": 1,
    "start_time": "2023-11-25T09:38:41.710Z"
   },
   {
    "duration": 0,
    "start_time": "2023-11-25T09:38:41.712Z"
   },
   {
    "duration": 0,
    "start_time": "2023-11-25T09:38:41.714Z"
   },
   {
    "duration": 0,
    "start_time": "2023-11-25T09:38:41.715Z"
   },
   {
    "duration": 0,
    "start_time": "2023-11-25T09:38:41.716Z"
   },
   {
    "duration": 0,
    "start_time": "2023-11-25T09:38:41.718Z"
   },
   {
    "duration": 0,
    "start_time": "2023-11-25T09:38:41.719Z"
   },
   {
    "duration": 0,
    "start_time": "2023-11-25T09:38:41.720Z"
   },
   {
    "duration": 0,
    "start_time": "2023-11-25T09:38:41.721Z"
   },
   {
    "duration": 0,
    "start_time": "2023-11-25T09:38:41.722Z"
   },
   {
    "duration": 0,
    "start_time": "2023-11-25T09:38:41.724Z"
   },
   {
    "duration": 1096,
    "start_time": "2023-11-25T10:20:03.282Z"
   },
   {
    "duration": 2,
    "start_time": "2023-11-25T10:20:04.380Z"
   },
   {
    "duration": 91,
    "start_time": "2023-11-25T10:20:04.384Z"
   },
   {
    "duration": 11,
    "start_time": "2023-11-25T10:20:04.476Z"
   },
   {
    "duration": 10,
    "start_time": "2023-11-25T10:20:04.489Z"
   },
   {
    "duration": 22,
    "start_time": "2023-11-25T10:20:04.500Z"
   },
   {
    "duration": 15,
    "start_time": "2023-11-25T10:20:04.524Z"
   },
   {
    "duration": 9,
    "start_time": "2023-11-25T10:20:04.541Z"
   },
   {
    "duration": 62,
    "start_time": "2023-11-25T10:20:04.551Z"
   },
   {
    "duration": 14,
    "start_time": "2023-11-25T10:20:04.614Z"
   },
   {
    "duration": 24,
    "start_time": "2023-11-25T10:20:04.629Z"
   },
   {
    "duration": 10,
    "start_time": "2023-11-25T10:20:04.654Z"
   },
   {
    "duration": 13,
    "start_time": "2023-11-25T10:20:04.665Z"
   },
   {
    "duration": 7,
    "start_time": "2023-11-25T10:20:04.682Z"
   },
   {
    "duration": 7,
    "start_time": "2023-11-25T10:20:04.690Z"
   },
   {
    "duration": 36,
    "start_time": "2023-11-25T10:20:04.698Z"
   },
   {
    "duration": 142,
    "start_time": "2023-11-25T10:20:04.736Z"
   },
   {
    "duration": 4,
    "start_time": "2023-11-25T10:20:04.880Z"
   },
   {
    "duration": 14,
    "start_time": "2023-11-25T10:20:04.886Z"
   },
   {
    "duration": 56,
    "start_time": "2023-11-25T10:20:04.902Z"
   },
   {
    "duration": 22,
    "start_time": "2023-11-25T10:20:04.960Z"
   },
   {
    "duration": 30,
    "start_time": "2023-11-25T10:20:04.984Z"
   },
   {
    "duration": 22,
    "start_time": "2023-11-25T10:20:05.016Z"
   },
   {
    "duration": 28,
    "start_time": "2023-11-25T10:20:05.040Z"
   },
   {
    "duration": 13,
    "start_time": "2023-11-25T10:20:05.070Z"
   },
   {
    "duration": 15,
    "start_time": "2023-11-25T10:20:05.084Z"
   },
   {
    "duration": 29,
    "start_time": "2023-11-25T10:20:05.100Z"
   },
   {
    "duration": 7,
    "start_time": "2023-11-25T10:20:05.130Z"
   },
   {
    "duration": 7,
    "start_time": "2023-11-25T10:20:05.139Z"
   },
   {
    "duration": 8,
    "start_time": "2023-11-25T10:20:05.147Z"
   },
   {
    "duration": 14,
    "start_time": "2023-11-25T10:20:05.156Z"
   },
   {
    "duration": 14,
    "start_time": "2023-11-25T10:20:05.171Z"
   },
   {
    "duration": 298,
    "start_time": "2023-11-25T10:20:05.187Z"
   },
   {
    "duration": 307,
    "start_time": "2023-11-25T10:20:05.487Z"
   },
   {
    "duration": 230,
    "start_time": "2023-11-25T10:20:05.796Z"
   },
   {
    "duration": 348,
    "start_time": "2023-11-25T10:20:06.028Z"
   },
   {
    "duration": 274,
    "start_time": "2023-11-25T10:20:06.378Z"
   },
   {
    "duration": 313,
    "start_time": "2023-11-25T10:20:06.654Z"
   },
   {
    "duration": 165,
    "start_time": "2023-11-25T10:20:06.968Z"
   },
   {
    "duration": 5,
    "start_time": "2023-11-25T10:20:07.135Z"
   },
   {
    "duration": 189,
    "start_time": "2023-11-25T10:20:07.143Z"
   },
   {
    "duration": 5,
    "start_time": "2023-11-25T10:20:07.334Z"
   },
   {
    "duration": 253,
    "start_time": "2023-11-25T10:20:07.341Z"
   },
   {
    "duration": 163,
    "start_time": "2023-11-25T10:20:07.596Z"
   },
   {
    "duration": 10,
    "start_time": "2023-11-25T10:20:07.760Z"
   },
   {
    "duration": 58,
    "start_time": "2023-11-25T10:20:07.771Z"
   },
   {
    "duration": 31,
    "start_time": "2023-11-25T10:20:07.830Z"
   },
   {
    "duration": 46,
    "start_time": "2023-11-25T10:20:07.862Z"
   },
   {
    "duration": 37,
    "start_time": "2023-11-25T10:20:07.909Z"
   },
   {
    "duration": 26,
    "start_time": "2023-11-25T10:20:07.948Z"
   },
   {
    "duration": 33,
    "start_time": "2023-11-25T10:20:07.976Z"
   },
   {
    "duration": 12,
    "start_time": "2023-11-25T10:20:08.011Z"
   },
   {
    "duration": 417,
    "start_time": "2023-11-25T10:36:34.812Z"
   },
   {
    "duration": 149,
    "start_time": "2023-11-25T10:46:23.273Z"
   },
   {
    "duration": 144,
    "start_time": "2023-11-25T10:46:31.037Z"
   },
   {
    "duration": 143,
    "start_time": "2023-11-25T10:49:40.429Z"
   },
   {
    "duration": 149,
    "start_time": "2023-11-25T10:49:57.217Z"
   },
   {
    "duration": 11,
    "start_time": "2023-11-25T10:52:12.975Z"
   },
   {
    "duration": 1074,
    "start_time": "2023-11-25T10:56:59.004Z"
   },
   {
    "duration": 3,
    "start_time": "2023-11-25T10:57:00.080Z"
   },
   {
    "duration": 100,
    "start_time": "2023-11-25T10:57:00.084Z"
   },
   {
    "duration": 11,
    "start_time": "2023-11-25T10:57:00.186Z"
   },
   {
    "duration": 23,
    "start_time": "2023-11-25T10:57:00.199Z"
   },
   {
    "duration": 25,
    "start_time": "2023-11-25T10:57:00.224Z"
   },
   {
    "duration": 23,
    "start_time": "2023-11-25T10:57:00.251Z"
   },
   {
    "duration": 34,
    "start_time": "2023-11-25T10:57:00.276Z"
   },
   {
    "duration": 97,
    "start_time": "2023-11-25T10:57:00.312Z"
   },
   {
    "duration": 13,
    "start_time": "2023-11-25T10:57:00.411Z"
   },
   {
    "duration": 45,
    "start_time": "2023-11-25T10:57:00.425Z"
   },
   {
    "duration": 25,
    "start_time": "2023-11-25T10:57:00.471Z"
   },
   {
    "duration": 34,
    "start_time": "2023-11-25T10:57:00.498Z"
   },
   {
    "duration": 25,
    "start_time": "2023-11-25T10:57:00.535Z"
   },
   {
    "duration": 23,
    "start_time": "2023-11-25T10:57:00.561Z"
   },
   {
    "duration": 20,
    "start_time": "2023-11-25T10:57:00.586Z"
   },
   {
    "duration": 174,
    "start_time": "2023-11-25T10:57:00.608Z"
   },
   {
    "duration": 4,
    "start_time": "2023-11-25T10:57:00.784Z"
   },
   {
    "duration": 28,
    "start_time": "2023-11-25T10:57:00.789Z"
   },
   {
    "duration": 21,
    "start_time": "2023-11-25T10:57:00.818Z"
   },
   {
    "duration": 18,
    "start_time": "2023-11-25T10:57:00.841Z"
   },
   {
    "duration": 39,
    "start_time": "2023-11-25T10:57:00.861Z"
   },
   {
    "duration": 23,
    "start_time": "2023-11-25T10:57:00.901Z"
   },
   {
    "duration": 34,
    "start_time": "2023-11-25T10:57:00.926Z"
   },
   {
    "duration": 47,
    "start_time": "2023-11-25T10:57:00.962Z"
   },
   {
    "duration": 30,
    "start_time": "2023-11-25T10:57:01.012Z"
   },
   {
    "duration": 48,
    "start_time": "2023-11-25T10:57:01.045Z"
   },
   {
    "duration": 30,
    "start_time": "2023-11-25T10:57:01.094Z"
   },
   {
    "duration": 34,
    "start_time": "2023-11-25T10:57:01.126Z"
   },
   {
    "duration": 24,
    "start_time": "2023-11-25T10:57:01.161Z"
   },
   {
    "duration": 35,
    "start_time": "2023-11-25T10:57:01.187Z"
   },
   {
    "duration": 39,
    "start_time": "2023-11-25T10:57:01.224Z"
   },
   {
    "duration": 286,
    "start_time": "2023-11-25T10:57:01.265Z"
   },
   {
    "duration": 312,
    "start_time": "2023-11-25T10:57:01.553Z"
   },
   {
    "duration": 235,
    "start_time": "2023-11-25T10:57:01.867Z"
   },
   {
    "duration": 353,
    "start_time": "2023-11-25T10:57:02.104Z"
   },
   {
    "duration": 286,
    "start_time": "2023-11-25T10:57:02.458Z"
   },
   {
    "duration": 324,
    "start_time": "2023-11-25T10:57:02.746Z"
   },
   {
    "duration": 181,
    "start_time": "2023-11-25T10:57:03.072Z"
   },
   {
    "duration": 6,
    "start_time": "2023-11-25T10:57:03.255Z"
   },
   {
    "duration": 185,
    "start_time": "2023-11-25T10:57:03.266Z"
   },
   {
    "duration": 6,
    "start_time": "2023-11-25T10:57:03.452Z"
   },
   {
    "duration": 231,
    "start_time": "2023-11-25T10:57:03.459Z"
   },
   {
    "duration": 170,
    "start_time": "2023-11-25T10:57:03.691Z"
   },
   {
    "duration": 10,
    "start_time": "2023-11-25T10:57:03.862Z"
   },
   {
    "duration": 18,
    "start_time": "2023-11-25T10:57:03.873Z"
   },
   {
    "duration": 19,
    "start_time": "2023-11-25T10:57:03.893Z"
   },
   {
    "duration": 27,
    "start_time": "2023-11-25T10:57:03.915Z"
   },
   {
    "duration": 13,
    "start_time": "2023-11-25T10:57:03.944Z"
   },
   {
    "duration": 10,
    "start_time": "2023-11-25T10:57:03.959Z"
   },
   {
    "duration": 49,
    "start_time": "2023-11-25T10:57:03.971Z"
   },
   {
    "duration": 20,
    "start_time": "2023-11-25T10:57:04.022Z"
   },
   {
    "duration": 1059,
    "start_time": "2023-11-25T11:00:35.575Z"
   },
   {
    "duration": 3,
    "start_time": "2023-11-25T11:00:36.636Z"
   },
   {
    "duration": 78,
    "start_time": "2023-11-25T11:00:36.642Z"
   },
   {
    "duration": 12,
    "start_time": "2023-11-25T11:00:36.722Z"
   },
   {
    "duration": 13,
    "start_time": "2023-11-25T11:00:36.735Z"
   },
   {
    "duration": 7,
    "start_time": "2023-11-25T11:00:36.749Z"
   },
   {
    "duration": 13,
    "start_time": "2023-11-25T11:00:36.757Z"
   },
   {
    "duration": 8,
    "start_time": "2023-11-25T11:00:36.772Z"
   },
   {
    "duration": 59,
    "start_time": "2023-11-25T11:00:36.781Z"
   },
   {
    "duration": 12,
    "start_time": "2023-11-25T11:00:36.842Z"
   },
   {
    "duration": 12,
    "start_time": "2023-11-25T11:00:36.856Z"
   },
   {
    "duration": 25,
    "start_time": "2023-11-25T11:00:36.869Z"
   },
   {
    "duration": 12,
    "start_time": "2023-11-25T11:00:36.897Z"
   },
   {
    "duration": 14,
    "start_time": "2023-11-25T11:00:36.910Z"
   },
   {
    "duration": 11,
    "start_time": "2023-11-25T11:00:36.925Z"
   },
   {
    "duration": 4,
    "start_time": "2023-11-25T11:00:36.938Z"
   },
   {
    "duration": 146,
    "start_time": "2023-11-25T11:00:36.944Z"
   },
   {
    "duration": 4,
    "start_time": "2023-11-25T11:00:37.092Z"
   },
   {
    "duration": 18,
    "start_time": "2023-11-25T11:00:37.098Z"
   },
   {
    "duration": 7,
    "start_time": "2023-11-25T11:00:37.118Z"
   },
   {
    "duration": 19,
    "start_time": "2023-11-25T11:00:37.127Z"
   },
   {
    "duration": 37,
    "start_time": "2023-11-25T11:00:37.148Z"
   },
   {
    "duration": 5,
    "start_time": "2023-11-25T11:00:37.186Z"
   },
   {
    "duration": 7,
    "start_time": "2023-11-25T11:00:37.216Z"
   },
   {
    "duration": 11,
    "start_time": "2023-11-25T11:00:37.225Z"
   },
   {
    "duration": 14,
    "start_time": "2023-11-25T11:00:37.238Z"
   },
   {
    "duration": 17,
    "start_time": "2023-11-25T11:00:37.253Z"
   },
   {
    "duration": 5,
    "start_time": "2023-11-25T11:00:37.272Z"
   },
   {
    "duration": 8,
    "start_time": "2023-11-25T11:00:37.279Z"
   },
   {
    "duration": 28,
    "start_time": "2023-11-25T11:00:37.288Z"
   },
   {
    "duration": 6,
    "start_time": "2023-11-25T11:00:37.318Z"
   },
   {
    "duration": 10,
    "start_time": "2023-11-25T11:00:37.325Z"
   },
   {
    "duration": 302,
    "start_time": "2023-11-25T11:00:37.336Z"
   },
   {
    "duration": 304,
    "start_time": "2023-11-25T11:00:37.640Z"
   },
   {
    "duration": 227,
    "start_time": "2023-11-25T11:00:37.946Z"
   },
   {
    "duration": 349,
    "start_time": "2023-11-25T11:00:38.175Z"
   },
   {
    "duration": 300,
    "start_time": "2023-11-25T11:00:38.525Z"
   },
   {
    "duration": 360,
    "start_time": "2023-11-25T11:00:38.827Z"
   },
   {
    "duration": 170,
    "start_time": "2023-11-25T11:00:39.189Z"
   },
   {
    "duration": 6,
    "start_time": "2023-11-25T11:00:39.363Z"
   },
   {
    "duration": 188,
    "start_time": "2023-11-25T11:00:39.370Z"
   },
   {
    "duration": 5,
    "start_time": "2023-11-25T11:00:39.560Z"
   },
   {
    "duration": 238,
    "start_time": "2023-11-25T11:00:39.566Z"
   },
   {
    "duration": 165,
    "start_time": "2023-11-25T11:00:39.806Z"
   },
   {
    "duration": 11,
    "start_time": "2023-11-25T11:00:39.972Z"
   },
   {
    "duration": 19,
    "start_time": "2023-11-25T11:00:39.984Z"
   },
   {
    "duration": 27,
    "start_time": "2023-11-25T11:00:40.005Z"
   },
   {
    "duration": 40,
    "start_time": "2023-11-25T11:00:40.034Z"
   },
   {
    "duration": 14,
    "start_time": "2023-11-25T11:00:40.076Z"
   },
   {
    "duration": 8,
    "start_time": "2023-11-25T11:00:40.091Z"
   },
   {
    "duration": 31,
    "start_time": "2023-11-25T11:00:40.100Z"
   },
   {
    "duration": 13,
    "start_time": "2023-11-25T11:00:40.132Z"
   },
   {
    "duration": 1105,
    "start_time": "2023-11-25T11:20:42.579Z"
   },
   {
    "duration": 2,
    "start_time": "2023-11-25T11:20:43.686Z"
   },
   {
    "duration": 84,
    "start_time": "2023-11-25T11:20:43.690Z"
   },
   {
    "duration": 10,
    "start_time": "2023-11-25T11:20:43.776Z"
   },
   {
    "duration": 10,
    "start_time": "2023-11-25T11:20:43.788Z"
   },
   {
    "duration": 11,
    "start_time": "2023-11-25T11:20:43.800Z"
   },
   {
    "duration": 11,
    "start_time": "2023-11-25T11:20:43.813Z"
   },
   {
    "duration": 8,
    "start_time": "2023-11-25T11:20:43.825Z"
   },
   {
    "duration": 54,
    "start_time": "2023-11-25T11:20:43.834Z"
   },
   {
    "duration": 11,
    "start_time": "2023-11-25T11:20:43.891Z"
   },
   {
    "duration": 20,
    "start_time": "2023-11-25T11:20:43.903Z"
   },
   {
    "duration": 29,
    "start_time": "2023-11-25T11:20:43.924Z"
   },
   {
    "duration": 30,
    "start_time": "2023-11-25T11:20:43.954Z"
   },
   {
    "duration": 14,
    "start_time": "2023-11-25T11:20:43.986Z"
   },
   {
    "duration": 6,
    "start_time": "2023-11-25T11:20:44.001Z"
   },
   {
    "duration": 6,
    "start_time": "2023-11-25T11:20:44.014Z"
   },
   {
    "duration": 147,
    "start_time": "2023-11-25T11:20:44.022Z"
   },
   {
    "duration": 4,
    "start_time": "2023-11-25T11:20:44.170Z"
   },
   {
    "duration": 4,
    "start_time": "2023-11-25T11:20:44.176Z"
   },
   {
    "duration": 11,
    "start_time": "2023-11-25T11:20:44.181Z"
   },
   {
    "duration": 23,
    "start_time": "2023-11-25T11:20:44.193Z"
   },
   {
    "duration": 24,
    "start_time": "2023-11-25T11:20:44.218Z"
   },
   {
    "duration": 4,
    "start_time": "2023-11-25T11:20:44.243Z"
   },
   {
    "duration": 7,
    "start_time": "2023-11-25T11:20:44.249Z"
   },
   {
    "duration": 6,
    "start_time": "2023-11-25T11:20:44.258Z"
   },
   {
    "duration": 12,
    "start_time": "2023-11-25T11:20:44.265Z"
   },
   {
    "duration": 42,
    "start_time": "2023-11-25T11:20:44.278Z"
   },
   {
    "duration": 4,
    "start_time": "2023-11-25T11:20:44.323Z"
   },
   {
    "duration": 9,
    "start_time": "2023-11-25T11:20:44.328Z"
   },
   {
    "duration": 5,
    "start_time": "2023-11-25T11:20:44.338Z"
   },
   {
    "duration": 7,
    "start_time": "2023-11-25T11:20:44.344Z"
   },
   {
    "duration": 6,
    "start_time": "2023-11-25T11:20:44.352Z"
   },
   {
    "duration": 280,
    "start_time": "2023-11-25T11:20:44.359Z"
   },
   {
    "duration": 291,
    "start_time": "2023-11-25T11:20:44.640Z"
   },
   {
    "duration": 240,
    "start_time": "2023-11-25T11:20:44.932Z"
   },
   {
    "duration": 309,
    "start_time": "2023-11-25T11:20:45.174Z"
   },
   {
    "duration": 255,
    "start_time": "2023-11-25T11:20:45.485Z"
   },
   {
    "duration": 314,
    "start_time": "2023-11-25T11:20:45.742Z"
   },
   {
    "duration": 158,
    "start_time": "2023-11-25T11:20:46.057Z"
   },
   {
    "duration": 5,
    "start_time": "2023-11-25T11:20:46.216Z"
   },
   {
    "duration": 184,
    "start_time": "2023-11-25T11:20:46.222Z"
   },
   {
    "duration": 5,
    "start_time": "2023-11-25T11:20:46.414Z"
   },
   {
    "duration": 224,
    "start_time": "2023-11-25T11:20:46.420Z"
   },
   {
    "duration": 210,
    "start_time": "2023-11-25T11:20:46.646Z"
   },
   {
    "duration": 10,
    "start_time": "2023-11-25T11:20:46.857Z"
   },
   {
    "duration": 23,
    "start_time": "2023-11-25T11:20:46.868Z"
   },
   {
    "duration": 8,
    "start_time": "2023-11-25T11:20:46.893Z"
   },
   {
    "duration": 30,
    "start_time": "2023-11-25T11:20:46.902Z"
   },
   {
    "duration": 24,
    "start_time": "2023-11-25T11:20:46.933Z"
   },
   {
    "duration": 30,
    "start_time": "2023-11-25T11:20:46.959Z"
   },
   {
    "duration": 53,
    "start_time": "2023-11-25T11:20:46.990Z"
   },
   {
    "duration": 26,
    "start_time": "2023-11-25T11:20:47.044Z"
   },
   {
    "duration": 1008,
    "start_time": "2023-11-25T12:05:33.266Z"
   },
   {
    "duration": 2,
    "start_time": "2023-11-25T12:05:34.276Z"
   },
   {
    "duration": 82,
    "start_time": "2023-11-25T12:05:34.280Z"
   },
   {
    "duration": 11,
    "start_time": "2023-11-25T12:05:34.364Z"
   },
   {
    "duration": 10,
    "start_time": "2023-11-25T12:05:34.376Z"
   },
   {
    "duration": 12,
    "start_time": "2023-11-25T12:05:34.388Z"
   },
   {
    "duration": 9,
    "start_time": "2023-11-25T12:05:34.402Z"
   },
   {
    "duration": 7,
    "start_time": "2023-11-25T12:05:34.413Z"
   },
   {
    "duration": 52,
    "start_time": "2023-11-25T12:05:34.422Z"
   },
   {
    "duration": 12,
    "start_time": "2023-11-25T12:05:34.476Z"
   },
   {
    "duration": 14,
    "start_time": "2023-11-25T12:05:34.489Z"
   },
   {
    "duration": 10,
    "start_time": "2023-11-25T12:05:34.504Z"
   },
   {
    "duration": 10,
    "start_time": "2023-11-25T12:05:34.516Z"
   },
   {
    "duration": 5,
    "start_time": "2023-11-25T12:05:34.527Z"
   },
   {
    "duration": 4,
    "start_time": "2023-11-25T12:05:34.534Z"
   },
   {
    "duration": 3,
    "start_time": "2023-11-25T12:05:34.540Z"
   },
   {
    "duration": 159,
    "start_time": "2023-11-25T12:05:34.545Z"
   },
   {
    "duration": 4,
    "start_time": "2023-11-25T12:05:34.706Z"
   },
   {
    "duration": 15,
    "start_time": "2023-11-25T12:05:34.711Z"
   },
   {
    "duration": 6,
    "start_time": "2023-11-25T12:05:34.727Z"
   },
   {
    "duration": 19,
    "start_time": "2023-11-25T12:05:34.735Z"
   },
   {
    "duration": 42,
    "start_time": "2023-11-25T12:05:34.756Z"
   },
   {
    "duration": 3,
    "start_time": "2023-11-25T12:05:34.800Z"
   },
   {
    "duration": 12,
    "start_time": "2023-11-25T12:05:34.805Z"
   },
   {
    "duration": 9,
    "start_time": "2023-11-25T12:05:34.818Z"
   },
   {
    "duration": 10,
    "start_time": "2023-11-25T12:05:34.828Z"
   },
   {
    "duration": 22,
    "start_time": "2023-11-25T12:05:34.840Z"
   },
   {
    "duration": 7,
    "start_time": "2023-11-25T12:05:34.865Z"
   },
   {
    "duration": 8,
    "start_time": "2023-11-25T12:05:34.873Z"
   },
   {
    "duration": 10,
    "start_time": "2023-11-25T12:05:34.882Z"
   },
   {
    "duration": 29,
    "start_time": "2023-11-25T12:05:34.894Z"
   },
   {
    "duration": 22,
    "start_time": "2023-11-25T12:05:34.926Z"
   },
   {
    "duration": 285,
    "start_time": "2023-11-25T12:05:34.949Z"
   },
   {
    "duration": 294,
    "start_time": "2023-11-25T12:05:35.236Z"
   },
   {
    "duration": 225,
    "start_time": "2023-11-25T12:05:35.531Z"
   },
   {
    "duration": 321,
    "start_time": "2023-11-25T12:05:35.758Z"
   },
   {
    "duration": 272,
    "start_time": "2023-11-25T12:05:36.080Z"
   },
   {
    "duration": 325,
    "start_time": "2023-11-25T12:05:36.354Z"
   },
   {
    "duration": 163,
    "start_time": "2023-11-25T12:05:36.681Z"
   },
   {
    "duration": 5,
    "start_time": "2023-11-25T12:05:36.846Z"
   },
   {
    "duration": 177,
    "start_time": "2023-11-25T12:05:36.852Z"
   },
   {
    "duration": 5,
    "start_time": "2023-11-25T12:05:37.030Z"
   },
   {
    "duration": 222,
    "start_time": "2023-11-25T12:05:37.036Z"
   },
   {
    "duration": 169,
    "start_time": "2023-11-25T12:05:37.260Z"
   },
   {
    "duration": 9,
    "start_time": "2023-11-25T12:05:37.431Z"
   },
   {
    "duration": 9,
    "start_time": "2023-11-25T12:05:37.441Z"
   },
   {
    "duration": 7,
    "start_time": "2023-11-25T12:05:37.451Z"
   },
   {
    "duration": 28,
    "start_time": "2023-11-25T12:05:37.459Z"
   },
   {
    "duration": 35,
    "start_time": "2023-11-25T12:05:37.489Z"
   },
   {
    "duration": 6,
    "start_time": "2023-11-25T12:05:37.526Z"
   },
   {
    "duration": 28,
    "start_time": "2023-11-25T12:05:37.533Z"
   },
   {
    "duration": 12,
    "start_time": "2023-11-25T12:05:37.562Z"
   },
   {
    "duration": 1030,
    "start_time": "2023-11-25T12:09:10.829Z"
   },
   {
    "duration": 3,
    "start_time": "2023-11-25T12:09:11.860Z"
   },
   {
    "duration": 85,
    "start_time": "2023-11-25T12:09:11.864Z"
   },
   {
    "duration": 10,
    "start_time": "2023-11-25T12:09:11.951Z"
   },
   {
    "duration": 26,
    "start_time": "2023-11-25T12:09:11.962Z"
   },
   {
    "duration": 6,
    "start_time": "2023-11-25T12:09:11.990Z"
   },
   {
    "duration": 12,
    "start_time": "2023-11-25T12:09:11.998Z"
   },
   {
    "duration": 8,
    "start_time": "2023-11-25T12:09:12.011Z"
   },
   {
    "duration": 63,
    "start_time": "2023-11-25T12:09:12.020Z"
   },
   {
    "duration": 13,
    "start_time": "2023-11-25T12:09:12.085Z"
   },
   {
    "duration": 28,
    "start_time": "2023-11-25T12:09:12.100Z"
   },
   {
    "duration": 6,
    "start_time": "2023-11-25T12:09:12.130Z"
   },
   {
    "duration": 10,
    "start_time": "2023-11-25T12:09:12.138Z"
   },
   {
    "duration": 9,
    "start_time": "2023-11-25T12:09:12.150Z"
   },
   {
    "duration": 20,
    "start_time": "2023-11-25T12:09:12.160Z"
   },
   {
    "duration": 5,
    "start_time": "2023-11-25T12:09:12.182Z"
   },
   {
    "duration": 146,
    "start_time": "2023-11-25T12:09:12.189Z"
   },
   {
    "duration": 5,
    "start_time": "2023-11-25T12:09:12.337Z"
   },
   {
    "duration": 5,
    "start_time": "2023-11-25T12:09:12.344Z"
   },
   {
    "duration": 5,
    "start_time": "2023-11-25T12:09:12.351Z"
   },
   {
    "duration": 28,
    "start_time": "2023-11-25T12:09:12.357Z"
   },
   {
    "duration": 36,
    "start_time": "2023-11-25T12:09:12.387Z"
   },
   {
    "duration": 3,
    "start_time": "2023-11-25T12:09:12.425Z"
   },
   {
    "duration": 24,
    "start_time": "2023-11-25T12:09:12.429Z"
   },
   {
    "duration": 10,
    "start_time": "2023-11-25T12:09:12.455Z"
   },
   {
    "duration": 19,
    "start_time": "2023-11-25T12:09:12.467Z"
   },
   {
    "duration": 18,
    "start_time": "2023-11-25T12:09:12.488Z"
   },
   {
    "duration": 3,
    "start_time": "2023-11-25T12:09:12.511Z"
   },
   {
    "duration": 9,
    "start_time": "2023-11-25T12:09:12.516Z"
   },
   {
    "duration": 6,
    "start_time": "2023-11-25T12:09:12.526Z"
   },
   {
    "duration": 4,
    "start_time": "2023-11-25T12:09:12.534Z"
   },
   {
    "duration": 7,
    "start_time": "2023-11-25T12:09:12.540Z"
   },
   {
    "duration": 306,
    "start_time": "2023-11-25T12:09:12.549Z"
   },
   {
    "duration": 307,
    "start_time": "2023-11-25T12:09:12.857Z"
   },
   {
    "duration": 226,
    "start_time": "2023-11-25T12:09:13.166Z"
   },
   {
    "duration": 358,
    "start_time": "2023-11-25T12:09:13.393Z"
   },
   {
    "duration": 271,
    "start_time": "2023-11-25T12:09:13.753Z"
   },
   {
    "duration": 332,
    "start_time": "2023-11-25T12:09:14.026Z"
   },
   {
    "duration": 161,
    "start_time": "2023-11-25T12:09:14.360Z"
   },
   {
    "duration": 4,
    "start_time": "2023-11-25T12:09:14.523Z"
   },
   {
    "duration": 179,
    "start_time": "2023-11-25T12:09:14.529Z"
   },
   {
    "duration": 4,
    "start_time": "2023-11-25T12:09:14.714Z"
   },
   {
    "duration": 222,
    "start_time": "2023-11-25T12:09:14.720Z"
   },
   {
    "duration": 185,
    "start_time": "2023-11-25T12:09:14.943Z"
   },
   {
    "duration": 10,
    "start_time": "2023-11-25T12:09:15.130Z"
   },
   {
    "duration": 23,
    "start_time": "2023-11-25T12:09:15.142Z"
   },
   {
    "duration": 17,
    "start_time": "2023-11-25T12:09:15.166Z"
   },
   {
    "duration": 31,
    "start_time": "2023-11-25T12:09:15.184Z"
   },
   {
    "duration": 13,
    "start_time": "2023-11-25T12:09:15.217Z"
   },
   {
    "duration": 9,
    "start_time": "2023-11-25T12:09:15.233Z"
   },
   {
    "duration": 39,
    "start_time": "2023-11-25T12:09:15.243Z"
   },
   {
    "duration": 32,
    "start_time": "2023-11-25T12:09:15.284Z"
   },
   {
    "duration": 6,
    "start_time": "2023-11-25T12:27:24.997Z"
   },
   {
    "duration": 235,
    "start_time": "2023-11-25T12:29:16.072Z"
   },
   {
    "duration": 153,
    "start_time": "2023-11-25T12:30:07.850Z"
   },
   {
    "duration": 144,
    "start_time": "2023-11-25T12:30:25.169Z"
   },
   {
    "duration": 11,
    "start_time": "2023-11-25T12:32:59.058Z"
   },
   {
    "duration": 34,
    "start_time": "2023-11-25T12:34:18.977Z"
   },
   {
    "duration": 1023,
    "start_time": "2023-11-25T12:34:49.877Z"
   },
   {
    "duration": 2,
    "start_time": "2023-11-25T12:34:50.902Z"
   },
   {
    "duration": 94,
    "start_time": "2023-11-25T12:34:50.906Z"
   },
   {
    "duration": 11,
    "start_time": "2023-11-25T12:34:51.002Z"
   },
   {
    "duration": 31,
    "start_time": "2023-11-25T12:34:51.014Z"
   },
   {
    "duration": 13,
    "start_time": "2023-11-25T12:34:51.047Z"
   },
   {
    "duration": 27,
    "start_time": "2023-11-25T12:34:51.062Z"
   },
   {
    "duration": 28,
    "start_time": "2023-11-25T12:34:51.090Z"
   },
   {
    "duration": 57,
    "start_time": "2023-11-25T12:34:51.119Z"
   },
   {
    "duration": 12,
    "start_time": "2023-11-25T12:34:51.179Z"
   },
   {
    "duration": 25,
    "start_time": "2023-11-25T12:34:51.192Z"
   },
   {
    "duration": 8,
    "start_time": "2023-11-25T12:34:51.218Z"
   },
   {
    "duration": 25,
    "start_time": "2023-11-25T12:34:51.227Z"
   },
   {
    "duration": 8,
    "start_time": "2023-11-25T12:34:51.253Z"
   },
   {
    "duration": 17,
    "start_time": "2023-11-25T12:34:51.262Z"
   },
   {
    "duration": 22,
    "start_time": "2023-11-25T12:34:51.281Z"
   },
   {
    "duration": 163,
    "start_time": "2023-11-25T12:34:51.305Z"
   },
   {
    "duration": 4,
    "start_time": "2023-11-25T12:34:51.469Z"
   },
   {
    "duration": 10,
    "start_time": "2023-11-25T12:34:51.474Z"
   },
   {
    "duration": 7,
    "start_time": "2023-11-25T12:34:51.486Z"
   },
   {
    "duration": 40,
    "start_time": "2023-11-25T12:34:51.495Z"
   },
   {
    "duration": 36,
    "start_time": "2023-11-25T12:34:51.537Z"
   },
   {
    "duration": 4,
    "start_time": "2023-11-25T12:34:51.574Z"
   },
   {
    "duration": 10,
    "start_time": "2023-11-25T12:34:51.579Z"
   },
   {
    "duration": 9,
    "start_time": "2023-11-25T12:34:51.590Z"
   },
   {
    "duration": 17,
    "start_time": "2023-11-25T12:34:51.600Z"
   },
   {
    "duration": 19,
    "start_time": "2023-11-25T12:34:51.619Z"
   },
   {
    "duration": 24,
    "start_time": "2023-11-25T12:34:51.643Z"
   },
   {
    "duration": 18,
    "start_time": "2023-11-25T12:34:51.669Z"
   },
   {
    "duration": 17,
    "start_time": "2023-11-25T12:34:51.689Z"
   },
   {
    "duration": 28,
    "start_time": "2023-11-25T12:34:51.707Z"
   },
   {
    "duration": 24,
    "start_time": "2023-11-25T12:34:51.736Z"
   },
   {
    "duration": 272,
    "start_time": "2023-11-25T12:34:51.762Z"
   },
   {
    "duration": 293,
    "start_time": "2023-11-25T12:34:52.035Z"
   },
   {
    "duration": 221,
    "start_time": "2023-11-25T12:34:52.330Z"
   },
   {
    "duration": 307,
    "start_time": "2023-11-25T12:34:52.553Z"
   },
   {
    "duration": 262,
    "start_time": "2023-11-25T12:34:52.862Z"
   },
   {
    "duration": 324,
    "start_time": "2023-11-25T12:34:53.126Z"
   },
   {
    "duration": 156,
    "start_time": "2023-11-25T12:34:53.451Z"
   },
   {
    "duration": 9,
    "start_time": "2023-11-25T12:34:53.608Z"
   },
   {
    "duration": 179,
    "start_time": "2023-11-25T12:34:53.618Z"
   },
   {
    "duration": 4,
    "start_time": "2023-11-25T12:34:53.799Z"
   },
   {
    "duration": 221,
    "start_time": "2023-11-25T12:34:53.815Z"
   },
   {
    "duration": 148,
    "start_time": "2023-11-25T12:34:54.037Z"
   },
   {
    "duration": 10,
    "start_time": "2023-11-25T12:34:54.186Z"
   },
   {
    "duration": 22,
    "start_time": "2023-11-25T12:34:54.197Z"
   },
   {
    "duration": 7,
    "start_time": "2023-11-25T12:34:54.220Z"
   },
   {
    "duration": 26,
    "start_time": "2023-11-25T12:34:54.228Z"
   },
   {
    "duration": 14,
    "start_time": "2023-11-25T12:34:54.256Z"
   },
   {
    "duration": 7,
    "start_time": "2023-11-25T12:34:54.271Z"
   },
   {
    "duration": 55,
    "start_time": "2023-11-25T12:34:54.279Z"
   },
   {
    "duration": 13,
    "start_time": "2023-11-25T12:34:54.335Z"
   },
   {
    "duration": 14,
    "start_time": "2023-11-25T12:36:13.784Z"
   },
   {
    "duration": 31,
    "start_time": "2023-11-25T12:37:08.906Z"
   },
   {
    "duration": 13,
    "start_time": "2023-11-25T12:38:11.661Z"
   },
   {
    "duration": 1076,
    "start_time": "2023-11-25T12:38:34.888Z"
   },
   {
    "duration": 2,
    "start_time": "2023-11-25T12:38:35.966Z"
   },
   {
    "duration": 105,
    "start_time": "2023-11-25T12:38:35.970Z"
   },
   {
    "duration": 11,
    "start_time": "2023-11-25T12:38:36.076Z"
   },
   {
    "duration": 31,
    "start_time": "2023-11-25T12:38:36.089Z"
   },
   {
    "duration": 35,
    "start_time": "2023-11-25T12:38:36.122Z"
   },
   {
    "duration": 37,
    "start_time": "2023-11-25T12:38:36.159Z"
   },
   {
    "duration": 42,
    "start_time": "2023-11-25T12:38:36.198Z"
   },
   {
    "duration": 89,
    "start_time": "2023-11-25T12:38:36.241Z"
   },
   {
    "duration": 12,
    "start_time": "2023-11-25T12:38:36.332Z"
   },
   {
    "duration": 44,
    "start_time": "2023-11-25T12:38:36.345Z"
   },
   {
    "duration": 16,
    "start_time": "2023-11-25T12:38:36.391Z"
   },
   {
    "duration": 58,
    "start_time": "2023-11-25T12:38:36.409Z"
   },
   {
    "duration": 39,
    "start_time": "2023-11-25T12:38:36.469Z"
   },
   {
    "duration": 35,
    "start_time": "2023-11-25T12:38:36.510Z"
   },
   {
    "duration": 45,
    "start_time": "2023-11-25T12:38:36.547Z"
   },
   {
    "duration": 141,
    "start_time": "2023-11-25T12:38:36.593Z"
   },
   {
    "duration": 3,
    "start_time": "2023-11-25T12:38:36.736Z"
   },
   {
    "duration": 23,
    "start_time": "2023-11-25T12:38:36.741Z"
   },
   {
    "duration": 43,
    "start_time": "2023-11-25T12:38:36.765Z"
   },
   {
    "duration": 53,
    "start_time": "2023-11-25T12:38:36.810Z"
   },
   {
    "duration": 36,
    "start_time": "2023-11-25T12:38:36.864Z"
   },
   {
    "duration": 38,
    "start_time": "2023-11-25T12:38:36.901Z"
   },
   {
    "duration": 16,
    "start_time": "2023-11-25T12:38:36.941Z"
   },
   {
    "duration": 43,
    "start_time": "2023-11-25T12:38:36.958Z"
   },
   {
    "duration": 47,
    "start_time": "2023-11-25T12:38:37.002Z"
   },
   {
    "duration": 40,
    "start_time": "2023-11-25T12:38:37.051Z"
   },
   {
    "duration": 43,
    "start_time": "2023-11-25T12:38:37.092Z"
   },
   {
    "duration": 32,
    "start_time": "2023-11-25T12:38:37.136Z"
   },
   {
    "duration": 57,
    "start_time": "2023-11-25T12:38:37.169Z"
   },
   {
    "duration": 39,
    "start_time": "2023-11-25T12:38:37.227Z"
   },
   {
    "duration": 39,
    "start_time": "2023-11-25T12:38:37.268Z"
   },
   {
    "duration": 304,
    "start_time": "2023-11-25T12:38:37.308Z"
   },
   {
    "duration": 301,
    "start_time": "2023-11-25T12:38:37.613Z"
   },
   {
    "duration": 229,
    "start_time": "2023-11-25T12:38:37.916Z"
   },
   {
    "duration": 320,
    "start_time": "2023-11-25T12:38:38.146Z"
   },
   {
    "duration": 260,
    "start_time": "2023-11-25T12:38:38.468Z"
   },
   {
    "duration": 346,
    "start_time": "2023-11-25T12:38:38.730Z"
   },
   {
    "duration": 159,
    "start_time": "2023-11-25T12:38:39.078Z"
   },
   {
    "duration": 5,
    "start_time": "2023-11-25T12:38:39.238Z"
   },
   {
    "duration": 190,
    "start_time": "2023-11-25T12:38:39.246Z"
   },
   {
    "duration": 4,
    "start_time": "2023-11-25T12:38:39.438Z"
   },
   {
    "duration": 217,
    "start_time": "2023-11-25T12:38:39.444Z"
   },
   {
    "duration": 176,
    "start_time": "2023-11-25T12:38:39.663Z"
   },
   {
    "duration": 10,
    "start_time": "2023-11-25T12:38:39.841Z"
   },
   {
    "duration": 11,
    "start_time": "2023-11-25T12:38:39.853Z"
   },
   {
    "duration": 7,
    "start_time": "2023-11-25T12:38:39.866Z"
   },
   {
    "duration": 45,
    "start_time": "2023-11-25T12:38:39.875Z"
   },
   {
    "duration": 14,
    "start_time": "2023-11-25T12:38:39.921Z"
   },
   {
    "duration": 21,
    "start_time": "2023-11-25T12:38:39.937Z"
   },
   {
    "duration": 32,
    "start_time": "2023-11-25T12:38:39.960Z"
   },
   {
    "duration": 25,
    "start_time": "2023-11-25T12:38:39.994Z"
   }
  ],
  "kernelspec": {
   "display_name": "Python 3 (ipykernel)",
   "language": "python",
   "name": "python3"
  },
  "language_info": {
   "codemirror_mode": {
    "name": "ipython",
    "version": 3
   },
   "file_extension": ".py",
   "mimetype": "text/x-python",
   "name": "python",
   "nbconvert_exporter": "python",
   "pygments_lexer": "ipython3",
   "version": "3.9.5"
  },
  "toc": {
   "base_numbering": 1,
   "nav_menu": {},
   "number_sections": true,
   "sideBar": true,
   "skip_h1_title": true,
   "title_cell": "Table of Contents",
   "title_sidebar": "Contents",
   "toc_cell": false,
   "toc_position": {
    "height": "calc(100% - 180px)",
    "left": "10px",
    "top": "150px",
    "width": "501.222px"
   },
   "toc_section_display": true,
   "toc_window_display": false
  }
 },
 "nbformat": 4,
 "nbformat_minor": 4
}
